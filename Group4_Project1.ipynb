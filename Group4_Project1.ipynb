{
 "cells": [
  {
   "cell_type": "markdown",
   "metadata": {},
   "source": [
    "## Import libraries and dependencies"
   ]
  },
  {
   "cell_type": "code",
   "execution_count": 65,
   "metadata": {},
   "outputs": [],
   "source": [
    "import os\n",
    "from pathlib import Path\n",
    "import pandas as pd\n",
    "import hvplot.pandas\n",
    "import seaborn as sns\n",
    "import numpy as np\n",
    "import plotly.express as px\n",
    "import panel as pn\n",
    "from panel.interact import interact\n",
    "pn.extension(\"plotly\")\n",
    "\n",
    "\n",
    "%matplotlib inline"
   ]
  },
  {
   "cell_type": "markdown",
   "metadata": {},
   "source": [
    "## Read in stock data and add new header with column names"
   ]
  },
  {
   "cell_type": "code",
   "execution_count": 66,
   "metadata": {},
   "outputs": [
    {
     "data": {
      "text/html": [
       "<div>\n",
       "<style scoped>\n",
       "    .dataframe tbody tr th:only-of-type {\n",
       "        vertical-align: middle;\n",
       "    }\n",
       "\n",
       "    .dataframe tbody tr th {\n",
       "        vertical-align: top;\n",
       "    }\n",
       "\n",
       "    .dataframe thead th {\n",
       "        text-align: right;\n",
       "    }\n",
       "</style>\n",
       "<table border=\"1\" class=\"dataframe\">\n",
       "  <thead>\n",
       "    <tr style=\"text-align: right;\">\n",
       "      <th></th>\n",
       "      <th>Null</th>\n",
       "      <th>Ticker</th>\n",
       "      <th>Company Name</th>\n",
       "      <th>Current Price</th>\n",
       "      <th>5 Year Price</th>\n",
       "      <th>Null2</th>\n",
       "      <th>5 Yr Growth</th>\n",
       "    </tr>\n",
       "  </thead>\n",
       "  <tbody>\n",
       "    <tr>\n",
       "      <th>0</th>\n",
       "      <td>NaN</td>\n",
       "      <td>CARR</td>\n",
       "      <td>Carrier Global Corp</td>\n",
       "      <td>29.15</td>\n",
       "      <td>NaN</td>\n",
       "      <td>NaN</td>\n",
       "      <td>NaN</td>\n",
       "    </tr>\n",
       "    <tr>\n",
       "      <th>1</th>\n",
       "      <td>NaN</td>\n",
       "      <td>CTVA</td>\n",
       "      <td>Corteva Inc</td>\n",
       "      <td>28.97</td>\n",
       "      <td>NaN</td>\n",
       "      <td>NaN</td>\n",
       "      <td>NaN</td>\n",
       "    </tr>\n",
       "    <tr>\n",
       "      <th>2</th>\n",
       "      <td>NaN</td>\n",
       "      <td>DOW</td>\n",
       "      <td>Dow Inc</td>\n",
       "      <td>50.09</td>\n",
       "      <td>NaN</td>\n",
       "      <td>NaN</td>\n",
       "      <td>NaN</td>\n",
       "    </tr>\n",
       "    <tr>\n",
       "      <th>3</th>\n",
       "      <td>NaN</td>\n",
       "      <td>DXC</td>\n",
       "      <td>DXC Technology Co</td>\n",
       "      <td>20.19</td>\n",
       "      <td>NaN</td>\n",
       "      <td>NaN</td>\n",
       "      <td>NaN</td>\n",
       "    </tr>\n",
       "    <tr>\n",
       "      <th>4</th>\n",
       "      <td>NaN</td>\n",
       "      <td>FTV</td>\n",
       "      <td>Fortive Corp</td>\n",
       "      <td>77.63</td>\n",
       "      <td>NaN</td>\n",
       "      <td>NaN</td>\n",
       "      <td>NaN</td>\n",
       "    </tr>\n",
       "  </tbody>\n",
       "</table>\n",
       "</div>"
      ],
      "text/plain": [
       "  Null Ticker         Company Name  Current Price  5 Year Price  Null2  \\\n",
       "0  NaN   CARR  Carrier Global Corp          29.15           NaN    NaN   \n",
       "1  NaN   CTVA          Corteva Inc          28.97           NaN    NaN   \n",
       "2  NaN    DOW              Dow Inc          50.09           NaN    NaN   \n",
       "3  NaN    DXC    DXC Technology Co          20.19           NaN    NaN   \n",
       "4  NaN    FTV         Fortive Corp          77.63           NaN    NaN   \n",
       "\n",
       "  5 Yr Growth  \n",
       "0         NaN  \n",
       "1         NaN  \n",
       "2         NaN  \n",
       "3         NaN  \n",
       "4         NaN  "
      ]
     },
     "execution_count": 66,
     "metadata": {},
     "output_type": "execute_result"
    }
   ],
   "source": [
    "one_mo_returns = pd.read_csv(Path(\"../Resources/stocks_1month_returns.csv\"), \n",
    "     names=[\"Null\", \"Ticker\",\"Company Name\", \"Current Price\", \"Null2\", \"1 Month Price\", \"1 Mth Growth\"])\n",
    "six_mo_returns = pd.read_csv(Path(\"../Resources/stocks_6month_returns.csv\"), \n",
    "     names=[\"Null\", \"Ticker\",\"Company Name\", \"Current Price\", \"Null2\", \"6 Month Price\", \"6 Mth Growth\"])\n",
    "one_yr_returns = pd.read_csv(Path(\"../Resources/stocks_1yr_returns.csv\"), \n",
    "     names=[\"Null\", \"Ticker\",\"Company Name\", \"Current Price\", \"Null2\", \"1 Year Price\", \"1 Yr Growth\"])\n",
    "five_yr_returns = pd.read_csv(Path(\"../Resources/stocks_5yr_returns.csv\"), \n",
    "     names=[\"Null\", \"Ticker\",\"Company Name\", \"Current Price\", \"5 Year Price\", \"Null2\", \"5 Yr Growth\"])\n",
    "sp500_returns = pd.read_csv(Path(\"../Resources/index_sp500_returns.csv\"))\n",
    "sp500_sectors = pd.read_csv(Path(\"../Resources/sp500_sectors.csv\"))\n",
    "\n",
    "# View data head\n",
    "five_yr_returns.head()\n"
   ]
  },
  {
   "cell_type": "markdown",
   "metadata": {},
   "source": [
    "## Rename columns in sp500_returns to match other dataframes"
   ]
  },
  {
   "cell_type": "code",
   "execution_count": 67,
   "metadata": {},
   "outputs": [
    {
     "data": {
      "text/html": [
       "<div>\n",
       "<style scoped>\n",
       "    .dataframe tbody tr th:only-of-type {\n",
       "        vertical-align: middle;\n",
       "    }\n",
       "\n",
       "    .dataframe tbody tr th {\n",
       "        vertical-align: top;\n",
       "    }\n",
       "\n",
       "    .dataframe thead th {\n",
       "        text-align: right;\n",
       "    }\n",
       "</style>\n",
       "<table border=\"1\" class=\"dataframe\">\n",
       "  <thead>\n",
       "    <tr style=\"text-align: right;\">\n",
       "      <th></th>\n",
       "      <th>Ticker</th>\n",
       "      <th>Company Name</th>\n",
       "      <th>Current Price</th>\n",
       "      <th>1 Month Price</th>\n",
       "      <th>1 Mth Growth</th>\n",
       "      <th>6 Month Price</th>\n",
       "      <th>6 Mth Growth</th>\n",
       "      <th>1 Year Price</th>\n",
       "      <th>1 Yr Growth</th>\n",
       "      <th>3year</th>\n",
       "      <th>3 yr growth</th>\n",
       "      <th>5 Year Price</th>\n",
       "      <th>5 Yr Growth</th>\n",
       "    </tr>\n",
       "  </thead>\n",
       "  <tbody>\n",
       "    <tr>\n",
       "      <th>0</th>\n",
       "      <td>INX</td>\n",
       "      <td>S&amp;P 500</td>\n",
       "      <td>3383.54</td>\n",
       "      <td>3372.85</td>\n",
       "      <td>0.32%</td>\n",
       "      <td>2386.13</td>\n",
       "      <td>41.80%</td>\n",
       "      <td>2997.96</td>\n",
       "      <td>12.86%</td>\n",
       "      <td>2125.77</td>\n",
       "      <td>59.17%</td>\n",
       "      <td>1953.03</td>\n",
       "      <td>73.25%</td>\n",
       "    </tr>\n",
       "  </tbody>\n",
       "</table>\n",
       "</div>"
      ],
      "text/plain": [
       "  Ticker Company Name  Current Price  1 Month Price 1 Mth Growth  \\\n",
       "0    INX      S&P 500        3383.54        3372.85        0.32%   \n",
       "\n",
       "   6 Month Price 6 Mth Growth  1 Year Price 1 Yr Growth    3year 3 yr growth  \\\n",
       "0        2386.13       41.80%       2997.96      12.86%  2125.77      59.17%   \n",
       "\n",
       "   5 Year Price 5 Yr Growth  \n",
       "0       1953.03      73.25%  "
      ]
     },
     "execution_count": 67,
     "metadata": {},
     "output_type": "execute_result"
    }
   ],
   "source": [
    "sp500_returns = sp500_returns.rename(columns={\"Ticker\": \"Ticker\", \"Name\": \"Company Name\", \"Current Price\": \"Current Price\", \"1month\": \"1 Month Price\", \"1mth growth\": \"1 Mth Growth\", \"6month\": \"6 Month Price\",\"6mth growth\": \"6 Mth Growth\", \"1year\": \"1 Year Price\", \"1 yr growth\": \"1 Yr Growth\", \"5year\": \"5 Year Price\", \"5 yr growth\": \"5 Yr Growth\"})\n",
    "sp500_returns.head()"
   ]
  },
  {
   "cell_type": "markdown",
   "metadata": {},
   "source": [
    "## Assign Sector value to sp500 data"
   ]
  },
  {
   "cell_type": "code",
   "execution_count": 68,
   "metadata": {},
   "outputs": [
    {
     "data": {
      "text/html": [
       "<div>\n",
       "<style scoped>\n",
       "    .dataframe tbody tr th:only-of-type {\n",
       "        vertical-align: middle;\n",
       "    }\n",
       "\n",
       "    .dataframe tbody tr th {\n",
       "        vertical-align: top;\n",
       "    }\n",
       "\n",
       "    .dataframe thead th {\n",
       "        text-align: right;\n",
       "    }\n",
       "</style>\n",
       "<table border=\"1\" class=\"dataframe\">\n",
       "  <thead>\n",
       "    <tr style=\"text-align: right;\">\n",
       "      <th></th>\n",
       "      <th>Ticker</th>\n",
       "      <th>Company Name</th>\n",
       "      <th>Current Price</th>\n",
       "      <th>1 Month Price</th>\n",
       "      <th>1 Mth Growth</th>\n",
       "      <th>6 Month Price</th>\n",
       "      <th>6 Mth Growth</th>\n",
       "      <th>1 Year Price</th>\n",
       "      <th>1 Yr Growth</th>\n",
       "      <th>3year</th>\n",
       "      <th>3 yr growth</th>\n",
       "      <th>5 Year Price</th>\n",
       "      <th>5 Yr Growth</th>\n",
       "      <th>Sector</th>\n",
       "    </tr>\n",
       "  </thead>\n",
       "  <tbody>\n",
       "    <tr>\n",
       "      <th>0</th>\n",
       "      <td>INX</td>\n",
       "      <td>S&amp;P 500</td>\n",
       "      <td>3383.54</td>\n",
       "      <td>3372.85</td>\n",
       "      <td>0.32%</td>\n",
       "      <td>2386.13</td>\n",
       "      <td>41.80%</td>\n",
       "      <td>2997.96</td>\n",
       "      <td>12.86%</td>\n",
       "      <td>2125.77</td>\n",
       "      <td>59.17%</td>\n",
       "      <td>1953.03</td>\n",
       "      <td>73.25%</td>\n",
       "      <td>INDEX</td>\n",
       "    </tr>\n",
       "  </tbody>\n",
       "</table>\n",
       "</div>"
      ],
      "text/plain": [
       "  Ticker Company Name  Current Price  1 Month Price 1 Mth Growth  \\\n",
       "0    INX      S&P 500        3383.54        3372.85        0.32%   \n",
       "\n",
       "   6 Month Price 6 Mth Growth  1 Year Price 1 Yr Growth    3year 3 yr growth  \\\n",
       "0        2386.13       41.80%       2997.96      12.86%  2125.77      59.17%   \n",
       "\n",
       "   5 Year Price 5 Yr Growth Sector  \n",
       "0       1953.03      73.25%  INDEX  "
      ]
     },
     "execution_count": 68,
     "metadata": {},
     "output_type": "execute_result"
    }
   ],
   "source": [
    "sector = 'INDEX'\n",
    "sp500_returns['Sector'] = sector\n",
    "sp500_returns.head()"
   ]
  },
  {
   "cell_type": "markdown",
   "metadata": {},
   "source": [
    "## Rename columns in sp500_sectors to match other dataframes"
   ]
  },
  {
   "cell_type": "code",
   "execution_count": 69,
   "metadata": {},
   "outputs": [
    {
     "data": {
      "text/html": [
       "<div>\n",
       "<style scoped>\n",
       "    .dataframe tbody tr th:only-of-type {\n",
       "        vertical-align: middle;\n",
       "    }\n",
       "\n",
       "    .dataframe tbody tr th {\n",
       "        vertical-align: top;\n",
       "    }\n",
       "\n",
       "    .dataframe thead th {\n",
       "        text-align: right;\n",
       "    }\n",
       "</style>\n",
       "<table border=\"1\" class=\"dataframe\">\n",
       "  <thead>\n",
       "    <tr style=\"text-align: right;\">\n",
       "      <th></th>\n",
       "      <th>Company Name</th>\n",
       "      <th>Ticker</th>\n",
       "      <th>Pct of Portfolio</th>\n",
       "      <th>Sector</th>\n",
       "      <th>Zacks G Sector</th>\n",
       "    </tr>\n",
       "  </thead>\n",
       "  <tbody>\n",
       "    <tr>\n",
       "      <th>0</th>\n",
       "      <td>ACTIVISION BLZD</td>\n",
       "      <td>ATVI</td>\n",
       "      <td>0.2%</td>\n",
       "      <td>TECHNOLOGY</td>\n",
       "      <td>COMMUNICATION SVCS</td>\n",
       "    </tr>\n",
       "    <tr>\n",
       "      <th>1</th>\n",
       "      <td>ALPHABET INC-A</td>\n",
       "      <td>GOOGL</td>\n",
       "      <td>1.6%</td>\n",
       "      <td>TECHNOLOGY</td>\n",
       "      <td>COMMUNICATION SVCS</td>\n",
       "    </tr>\n",
       "    <tr>\n",
       "      <th>2</th>\n",
       "      <td>ALPHABET INC-C</td>\n",
       "      <td>GOOG</td>\n",
       "      <td>1.6%</td>\n",
       "      <td>TECHNOLOGY</td>\n",
       "      <td>COMMUNICATION SVCS</td>\n",
       "    </tr>\n",
       "    <tr>\n",
       "      <th>3</th>\n",
       "      <td>AT&amp;T INC</td>\n",
       "      <td>T</td>\n",
       "      <td>0.7%</td>\n",
       "      <td>UTILITIES</td>\n",
       "      <td>COMMUNICATION SVCS</td>\n",
       "    </tr>\n",
       "    <tr>\n",
       "      <th>4</th>\n",
       "      <td>CENTURYLINK INC</td>\n",
       "      <td>CTL</td>\n",
       "      <td>0.0%</td>\n",
       "      <td>UTILITIES</td>\n",
       "      <td>COMMUNICATION SVCS</td>\n",
       "    </tr>\n",
       "  </tbody>\n",
       "</table>\n",
       "</div>"
      ],
      "text/plain": [
       "      Company Name Ticker Pct of Portfolio      Sector      Zacks G Sector\n",
       "0  ACTIVISION BLZD   ATVI             0.2%  TECHNOLOGY  COMMUNICATION SVCS\n",
       "1   ALPHABET INC-A  GOOGL             1.6%  TECHNOLOGY  COMMUNICATION SVCS\n",
       "2   ALPHABET INC-C   GOOG             1.6%  TECHNOLOGY  COMMUNICATION SVCS\n",
       "3         AT&T INC      T             0.7%   UTILITIES  COMMUNICATION SVCS\n",
       "4  CENTURYLINK INC    CTL             0.0%   UTILITIES  COMMUNICATION SVCS"
      ]
     },
     "execution_count": 69,
     "metadata": {},
     "output_type": "execute_result"
    }
   ],
   "source": [
    "col_names = [\"Company Name\", \"Ticker\", \"Pct of Portfolio\", \"Sector\", \"Zacks G Sector\"]\n",
    "sp500_sectors.columns = col_names\n",
    "sp500_sectors.head()"
   ]
  },
  {
   "cell_type": "markdown",
   "metadata": {},
   "source": [
    "## Delete empty columns and unnecessary columns"
   ]
  },
  {
   "cell_type": "code",
   "execution_count": 70,
   "metadata": {},
   "outputs": [
    {
     "data": {
      "text/html": [
       "<div>\n",
       "<style scoped>\n",
       "    .dataframe tbody tr th:only-of-type {\n",
       "        vertical-align: middle;\n",
       "    }\n",
       "\n",
       "    .dataframe tbody tr th {\n",
       "        vertical-align: top;\n",
       "    }\n",
       "\n",
       "    .dataframe thead th {\n",
       "        text-align: right;\n",
       "    }\n",
       "</style>\n",
       "<table border=\"1\" class=\"dataframe\">\n",
       "  <thead>\n",
       "    <tr style=\"text-align: right;\">\n",
       "      <th></th>\n",
       "      <th>Ticker</th>\n",
       "      <th>5 Year Price</th>\n",
       "      <th>5 Yr Growth</th>\n",
       "    </tr>\n",
       "  </thead>\n",
       "  <tbody>\n",
       "    <tr>\n",
       "      <th>0</th>\n",
       "      <td>CARR</td>\n",
       "      <td>NaN</td>\n",
       "      <td>NaN</td>\n",
       "    </tr>\n",
       "    <tr>\n",
       "      <th>1</th>\n",
       "      <td>CTVA</td>\n",
       "      <td>NaN</td>\n",
       "      <td>NaN</td>\n",
       "    </tr>\n",
       "    <tr>\n",
       "      <th>2</th>\n",
       "      <td>DOW</td>\n",
       "      <td>NaN</td>\n",
       "      <td>NaN</td>\n",
       "    </tr>\n",
       "    <tr>\n",
       "      <th>3</th>\n",
       "      <td>DXC</td>\n",
       "      <td>NaN</td>\n",
       "      <td>NaN</td>\n",
       "    </tr>\n",
       "    <tr>\n",
       "      <th>4</th>\n",
       "      <td>FTV</td>\n",
       "      <td>NaN</td>\n",
       "      <td>NaN</td>\n",
       "    </tr>\n",
       "  </tbody>\n",
       "</table>\n",
       "</div>"
      ],
      "text/plain": [
       "  Ticker  5 Year Price 5 Yr Growth\n",
       "0   CARR           NaN         NaN\n",
       "1   CTVA           NaN         NaN\n",
       "2    DOW           NaN         NaN\n",
       "3    DXC           NaN         NaN\n",
       "4    FTV           NaN         NaN"
      ]
     },
     "execution_count": 70,
     "metadata": {},
     "output_type": "execute_result"
    }
   ],
   "source": [
    "one_month = one_mo_returns.drop(columns=[\"Null\", \"Null2\"])\n",
    "six_month = six_mo_returns.drop(columns=[\"Null\", \"Company Name\", \"Current Price\", \"Null2\"])\n",
    "one_year = one_yr_returns.drop(columns=[\"Null\", \"Company Name\", \"Current Price\", \"Null2\"])\n",
    "five_year = five_yr_returns.drop(columns=[\"Null\", \"Company Name\", \"Current Price\", \"Null2\"])\n",
    "sp500 = sp500_returns.drop(columns=[\"3year\", \"3 yr growth\"])\n",
    "sectors = sp500_sectors.drop(columns=[\"Company Name\", \"Pct of Portfolio\", \"Zacks G Sector\"])\n",
    "five_year.head()\n"
   ]
  },
  {
   "cell_type": "markdown",
   "metadata": {},
   "source": [
    "## Drop Nulls"
   ]
  },
  {
   "cell_type": "code",
   "execution_count": 71,
   "metadata": {},
   "outputs": [
    {
     "data": {
      "text/html": [
       "<div>\n",
       "<style scoped>\n",
       "    .dataframe tbody tr th:only-of-type {\n",
       "        vertical-align: middle;\n",
       "    }\n",
       "\n",
       "    .dataframe tbody tr th {\n",
       "        vertical-align: top;\n",
       "    }\n",
       "\n",
       "    .dataframe thead th {\n",
       "        text-align: right;\n",
       "    }\n",
       "</style>\n",
       "<table border=\"1\" class=\"dataframe\">\n",
       "  <thead>\n",
       "    <tr style=\"text-align: right;\">\n",
       "      <th></th>\n",
       "      <th>Ticker</th>\n",
       "      <th>6 Month Price</th>\n",
       "      <th>6 Mth Growth</th>\n",
       "    </tr>\n",
       "  </thead>\n",
       "  <tbody>\n",
       "    <tr>\n",
       "      <th>2</th>\n",
       "      <td>FCX</td>\n",
       "      <td>6.24</td>\n",
       "      <td>162.18%</td>\n",
       "    </tr>\n",
       "    <tr>\n",
       "      <th>3</th>\n",
       "      <td>FDX</td>\n",
       "      <td>90.49</td>\n",
       "      <td>161.18%</td>\n",
       "    </tr>\n",
       "    <tr>\n",
       "      <th>4</th>\n",
       "      <td>NVDA</td>\n",
       "      <td>196.40</td>\n",
       "      <td>162.16%</td>\n",
       "    </tr>\n",
       "    <tr>\n",
       "      <th>5</th>\n",
       "      <td>LB</td>\n",
       "      <td>11.65</td>\n",
       "      <td>149.36%</td>\n",
       "    </tr>\n",
       "    <tr>\n",
       "      <th>6</th>\n",
       "      <td>HAL</td>\n",
       "      <td>5.94</td>\n",
       "      <td>141.25%</td>\n",
       "    </tr>\n",
       "  </tbody>\n",
       "</table>\n",
       "</div>"
      ],
      "text/plain": [
       "  Ticker  6 Month Price 6 Mth Growth\n",
       "2    FCX           6.24      162.18%\n",
       "3    FDX          90.49      161.18%\n",
       "4   NVDA         196.40      162.16%\n",
       "5     LB          11.65      149.36%\n",
       "6    HAL           5.94      141.25%"
      ]
     },
     "execution_count": 71,
     "metadata": {},
     "output_type": "execute_result"
    }
   ],
   "source": [
    "one_month.dropna(inplace=True)\n",
    "six_month.dropna(inplace=True)\n",
    "one_year.dropna(inplace=True)\n",
    "five_year.dropna(inplace=True)\n",
    "sp500.dropna(inplace=True)\n",
    "sectors.dropna(inplace=True)\n",
    "\n",
    "six_month.head()"
   ]
  },
  {
   "cell_type": "markdown",
   "metadata": {},
   "source": [
    "## Set Ticker column as Index"
   ]
  },
  {
   "cell_type": "code",
   "execution_count": 72,
   "metadata": {},
   "outputs": [
    {
     "data": {
      "text/html": [
       "<div>\n",
       "<style scoped>\n",
       "    .dataframe tbody tr th:only-of-type {\n",
       "        vertical-align: middle;\n",
       "    }\n",
       "\n",
       "    .dataframe tbody tr th {\n",
       "        vertical-align: top;\n",
       "    }\n",
       "\n",
       "    .dataframe thead th {\n",
       "        text-align: right;\n",
       "    }\n",
       "</style>\n",
       "<table border=\"1\" class=\"dataframe\">\n",
       "  <thead>\n",
       "    <tr style=\"text-align: right;\">\n",
       "      <th></th>\n",
       "      <th>6 Month Price</th>\n",
       "      <th>6 Mth Growth</th>\n",
       "    </tr>\n",
       "    <tr>\n",
       "      <th>Ticker</th>\n",
       "      <th></th>\n",
       "      <th></th>\n",
       "    </tr>\n",
       "  </thead>\n",
       "  <tbody>\n",
       "    <tr>\n",
       "      <th>FCX</th>\n",
       "      <td>6.24</td>\n",
       "      <td>162.18%</td>\n",
       "    </tr>\n",
       "    <tr>\n",
       "      <th>FDX</th>\n",
       "      <td>90.49</td>\n",
       "      <td>161.18%</td>\n",
       "    </tr>\n",
       "    <tr>\n",
       "      <th>NVDA</th>\n",
       "      <td>196.40</td>\n",
       "      <td>162.16%</td>\n",
       "    </tr>\n",
       "    <tr>\n",
       "      <th>LB</th>\n",
       "      <td>11.65</td>\n",
       "      <td>149.36%</td>\n",
       "    </tr>\n",
       "    <tr>\n",
       "      <th>HAL</th>\n",
       "      <td>5.94</td>\n",
       "      <td>141.25%</td>\n",
       "    </tr>\n",
       "  </tbody>\n",
       "</table>\n",
       "</div>"
      ],
      "text/plain": [
       "        6 Month Price 6 Mth Growth\n",
       "Ticker                            \n",
       "FCX              6.24      162.18%\n",
       "FDX             90.49      161.18%\n",
       "NVDA           196.40      162.16%\n",
       "LB              11.65      149.36%\n",
       "HAL              5.94      141.25%"
      ]
     },
     "execution_count": 72,
     "metadata": {},
     "output_type": "execute_result"
    }
   ],
   "source": [
    "one_month.set_index('Ticker', inplace=True)\n",
    "six_month.set_index('Ticker', inplace=True)\n",
    "one_year.set_index('Ticker', inplace=True)\n",
    "five_year.set_index('Ticker', inplace=True)\n",
    "sp500.set_index('Ticker', inplace=True)\n",
    "sectors.set_index('Ticker', inplace=True)\n",
    "six_month.head()"
   ]
  },
  {
   "cell_type": "markdown",
   "metadata": {},
   "source": [
    "## Combine Stocks dataframes and Sectors dataframe using columns as axis"
   ]
  },
  {
   "cell_type": "code",
   "execution_count": 73,
   "metadata": {},
   "outputs": [
    {
     "data": {
      "text/html": [
       "<div>\n",
       "<style scoped>\n",
       "    .dataframe tbody tr th:only-of-type {\n",
       "        vertical-align: middle;\n",
       "    }\n",
       "\n",
       "    .dataframe tbody tr th {\n",
       "        vertical-align: top;\n",
       "    }\n",
       "\n",
       "    .dataframe thead th {\n",
       "        text-align: right;\n",
       "    }\n",
       "</style>\n",
       "<table border=\"1\" class=\"dataframe\">\n",
       "  <thead>\n",
       "    <tr style=\"text-align: right;\">\n",
       "      <th></th>\n",
       "      <th>Sector</th>\n",
       "      <th>Company Name</th>\n",
       "      <th>Current Price</th>\n",
       "      <th>1 Month Price</th>\n",
       "      <th>1 Mth Growth</th>\n",
       "      <th>6 Month Price</th>\n",
       "      <th>6 Mth Growth</th>\n",
       "      <th>1 Year Price</th>\n",
       "      <th>1 Yr Growth</th>\n",
       "      <th>5 Year Price</th>\n",
       "      <th>5 Yr Growth</th>\n",
       "    </tr>\n",
       "    <tr>\n",
       "      <th>Ticker</th>\n",
       "      <th></th>\n",
       "      <th></th>\n",
       "      <th></th>\n",
       "      <th></th>\n",
       "      <th></th>\n",
       "      <th></th>\n",
       "      <th></th>\n",
       "      <th></th>\n",
       "      <th></th>\n",
       "      <th></th>\n",
       "      <th></th>\n",
       "    </tr>\n",
       "  </thead>\n",
       "  <tbody>\n",
       "    <tr>\n",
       "      <th>NVR</th>\n",
       "      <td>CONSUMER DISCRETION</td>\n",
       "      <td>NVR, Inc.</td>\n",
       "      <td>4142.22</td>\n",
       "      <td>4044.81</td>\n",
       "      <td>2.41%</td>\n",
       "      <td>2321.78</td>\n",
       "      <td>78.41%</td>\n",
       "      <td>3576.34</td>\n",
       "      <td>15.82%</td>\n",
       "      <td>1574.99</td>\n",
       "      <td>163.00%</td>\n",
       "    </tr>\n",
       "    <tr>\n",
       "      <th>AMZN</th>\n",
       "      <td>CONSUMER DISCRETION</td>\n",
       "      <td>Amazon.com, Inc.</td>\n",
       "      <td>3102.97</td>\n",
       "      <td>3148.02</td>\n",
       "      <td>-1.43%</td>\n",
       "      <td>1689.15</td>\n",
       "      <td>83.70%</td>\n",
       "      <td>1807.84</td>\n",
       "      <td>71.64%</td>\n",
       "      <td>522.37</td>\n",
       "      <td>494.02%</td>\n",
       "    </tr>\n",
       "    <tr>\n",
       "      <th>BKNG</th>\n",
       "      <td>CONSUMER DISCRETION</td>\n",
       "      <td>Booking Holdings Inc</td>\n",
       "      <td>1784.59</td>\n",
       "      <td>1778.87</td>\n",
       "      <td>0.32%</td>\n",
       "      <td>1289.67</td>\n",
       "      <td>38.38%</td>\n",
       "      <td>2072.95</td>\n",
       "      <td>-13.91%</td>\n",
       "      <td>1318.80</td>\n",
       "      <td>35.32%</td>\n",
       "    </tr>\n",
       "    <tr>\n",
       "      <th>GOOG</th>\n",
       "      <td>TECHNOLOGY</td>\n",
       "      <td>Alphabet Inc Class C</td>\n",
       "      <td>1519.28</td>\n",
       "      <td>1507.73</td>\n",
       "      <td>0.77%</td>\n",
       "      <td>1084.33</td>\n",
       "      <td>40.11%</td>\n",
       "      <td>1231.30</td>\n",
       "      <td>23.39%</td>\n",
       "      <td>635.14</td>\n",
       "      <td>139.20%</td>\n",
       "    </tr>\n",
       "    <tr>\n",
       "      <th>GOOGL</th>\n",
       "      <td>TECHNOLOGY</td>\n",
       "      <td>Alphabet Inc Class A</td>\n",
       "      <td>1508.83</td>\n",
       "      <td>1504.63</td>\n",
       "      <td>0.28%</td>\n",
       "      <td>1073.00</td>\n",
       "      <td>40.62%</td>\n",
       "      <td>1231.63</td>\n",
       "      <td>22.51%</td>\n",
       "      <td>665.07</td>\n",
       "      <td>126.87%</td>\n",
       "    </tr>\n",
       "  </tbody>\n",
       "</table>\n",
       "</div>"
      ],
      "text/plain": [
       "                     Sector          Company Name  Current Price  \\\n",
       "Ticker                                                             \n",
       "NVR     CONSUMER DISCRETION             NVR, Inc.        4142.22   \n",
       "AMZN    CONSUMER DISCRETION      Amazon.com, Inc.        3102.97   \n",
       "BKNG    CONSUMER DISCRETION  Booking Holdings Inc        1784.59   \n",
       "GOOG             TECHNOLOGY  Alphabet Inc Class C        1519.28   \n",
       "GOOGL            TECHNOLOGY  Alphabet Inc Class A        1508.83   \n",
       "\n",
       "        1 Month Price 1 Mth Growth  6 Month Price 6 Mth Growth  1 Year Price  \\\n",
       "Ticker                                                                         \n",
       "NVR           4044.81        2.41%        2321.78       78.41%       3576.34   \n",
       "AMZN          3148.02       -1.43%        1689.15       83.70%       1807.84   \n",
       "BKNG          1778.87        0.32%        1289.67       38.38%       2072.95   \n",
       "GOOG          1507.73        0.77%        1084.33       40.11%       1231.30   \n",
       "GOOGL         1504.63        0.28%        1073.00       40.62%       1231.63   \n",
       "\n",
       "       1 Yr Growth  5 Year Price 5 Yr Growth  \n",
       "Ticker                                        \n",
       "NVR         15.82%       1574.99     163.00%  \n",
       "AMZN        71.64%        522.37     494.02%  \n",
       "BKNG       -13.91%       1318.80      35.32%  \n",
       "GOOG        23.39%        635.14     139.20%  \n",
       "GOOGL       22.51%        665.07     126.87%  "
      ]
     },
     "execution_count": 73,
     "metadata": {},
     "output_type": "execute_result"
    }
   ],
   "source": [
    "combined_stocks = pd.concat([sectors, one_month, six_month, one_year, five_year], axis=\"columns\", join=\"inner\", sort=False)\n",
    "combined_stocks.fillna(0, inplace=True)\n",
    "combined_stocks.sort_values(by=['Current Price'], inplace=True, ascending=False)\n",
    "combined_stocks.head()"
   ]
  },
  {
   "cell_type": "markdown",
   "metadata": {},
   "source": [
    "## Combine sp500 data with combined stocks and sectors dataframe using rows as axis"
   ]
  },
  {
   "cell_type": "code",
   "execution_count": 74,
   "metadata": {},
   "outputs": [
    {
     "data": {
      "text/html": [
       "<div>\n",
       "<style scoped>\n",
       "    .dataframe tbody tr th:only-of-type {\n",
       "        vertical-align: middle;\n",
       "    }\n",
       "\n",
       "    .dataframe tbody tr th {\n",
       "        vertical-align: top;\n",
       "    }\n",
       "\n",
       "    .dataframe thead th {\n",
       "        text-align: right;\n",
       "    }\n",
       "</style>\n",
       "<table border=\"1\" class=\"dataframe\">\n",
       "  <thead>\n",
       "    <tr style=\"text-align: right;\">\n",
       "      <th></th>\n",
       "      <th>Sector</th>\n",
       "      <th>Company Name</th>\n",
       "      <th>Current Price</th>\n",
       "      <th>1 Month Price</th>\n",
       "      <th>1 Mth Growth</th>\n",
       "      <th>6 Month Price</th>\n",
       "      <th>6 Mth Growth</th>\n",
       "      <th>1 Year Price</th>\n",
       "      <th>1 Yr Growth</th>\n",
       "      <th>5 Year Price</th>\n",
       "      <th>5 Yr Growth</th>\n",
       "    </tr>\n",
       "    <tr>\n",
       "      <th>Ticker</th>\n",
       "      <th></th>\n",
       "      <th></th>\n",
       "      <th></th>\n",
       "      <th></th>\n",
       "      <th></th>\n",
       "      <th></th>\n",
       "      <th></th>\n",
       "      <th></th>\n",
       "      <th></th>\n",
       "      <th></th>\n",
       "      <th></th>\n",
       "    </tr>\n",
       "  </thead>\n",
       "  <tbody>\n",
       "    <tr>\n",
       "      <th>NVR</th>\n",
       "      <td>CONSUMER DISCRETION</td>\n",
       "      <td>NVR, Inc.</td>\n",
       "      <td>4142.22</td>\n",
       "      <td>4044.81</td>\n",
       "      <td>2.41%</td>\n",
       "      <td>2321.78</td>\n",
       "      <td>78.41%</td>\n",
       "      <td>3576.34</td>\n",
       "      <td>15.82%</td>\n",
       "      <td>1574.99</td>\n",
       "      <td>163.00%</td>\n",
       "    </tr>\n",
       "    <tr>\n",
       "      <th>INX</th>\n",
       "      <td>INDEX</td>\n",
       "      <td>S&amp;P 500</td>\n",
       "      <td>3383.54</td>\n",
       "      <td>3372.85</td>\n",
       "      <td>0.32%</td>\n",
       "      <td>2386.13</td>\n",
       "      <td>41.80%</td>\n",
       "      <td>2997.96</td>\n",
       "      <td>12.86%</td>\n",
       "      <td>1953.03</td>\n",
       "      <td>73.25%</td>\n",
       "    </tr>\n",
       "    <tr>\n",
       "      <th>AMZN</th>\n",
       "      <td>CONSUMER DISCRETION</td>\n",
       "      <td>Amazon.com, Inc.</td>\n",
       "      <td>3102.97</td>\n",
       "      <td>3148.02</td>\n",
       "      <td>-1.43%</td>\n",
       "      <td>1689.15</td>\n",
       "      <td>83.70%</td>\n",
       "      <td>1807.84</td>\n",
       "      <td>71.64%</td>\n",
       "      <td>522.37</td>\n",
       "      <td>494.02%</td>\n",
       "    </tr>\n",
       "    <tr>\n",
       "      <th>BKNG</th>\n",
       "      <td>CONSUMER DISCRETION</td>\n",
       "      <td>Booking Holdings Inc</td>\n",
       "      <td>1784.59</td>\n",
       "      <td>1778.87</td>\n",
       "      <td>0.32%</td>\n",
       "      <td>1289.67</td>\n",
       "      <td>38.38%</td>\n",
       "      <td>2072.95</td>\n",
       "      <td>-13.91%</td>\n",
       "      <td>1318.80</td>\n",
       "      <td>35.32%</td>\n",
       "    </tr>\n",
       "    <tr>\n",
       "      <th>GOOG</th>\n",
       "      <td>TECHNOLOGY</td>\n",
       "      <td>Alphabet Inc Class C</td>\n",
       "      <td>1519.28</td>\n",
       "      <td>1507.73</td>\n",
       "      <td>0.77%</td>\n",
       "      <td>1084.33</td>\n",
       "      <td>40.11%</td>\n",
       "      <td>1231.30</td>\n",
       "      <td>23.39%</td>\n",
       "      <td>635.14</td>\n",
       "      <td>139.20%</td>\n",
       "    </tr>\n",
       "  </tbody>\n",
       "</table>\n",
       "</div>"
      ],
      "text/plain": [
       "                     Sector          Company Name  Current Price  \\\n",
       "Ticker                                                             \n",
       "NVR     CONSUMER DISCRETION             NVR, Inc.        4142.22   \n",
       "INX                   INDEX               S&P 500        3383.54   \n",
       "AMZN    CONSUMER DISCRETION      Amazon.com, Inc.        3102.97   \n",
       "BKNG    CONSUMER DISCRETION  Booking Holdings Inc        1784.59   \n",
       "GOOG             TECHNOLOGY  Alphabet Inc Class C        1519.28   \n",
       "\n",
       "        1 Month Price 1 Mth Growth  6 Month Price 6 Mth Growth  1 Year Price  \\\n",
       "Ticker                                                                         \n",
       "NVR           4044.81        2.41%        2321.78       78.41%       3576.34   \n",
       "INX           3372.85        0.32%        2386.13       41.80%       2997.96   \n",
       "AMZN          3148.02       -1.43%        1689.15       83.70%       1807.84   \n",
       "BKNG          1778.87        0.32%        1289.67       38.38%       2072.95   \n",
       "GOOG          1507.73        0.77%        1084.33       40.11%       1231.30   \n",
       "\n",
       "       1 Yr Growth  5 Year Price 5 Yr Growth  \n",
       "Ticker                                        \n",
       "NVR         15.82%       1574.99     163.00%  \n",
       "INX         12.86%       1953.03      73.25%  \n",
       "AMZN        71.64%        522.37     494.02%  \n",
       "BKNG       -13.91%       1318.80      35.32%  \n",
       "GOOG        23.39%        635.14     139.20%  "
      ]
     },
     "execution_count": 74,
     "metadata": {},
     "output_type": "execute_result"
    }
   ],
   "source": [
    "combo_stocks_sp500 = pd.concat([combined_stocks, sp500], axis=\"rows\", join=\"inner\", sort=False)\n",
    "combo_stocks_sp500.sort_values(by=['Current Price'], inplace=True, ascending=False)\n",
    "combo_stocks_sp500.head()"
   ]
  },
  {
   "cell_type": "markdown",
   "metadata": {},
   "source": [
    "## Group stocks by Sector"
   ]
  },
  {
   "cell_type": "code",
   "execution_count": 79,
   "metadata": {},
   "outputs": [
    {
     "data": {
      "application/vnd.plotly.v1+json": {
       "config": {
        "plotlyServerURL": "https://plot.ly"
       },
       "data": [
        {
         "alignmentgroup": "True",
         "hovertemplate": "Sector=%{x}<br>5 Yr Growth=%{y}<extra></extra>",
         "legendgroup": "",
         "marker": {
          "color": "#636efa"
         },
         "name": "",
         "offsetgroup": "",
         "orientation": "v",
         "showlegend": false,
         "textposition": "auto",
         "type": "bar",
         "x": [
          "CONSUMER DISCRETION",
          "INDEX",
          "CONSUMER DISCRETION",
          "CONSUMER DISCRETION",
          "TECHNOLOGY",
          "TECHNOLOGY",
          "CONSUMER DISCRETION",
          "CONSUMER DISCRETION",
          "PRODUCER DURABLES",
          "FINANCIAL SERVICES",
          "MATERIALS",
          "HEALTH CARE",
          "CONSUMER DISCRETION",
          "HEALTH CARE",
          "FINANCIAL SERVICES",
          "TECHNOLOGY",
          "HEALTH CARE",
          "PRODUCER DURABLES",
          "CONSUMER DISCRETION",
          "CONSUMER DISCRETION",
          "FINANCIAL SERVICES",
          "TECHNOLOGY",
          "HEALTH CARE",
          "PRODUCER DURABLES",
          "PRODUCER DURABLES",
          "HEALTH CARE",
          "CONSUMER DISCRETION",
          "HEALTH CARE",
          "HEALTH CARE",
          "TECHNOLOGY",
          "HEALTH CARE",
          "FINANCIAL SERVICES",
          "CONSUMER DISCRETION",
          "FINANCIAL SERVICES",
          "FINANCIAL SERVICES",
          "PRODUCER DURABLES",
          "HEALTH CARE",
          "TECHNOLOGY",
          "PRODUCER DURABLES",
          "HEALTH CARE",
          "PRODUCER DURABLES",
          "TECHNOLOGY",
          "TECHNOLOGY",
          "FINANCIAL SERVICES",
          "HEALTH CARE",
          "TECHNOLOGY",
          "MATERIALS",
          "FINANCIAL SERVICES",
          "CONSUMER DISCRETION",
          "HEALTH CARE",
          "HEALTH CARE",
          "TECHNOLOGY",
          "TECHNOLOGY",
          "FINANCIAL SERVICES",
          "PRODUCER DURABLES",
          "MATERIALS",
          "FINANCIAL SERVICES",
          "HEALTH CARE",
          "TECHNOLOGY",
          "PRODUCER DURABLES",
          "PRODUCER DURABLES",
          "HEALTH CARE",
          "FINANCIAL SERVICES",
          "CONSUMER DISCRETION",
          "TECHNOLOGY",
          "FINANCIAL SERVICES",
          "PRODUCER DURABLES",
          "FINANCIAL SERVICES",
          "CONSUMER DISCRETION",
          "PRODUCER DURABLES",
          "FINANCIAL SERVICES",
          "PRODUCER DURABLES",
          "CONSUMER STAPLES",
          "CONSUMER DISCRETION",
          "MATERIALS",
          "PRODUCER DURABLES",
          "PRODUCER DURABLES",
          "FINANCIAL SERVICES",
          "HEALTH CARE",
          "FINANCIAL SERVICES",
          "TECHNOLOGY",
          "TECHNOLOGY",
          "HEALTH CARE",
          "TECHNOLOGY",
          "PRODUCER DURABLES",
          "FINANCIAL SERVICES",
          "MATERIALS",
          "CONSUMER DISCRETION",
          "TECHNOLOGY",
          "FINANCIAL SERVICES",
          "FINANCIAL SERVICES",
          "CONSUMER STAPLES",
          "PRODUCER DURABLES",
          "PRODUCER DURABLES",
          "CONSUMER STAPLES",
          "PRODUCER DURABLES",
          "PRODUCER DURABLES",
          "FINANCIAL SERVICES",
          "PRODUCER DURABLES",
          "HEALTH CARE",
          "TECHNOLOGY",
          "TECHNOLOGY",
          "HEALTH CARE",
          "HEALTH CARE",
          "HEALTH CARE",
          "FINANCIAL SERVICES",
          "PRODUCER DURABLES",
          "PRODUCER DURABLES",
          "HEALTH CARE",
          "FINANCIAL SERVICES",
          "PRODUCER DURABLES",
          "CONSUMER DISCRETION",
          "FINANCIAL SERVICES",
          "PRODUCER DURABLES",
          "TECHNOLOGY",
          "PRODUCER DURABLES",
          "HEALTH CARE",
          "HEALTH CARE",
          "FINANCIAL SERVICES",
          "PRODUCER DURABLES",
          "FINANCIAL SERVICES",
          "CONSUMER DISCRETION",
          "TECHNOLOGY",
          "FINANCIAL SERVICES",
          "TECHNOLOGY",
          "FINANCIAL SERVICES",
          "PRODUCER DURABLES",
          "PRODUCER DURABLES",
          "CONSUMER STAPLES",
          "HEALTH CARE",
          "CONSUMER STAPLES",
          "CONSUMER DISCRETION",
          "PRODUCER DURABLES",
          "PRODUCER DURABLES",
          "FINANCIAL SERVICES",
          "UTILITIES",
          "HEALTH CARE",
          "CONSUMER STAPLES",
          "TECHNOLOGY",
          "CONSUMER DISCRETION",
          "CONSUMER DISCRETION",
          "CONSUMER STAPLES",
          "PRODUCER DURABLES",
          "HEALTH CARE",
          "TECHNOLOGY",
          "TECHNOLOGY",
          "PRODUCER DURABLES",
          "CONSUMER DISCRETION",
          "MATERIALS",
          "MATERIALS",
          "FINANCIAL SERVICES",
          "TECHNOLOGY",
          "MATERIALS",
          "TECHNOLOGY",
          "TECHNOLOGY",
          "MATERIALS",
          "TECHNOLOGY",
          "FINANCIAL SERVICES",
          "UTILITIES",
          "FINANCIAL SERVICES",
          "FINANCIAL SERVICES",
          "CONSUMER DISCRETION",
          "UTILITIES",
          "MATERIALS",
          "TECHNOLOGY",
          "FINANCIAL SERVICES",
          "HEALTH CARE",
          "HEALTH CARE",
          "PRODUCER DURABLES",
          "TECHNOLOGY",
          "TECHNOLOGY",
          "FINANCIAL SERVICES",
          "FINANCIAL SERVICES",
          "PRODUCER DURABLES",
          "TECHNOLOGY",
          "CONSUMER STAPLES",
          "CONSUMER DISCRETION",
          "TECHNOLOGY",
          "HEALTH CARE",
          "UTILITIES",
          "FINANCIAL SERVICES",
          "MATERIALS",
          "MATERIALS",
          "HEALTH CARE",
          "TECHNOLOGY",
          "CONSUMER DISCRETION",
          "FINANCIAL SERVICES",
          "HEALTH CARE",
          "TECHNOLOGY",
          "HEALTH CARE",
          "CONSUMER DISCRETION",
          "CONSUMER DISCRETION",
          "FINANCIAL SERVICES",
          "PRODUCER DURABLES",
          "TECHNOLOGY",
          "PRODUCER DURABLES",
          "CONSUMER DISCRETION",
          "FINANCIAL SERVICES",
          "TECHNOLOGY",
          "FINANCIAL SERVICES",
          "TECHNOLOGY",
          "PRODUCER DURABLES",
          "CONSUMER DISCRETION",
          "FINANCIAL SERVICES",
          "TECHNOLOGY",
          "HEALTH CARE",
          "PRODUCER DURABLES",
          "MATERIALS",
          "UTILITIES",
          "FINANCIAL SERVICES",
          "PRODUCER DURABLES",
          "UTILITIES",
          "FINANCIAL SERVICES",
          "CONSUMER DISCRETION",
          "FINANCIAL SERVICES",
          "HEALTH CARE",
          "PRODUCER DURABLES",
          "CONSUMER DISCRETION",
          "ENERGY",
          "UTILITIES",
          "HEALTH CARE",
          "CONSUMER DISCRETION",
          "CONSUMER STAPLES",
          "CONSUMER DISCRETION",
          "CONSUMER DISCRETION",
          "PRODUCER DURABLES",
          "HEALTH CARE",
          "FINANCIAL SERVICES",
          "TECHNOLOGY",
          "HEALTH CARE",
          "CONSUMER DISCRETION",
          "PRODUCER DURABLES",
          "FINANCIAL SERVICES",
          "CONSUMER DISCRETION",
          "UTILITIES",
          "PRODUCER DURABLES",
          "HEALTH CARE",
          "CONSUMER DISCRETION",
          "CONSUMER DISCRETION",
          "MATERIALS",
          "FINANCIAL SERVICES",
          "HEALTH CARE",
          "HEALTH CARE",
          "UTILITIES",
          "CONSUMER STAPLES",
          "MATERIALS",
          "UTILITIES",
          "CONSUMER DISCRETION",
          "FINANCIAL SERVICES",
          "FINANCIAL SERVICES",
          "UTILITIES",
          "TECHNOLOGY",
          "CONSUMER DISCRETION",
          "PRODUCER DURABLES",
          "TECHNOLOGY",
          "TECHNOLOGY",
          "PRODUCER DURABLES",
          "ENERGY",
          "CONSUMER DISCRETION",
          "UTILITIES",
          "FINANCIAL SERVICES",
          "FINANCIAL SERVICES",
          "UTILITIES",
          "CONSUMER DISCRETION",
          "CONSUMER DISCRETION",
          "UTILITIES",
          "HEALTH CARE",
          "CONSUMER DISCRETION",
          "FINANCIAL SERVICES",
          "UTILITIES",
          "TECHNOLOGY",
          "PRODUCER DURABLES",
          "PRODUCER DURABLES",
          "MATERIALS",
          "TECHNOLOGY",
          "HEALTH CARE",
          "FINANCIAL SERVICES",
          "CONSUMER STAPLES",
          "CONSUMER STAPLES",
          "CONSUMER STAPLES",
          "FINANCIAL SERVICES",
          "FINANCIAL SERVICES",
          "HEALTH CARE",
          "PRODUCER DURABLES",
          "UTILITIES",
          "HEALTH CARE",
          "HEALTH CARE",
          "TECHNOLOGY",
          "MATERIALS",
          "MATERIALS",
          "CONSUMER STAPLES",
          "CONSUMER DISCRETION",
          "ENERGY",
          "HEALTH CARE",
          "CONSUMER STAPLES",
          "FINANCIAL SERVICES",
          "CONSUMER STAPLES",
          "TECHNOLOGY",
          "CONSUMER DISCRETION",
          "CONSUMER DISCRETION",
          "CONSUMER DISCRETION",
          "PRODUCER DURABLES",
          "CONSUMER DISCRETION",
          "UTILITIES",
          "UTILITIES",
          "UTILITIES",
          "UTILITIES",
          "CONSUMER DISCRETION",
          "PRODUCER DURABLES",
          "CONSUMER STAPLES",
          "CONSUMER STAPLES",
          "HEALTH CARE",
          "FINANCIAL SERVICES",
          "TECHNOLOGY",
          "FINANCIAL SERVICES",
          "ENERGY",
          "CONSUMER STAPLES",
          "HEALTH CARE",
          "ENERGY",
          "MATERIALS",
          "HEALTH CARE",
          "CONSUMER STAPLES",
          "CONSUMER DISCRETION",
          "FINANCIAL SERVICES",
          "TECHNOLOGY",
          "CONSUMER DISCRETION",
          "PRODUCER DURABLES",
          "MATERIALS",
          "CONSUMER STAPLES",
          "PRODUCER DURABLES",
          "PRODUCER DURABLES",
          "HEALTH CARE",
          "FINANCIAL SERVICES",
          "MATERIALS",
          "TECHNOLOGY",
          "PRODUCER DURABLES",
          "FINANCIAL SERVICES",
          "FINANCIAL SERVICES",
          "PRODUCER DURABLES",
          "MATERIALS",
          "ENERGY",
          "TECHNOLOGY",
          "FINANCIAL SERVICES",
          "TECHNOLOGY",
          "FINANCIAL SERVICES",
          "FINANCIAL SERVICES",
          "HEALTH CARE",
          "ENERGY",
          "UTILITIES",
          "FINANCIAL SERVICES",
          "FINANCIAL SERVICES",
          "FINANCIAL SERVICES",
          "FINANCIAL SERVICES",
          "CONSUMER STAPLES",
          "PRODUCER DURABLES",
          "CONSUMER STAPLES",
          "CONSUMER STAPLES",
          "MATERIALS",
          "MATERIALS",
          "ENERGY",
          "CONSUMER STAPLES",
          "PRODUCER DURABLES",
          "TECHNOLOGY",
          "CONSUMER DISCRETION",
          "CONSUMER DISCRETION",
          "FINANCIAL SERVICES",
          "ENERGY",
          "CONSUMER STAPLES",
          "UTILITIES",
          "CONSUMER DISCRETION",
          "ENERGY",
          "CONSUMER DISCRETION",
          "UTILITIES",
          "CONSUMER DISCRETION",
          "FINANCIAL SERVICES",
          "FINANCIAL SERVICES",
          "CONSUMER DISCRETION",
          "PRODUCER DURABLES",
          "FINANCIAL SERVICES",
          "UTILITIES",
          "ENERGY",
          "FINANCIAL SERVICES",
          "FINANCIAL SERVICES",
          "CONSUMER DISCRETION",
          "CONSUMER DISCRETION",
          "TECHNOLOGY",
          "CONSUMER DISCRETION",
          "FINANCIAL SERVICES",
          "UTILITIES",
          "FINANCIAL SERVICES",
          "ENERGY",
          "CONSUMER DISCRETION",
          "TECHNOLOGY",
          "ENERGY",
          "FINANCIAL SERVICES",
          "UTILITIES",
          "TECHNOLOGY",
          "PRODUCER DURABLES",
          "FINANCIAL SERVICES",
          "ENERGY",
          "MATERIALS",
          "CONSUMER DISCRETION",
          "MATERIALS",
          "ENERGY",
          "UTILITIES",
          "CONSUMER DISCRETION",
          "CONSUMER DISCRETION",
          "CONSUMER DISCRETION",
          "MATERIALS",
          "CONSUMER DISCRETION",
          "HEALTH CARE",
          "CONSUMER DISCRETION",
          "CONSUMER DISCRETION",
          "CONSUMER DISCRETION",
          "CONSUMER DISCRETION",
          "ENERGY",
          "ENERGY",
          "PRODUCER DURABLES",
          "ENERGY",
          "FINANCIAL SERVICES",
          "FINANCIAL SERVICES",
          "ENERGY",
          "FINANCIAL SERVICES",
          "CONSUMER DISCRETION",
          "ENERGY",
          "FINANCIAL SERVICES",
          "FINANCIAL SERVICES",
          "ENERGY",
          "FINANCIAL SERVICES",
          "ENERGY",
          "ENERGY",
          "CONSUMER DISCRETION",
          "ENERGY",
          "PRODUCER DURABLES",
          "ENERGY",
          "CONSUMER DISCRETION"
         ],
         "xaxis": "x",
         "y": [
          "163.00%",
          "73.25%",
          "494.02%",
          "35.32%",
          "139.20%",
          "126.87%",
          "73.09%",
          "70.22%",
          "230.29%",
          "160.66%",
          "186.27%",
          "318.28%",
          "223.43%",
          "4.20%",
          "77.78%",
          "2144.51%",
          "263.41%",
          "121.11%",
          "91.72%",
          "380.29%",
          "374.67%",
          "516.83%",
          "247.03%",
          "146.77%",
          "89.45%",
          "306.96%",
          "247.45%",
          "170.16%",
          "375.12%",
          "169.53%",
          "71.92%",
          "272.07%",
          "140.76%",
          "463.76%",
          "267.60%",
          "98.70%",
          "125.15%",
          "123.34%",
          "278.84%",
          "472.29%",
          "230.91%",
          "248.16%",
          "257.69%",
          "174.38%",
          "157.08%",
          "312.62%",
          "142.44%",
          "181.83%",
          "141.56%",
          "-5.54%",
          "174.90%",
          "571.53%",
          "186.49%",
          "183.53%",
          "202.61%",
          "137.70%",
          "96.58%",
          "62.19%",
          "246.06%",
          "143.11%",
          "53.47%",
          "71.96%",
          "53.13%",
          "42.72%",
          "392.99%",
          "10.21%",
          "110.85%",
          "3.26%",
          "124.63%",
          "173.58%",
          "66.29%",
          "168.19%",
          "94.86%",
          "180.89%",
          "23.64%",
          "95.47%",
          "72.99%",
          "18.71%",
          "210.34%",
          "82.98%",
          "327.76%",
          "223.67%",
          "105.82%",
          "367.05%",
          "64.65%",
          "190.71%",
          "85.91%",
          "188.48%",
          "187.91%",
          "119.31%",
          "7.41%",
          "144.56%",
          "126.01%",
          "134.69%",
          "51.94%",
          "323.30%",
          "98.43%",
          "453.14%",
          "157.81%",
          "52.68%",
          "145.68%",
          "238.68%",
          "242.69%",
          "147.99%",
          "22.15%",
          "197.48%",
          "70.79%",
          "17.31%",
          "160.80%",
          "74.38%",
          "21.31%",
          "137.89%",
          "86.72%",
          "64.26%",
          "100.00%",
          "60.35%",
          "110.10%",
          "256.99%",
          "104.36%",
          "59.31%",
          "127.72%",
          "-11.05%",
          "430.62%",
          "42.05%",
          "132.32%",
          "-7.47%",
          "105.83%",
          "-3.60%",
          "-24.70%",
          "79.60%",
          "40.57%",
          "90.75%",
          "4.01%",
          "26.27%",
          "109.29%",
          "172.26%",
          "40.63%",
          "99.61%",
          "186.81%",
          "59.70%",
          "113.50%",
          "48.46%",
          "73.11%",
          "58.11%",
          "135.31%",
          "51.74%",
          "69.19%",
          "26.90%",
          "30.22%",
          "38.11%",
          "79.58%",
          "81.87%",
          "15.66%",
          "132.96%",
          "-17.24%",
          "105.66%",
          "2.94%",
          "19.33%",
          "57.36%",
          "52.13%",
          "53.53%",
          "109.56%",
          "31.15%",
          "110.68%",
          "163.83%",
          "115.71%",
          "143.19%",
          "-13.62%",
          "132.02%",
          "296.84%",
          "96.60%",
          "13.48%",
          "24.15%",
          "85.40%",
          "106.78%",
          "-2.37%",
          "40.92%",
          "172.26%",
          "69.00%",
          "171.77%",
          "48.80%",
          "216.80%",
          "76.21%",
          "-35.68%",
          "43.87%",
          "179.96%",
          "40.22%",
          "52.97%",
          "104.25%",
          "141.25%",
          "72.31%",
          "44.91%",
          "-15.11%",
          "489.78%",
          "388.32%",
          "85.11%",
          "21.34%",
          "142.81%",
          "132.24%",
          "170.14%",
          "135.74%",
          "44.93%",
          "-51.38%",
          "115.12%",
          "61.50%",
          "175.02%",
          "60.84%",
          "121.75%",
          "101.33%",
          "124.15%",
          "137.62%",
          "52.97%",
          "214.78%",
          "-19.28%",
          "60.99%",
          "-10.38%",
          "185.98%",
          "89.74%",
          "-20.42%",
          "70.92%",
          "-29.15%",
          "56.72%",
          "120.13%",
          "74.33%",
          "46.06%",
          "85.01%",
          "52.85%",
          "36.40%",
          "108.30%",
          "16.82%",
          "52.22%",
          "48.21%",
          "-24.95%",
          "32.85%",
          "23.02%",
          "154.95%",
          "57.16%",
          "19.12%",
          "61.00%",
          "147.42%",
          "42.88%",
          "129.49%",
          "254.18%",
          "77.54%",
          "1.40%",
          "15.43%",
          "18.58%",
          "-26.54%",
          "-38.91%",
          "13.72%",
          "49.19%",
          "165.50%",
          "50.88%",
          "173.31%",
          "165.05%",
          "4088.17%",
          "68.85%",
          "0.16%",
          "-2.40%",
          "96.38%",
          "44.64%",
          "-2.25%",
          "18.45%",
          "3.17%",
          "132.18%",
          "19.79%",
          "14.85%",
          "-25.86%",
          "-13.30%",
          "110.03%",
          "10.39%",
          "47.22%",
          "-28.96%",
          "321.92%",
          "93.78%",
          "-40.26%",
          "43.01%",
          "-3.02%",
          "49.35%",
          "63.63%",
          "-10.43%",
          "75.17%",
          "20.09%",
          "6.26%",
          "86.69%",
          "47.42%",
          "-0.65%",
          "56.51%",
          "-4.30%",
          "116.00%",
          "3.56%",
          "131.49%",
          "-26.31%",
          "83.89%",
          "34.94%",
          "9.62%",
          "-42.94%",
          "254.65%",
          "56.30%",
          "184.69%",
          "-21.08%",
          "2.41%",
          "11.84%",
          "24.00%",
          "45.87%",
          "32.56%",
          "88.24%",
          "101.31%",
          "112.35%",
          "31.71%",
          "62.15%",
          "-72.67%",
          "47.95%",
          "-1.97%",
          "-55.24%",
          "-22.67%",
          "9.27%",
          "-44.70%",
          "-52.09%",
          "14.25%",
          "-15.55%",
          "-8.85%",
          "120.42%",
          "-15.50%",
          "40.98%",
          "58.45%",
          "23.45%",
          "129.21%",
          "-20.53%",
          "23.86%",
          "-47.94%",
          "140.75%",
          "-3.89%",
          "-0.75%",
          "55.39%",
          "2.98%",
          "-33.40%",
          "7.23%",
          "-3.91%",
          "-23.67%",
          "-49.29%",
          "-51.77%",
          "-11.61%",
          "42.69%",
          "-9.83%",
          "26.56%",
          "11.58%",
          "-49.68%",
          "18.92%",
          "-10.23%",
          "15.93%",
          "-30.01%",
          "7.16%",
          "-61.38%",
          "22.79%",
          "-51.80%",
          "6.20%",
          "-36.21%",
          "-38.50%",
          "-29.10%",
          "-11.63%",
          "-30.01%",
          "81.59%",
          "-42.20%",
          "6.03%",
          "12.24%",
          "-32.23%",
          "-57.73%",
          "65.56%",
          "0.61%",
          "-53.43%",
          "-32.06%",
          "-11.32%",
          "-68.34%",
          "0.24%",
          "5.70%",
          "46.39%",
          "-34.72%",
          "11.83%",
          "-7.18%",
          "-21.66%",
          "57.88%",
          "-53.60%",
          "-11.93%",
          "-53.70%",
          "-10.39%",
          "11.94%",
          "20.95%",
          "32.74%",
          "11.08%",
          "-53.43%",
          "-14.80%",
          "6.78%",
          "-52.15%",
          "-48.37%",
          "9.35%",
          "57.03%",
          "-31.00%",
          "-42.92%",
          "-18.27%",
          "-36.34%",
          "-8.56%",
          "-53.86%",
          "-75.50%",
          "61.42%",
          "-65.63%",
          "-58.05%",
          "-40.37%",
          "44.91%",
          "-47.24%",
          "-68.18%",
          "-67.00%",
          "18.32%",
          "17.10%",
          "-58.92%",
          "-72.61%",
          "-61.28%",
          "-68.90%",
          "-56.74%",
          "-46.84%",
          "23.95%",
          "-70.49%",
          "-30.98%",
          "-76.25%",
          "-70.79%",
          "-67.89%",
          "-32.55%",
          "-84.76%",
          "-7.50%",
          "-71.06%",
          "-76.72%",
          "-50.24%",
          "-80.03%",
          "-75.69%",
          "-71.52%",
          "-88.21%"
         ],
         "yaxis": "y"
        }
       ],
       "layout": {
        "autosize": true,
        "barmode": "relative",
        "legend": {
         "tracegroupgap": 0
        },
        "template": {
         "data": {
          "bar": [
           {
            "error_x": {
             "color": "#2a3f5f"
            },
            "error_y": {
             "color": "#2a3f5f"
            },
            "marker": {
             "line": {
              "color": "#E5ECF6",
              "width": 0.5
             }
            },
            "type": "bar"
           }
          ],
          "barpolar": [
           {
            "marker": {
             "line": {
              "color": "#E5ECF6",
              "width": 0.5
             }
            },
            "type": "barpolar"
           }
          ],
          "carpet": [
           {
            "aaxis": {
             "endlinecolor": "#2a3f5f",
             "gridcolor": "white",
             "linecolor": "white",
             "minorgridcolor": "white",
             "startlinecolor": "#2a3f5f"
            },
            "baxis": {
             "endlinecolor": "#2a3f5f",
             "gridcolor": "white",
             "linecolor": "white",
             "minorgridcolor": "white",
             "startlinecolor": "#2a3f5f"
            },
            "type": "carpet"
           }
          ],
          "choropleth": [
           {
            "colorbar": {
             "outlinewidth": 0,
             "ticks": ""
            },
            "type": "choropleth"
           }
          ],
          "contour": [
           {
            "colorbar": {
             "outlinewidth": 0,
             "ticks": ""
            },
            "colorscale": [
             [
              0,
              "#0d0887"
             ],
             [
              0.1111111111111111,
              "#46039f"
             ],
             [
              0.2222222222222222,
              "#7201a8"
             ],
             [
              0.3333333333333333,
              "#9c179e"
             ],
             [
              0.4444444444444444,
              "#bd3786"
             ],
             [
              0.5555555555555556,
              "#d8576b"
             ],
             [
              0.6666666666666666,
              "#ed7953"
             ],
             [
              0.7777777777777778,
              "#fb9f3a"
             ],
             [
              0.8888888888888888,
              "#fdca26"
             ],
             [
              1,
              "#f0f921"
             ]
            ],
            "type": "contour"
           }
          ],
          "contourcarpet": [
           {
            "colorbar": {
             "outlinewidth": 0,
             "ticks": ""
            },
            "type": "contourcarpet"
           }
          ],
          "heatmap": [
           {
            "colorbar": {
             "outlinewidth": 0,
             "ticks": ""
            },
            "colorscale": [
             [
              0,
              "#0d0887"
             ],
             [
              0.1111111111111111,
              "#46039f"
             ],
             [
              0.2222222222222222,
              "#7201a8"
             ],
             [
              0.3333333333333333,
              "#9c179e"
             ],
             [
              0.4444444444444444,
              "#bd3786"
             ],
             [
              0.5555555555555556,
              "#d8576b"
             ],
             [
              0.6666666666666666,
              "#ed7953"
             ],
             [
              0.7777777777777778,
              "#fb9f3a"
             ],
             [
              0.8888888888888888,
              "#fdca26"
             ],
             [
              1,
              "#f0f921"
             ]
            ],
            "type": "heatmap"
           }
          ],
          "heatmapgl": [
           {
            "colorbar": {
             "outlinewidth": 0,
             "ticks": ""
            },
            "colorscale": [
             [
              0,
              "#0d0887"
             ],
             [
              0.1111111111111111,
              "#46039f"
             ],
             [
              0.2222222222222222,
              "#7201a8"
             ],
             [
              0.3333333333333333,
              "#9c179e"
             ],
             [
              0.4444444444444444,
              "#bd3786"
             ],
             [
              0.5555555555555556,
              "#d8576b"
             ],
             [
              0.6666666666666666,
              "#ed7953"
             ],
             [
              0.7777777777777778,
              "#fb9f3a"
             ],
             [
              0.8888888888888888,
              "#fdca26"
             ],
             [
              1,
              "#f0f921"
             ]
            ],
            "type": "heatmapgl"
           }
          ],
          "histogram": [
           {
            "marker": {
             "colorbar": {
              "outlinewidth": 0,
              "ticks": ""
             }
            },
            "type": "histogram"
           }
          ],
          "histogram2d": [
           {
            "colorbar": {
             "outlinewidth": 0,
             "ticks": ""
            },
            "colorscale": [
             [
              0,
              "#0d0887"
             ],
             [
              0.1111111111111111,
              "#46039f"
             ],
             [
              0.2222222222222222,
              "#7201a8"
             ],
             [
              0.3333333333333333,
              "#9c179e"
             ],
             [
              0.4444444444444444,
              "#bd3786"
             ],
             [
              0.5555555555555556,
              "#d8576b"
             ],
             [
              0.6666666666666666,
              "#ed7953"
             ],
             [
              0.7777777777777778,
              "#fb9f3a"
             ],
             [
              0.8888888888888888,
              "#fdca26"
             ],
             [
              1,
              "#f0f921"
             ]
            ],
            "type": "histogram2d"
           }
          ],
          "histogram2dcontour": [
           {
            "colorbar": {
             "outlinewidth": 0,
             "ticks": ""
            },
            "colorscale": [
             [
              0,
              "#0d0887"
             ],
             [
              0.1111111111111111,
              "#46039f"
             ],
             [
              0.2222222222222222,
              "#7201a8"
             ],
             [
              0.3333333333333333,
              "#9c179e"
             ],
             [
              0.4444444444444444,
              "#bd3786"
             ],
             [
              0.5555555555555556,
              "#d8576b"
             ],
             [
              0.6666666666666666,
              "#ed7953"
             ],
             [
              0.7777777777777778,
              "#fb9f3a"
             ],
             [
              0.8888888888888888,
              "#fdca26"
             ],
             [
              1,
              "#f0f921"
             ]
            ],
            "type": "histogram2dcontour"
           }
          ],
          "mesh3d": [
           {
            "colorbar": {
             "outlinewidth": 0,
             "ticks": ""
            },
            "type": "mesh3d"
           }
          ],
          "parcoords": [
           {
            "line": {
             "colorbar": {
              "outlinewidth": 0,
              "ticks": ""
             }
            },
            "type": "parcoords"
           }
          ],
          "pie": [
           {
            "automargin": true,
            "type": "pie"
           }
          ],
          "scatter": [
           {
            "marker": {
             "colorbar": {
              "outlinewidth": 0,
              "ticks": ""
             }
            },
            "type": "scatter"
           }
          ],
          "scatter3d": [
           {
            "line": {
             "colorbar": {
              "outlinewidth": 0,
              "ticks": ""
             }
            },
            "marker": {
             "colorbar": {
              "outlinewidth": 0,
              "ticks": ""
             }
            },
            "type": "scatter3d"
           }
          ],
          "scattercarpet": [
           {
            "marker": {
             "colorbar": {
              "outlinewidth": 0,
              "ticks": ""
             }
            },
            "type": "scattercarpet"
           }
          ],
          "scattergeo": [
           {
            "marker": {
             "colorbar": {
              "outlinewidth": 0,
              "ticks": ""
             }
            },
            "type": "scattergeo"
           }
          ],
          "scattergl": [
           {
            "marker": {
             "colorbar": {
              "outlinewidth": 0,
              "ticks": ""
             }
            },
            "type": "scattergl"
           }
          ],
          "scattermapbox": [
           {
            "marker": {
             "colorbar": {
              "outlinewidth": 0,
              "ticks": ""
             }
            },
            "type": "scattermapbox"
           }
          ],
          "scatterpolar": [
           {
            "marker": {
             "colorbar": {
              "outlinewidth": 0,
              "ticks": ""
             }
            },
            "type": "scatterpolar"
           }
          ],
          "scatterpolargl": [
           {
            "marker": {
             "colorbar": {
              "outlinewidth": 0,
              "ticks": ""
             }
            },
            "type": "scatterpolargl"
           }
          ],
          "scatterternary": [
           {
            "marker": {
             "colorbar": {
              "outlinewidth": 0,
              "ticks": ""
             }
            },
            "type": "scatterternary"
           }
          ],
          "surface": [
           {
            "colorbar": {
             "outlinewidth": 0,
             "ticks": ""
            },
            "colorscale": [
             [
              0,
              "#0d0887"
             ],
             [
              0.1111111111111111,
              "#46039f"
             ],
             [
              0.2222222222222222,
              "#7201a8"
             ],
             [
              0.3333333333333333,
              "#9c179e"
             ],
             [
              0.4444444444444444,
              "#bd3786"
             ],
             [
              0.5555555555555556,
              "#d8576b"
             ],
             [
              0.6666666666666666,
              "#ed7953"
             ],
             [
              0.7777777777777778,
              "#fb9f3a"
             ],
             [
              0.8888888888888888,
              "#fdca26"
             ],
             [
              1,
              "#f0f921"
             ]
            ],
            "type": "surface"
           }
          ],
          "table": [
           {
            "cells": {
             "fill": {
              "color": "#EBF0F8"
             },
             "line": {
              "color": "white"
             }
            },
            "header": {
             "fill": {
              "color": "#C8D4E3"
             },
             "line": {
              "color": "white"
             }
            },
            "type": "table"
           }
          ]
         },
         "layout": {
          "annotationdefaults": {
           "arrowcolor": "#2a3f5f",
           "arrowhead": 0,
           "arrowwidth": 1
          },
          "coloraxis": {
           "colorbar": {
            "outlinewidth": 0,
            "ticks": ""
           }
          },
          "colorscale": {
           "diverging": [
            [
             0,
             "#8e0152"
            ],
            [
             0.1,
             "#c51b7d"
            ],
            [
             0.2,
             "#de77ae"
            ],
            [
             0.3,
             "#f1b6da"
            ],
            [
             0.4,
             "#fde0ef"
            ],
            [
             0.5,
             "#f7f7f7"
            ],
            [
             0.6,
             "#e6f5d0"
            ],
            [
             0.7,
             "#b8e186"
            ],
            [
             0.8,
             "#7fbc41"
            ],
            [
             0.9,
             "#4d9221"
            ],
            [
             1,
             "#276419"
            ]
           ],
           "sequential": [
            [
             0,
             "#0d0887"
            ],
            [
             0.1111111111111111,
             "#46039f"
            ],
            [
             0.2222222222222222,
             "#7201a8"
            ],
            [
             0.3333333333333333,
             "#9c179e"
            ],
            [
             0.4444444444444444,
             "#bd3786"
            ],
            [
             0.5555555555555556,
             "#d8576b"
            ],
            [
             0.6666666666666666,
             "#ed7953"
            ],
            [
             0.7777777777777778,
             "#fb9f3a"
            ],
            [
             0.8888888888888888,
             "#fdca26"
            ],
            [
             1,
             "#f0f921"
            ]
           ],
           "sequentialminus": [
            [
             0,
             "#0d0887"
            ],
            [
             0.1111111111111111,
             "#46039f"
            ],
            [
             0.2222222222222222,
             "#7201a8"
            ],
            [
             0.3333333333333333,
             "#9c179e"
            ],
            [
             0.4444444444444444,
             "#bd3786"
            ],
            [
             0.5555555555555556,
             "#d8576b"
            ],
            [
             0.6666666666666666,
             "#ed7953"
            ],
            [
             0.7777777777777778,
             "#fb9f3a"
            ],
            [
             0.8888888888888888,
             "#fdca26"
            ],
            [
             1,
             "#f0f921"
            ]
           ]
          },
          "colorway": [
           "#636efa",
           "#EF553B",
           "#00cc96",
           "#ab63fa",
           "#FFA15A",
           "#19d3f3",
           "#FF6692",
           "#B6E880",
           "#FF97FF",
           "#FECB52"
          ],
          "font": {
           "color": "#2a3f5f"
          },
          "geo": {
           "bgcolor": "white",
           "lakecolor": "white",
           "landcolor": "#E5ECF6",
           "showlakes": true,
           "showland": true,
           "subunitcolor": "white"
          },
          "hoverlabel": {
           "align": "left"
          },
          "hovermode": "closest",
          "mapbox": {
           "style": "light"
          },
          "paper_bgcolor": "white",
          "plot_bgcolor": "#E5ECF6",
          "polar": {
           "angularaxis": {
            "gridcolor": "white",
            "linecolor": "white",
            "ticks": ""
           },
           "bgcolor": "#E5ECF6",
           "radialaxis": {
            "gridcolor": "white",
            "linecolor": "white",
            "ticks": ""
           }
          },
          "scene": {
           "xaxis": {
            "backgroundcolor": "#E5ECF6",
            "gridcolor": "white",
            "gridwidth": 2,
            "linecolor": "white",
            "showbackground": true,
            "ticks": "",
            "zerolinecolor": "white"
           },
           "yaxis": {
            "backgroundcolor": "#E5ECF6",
            "gridcolor": "white",
            "gridwidth": 2,
            "linecolor": "white",
            "showbackground": true,
            "ticks": "",
            "zerolinecolor": "white"
           },
           "zaxis": {
            "backgroundcolor": "#E5ECF6",
            "gridcolor": "white",
            "gridwidth": 2,
            "linecolor": "white",
            "showbackground": true,
            "ticks": "",
            "zerolinecolor": "white"
           }
          },
          "shapedefaults": {
           "line": {
            "color": "#2a3f5f"
           }
          },
          "ternary": {
           "aaxis": {
            "gridcolor": "white",
            "linecolor": "white",
            "ticks": ""
           },
           "baxis": {
            "gridcolor": "white",
            "linecolor": "white",
            "ticks": ""
           },
           "bgcolor": "#E5ECF6",
           "caxis": {
            "gridcolor": "white",
            "linecolor": "white",
            "ticks": ""
           }
          },
          "title": {
           "x": 0.05
          },
          "xaxis": {
           "automargin": true,
           "gridcolor": "white",
           "linecolor": "white",
           "ticks": "",
           "title": {
            "standoff": 15
           },
           "zerolinecolor": "white",
           "zerolinewidth": 2
          },
          "yaxis": {
           "automargin": true,
           "gridcolor": "white",
           "linecolor": "white",
           "ticks": "",
           "title": {
            "standoff": 15
           },
           "zerolinecolor": "white",
           "zerolinewidth": 2
          }
         }
        },
        "title": {
         "text": "5 Year Stock growth by Sector"
        },
        "xaxis": {
         "anchor": "y",
         "autorange": true,
         "domain": [
          0,
          1
         ],
         "range": [
          -0.5,
          9.5
         ],
         "title": {
          "text": "Sector"
         },
         "type": "category"
        },
        "yaxis": {
         "anchor": "x",
         "autorange": true,
         "domain": [
          0,
          1
         ],
         "range": [
          -2182.363888888889,
          16020.313888888892
         ],
         "title": {
          "text": "5 Yr Growth"
         }
        }
       }
      },
      "image/png": "[encoded data removed]",
      "text/html": [
       "<div>\n",
       "        \n",
       "        \n",
       "            <div id=\"1462688d-dcf2-4ff2-a99d-f0765b4fe076\" class=\"plotly-graph-div\" style=\"height:525px; width:100%;\"></div>\n",
       "            <script type=\"text/javascript\">\n",
       "                require([\"plotly\"], function(Plotly) {\n",
       "                    window.PLOTLYENV=window.PLOTLYENV || {};\n",
       "                    \n",
       "                if (document.getElementById(\"1462688d-dcf2-4ff2-a99d-f0765b4fe076\")) {\n",
       "                    Plotly.newPlot(\n",
       "                        '1462688d-dcf2-4ff2-a99d-f0765b4fe076',\n",
       "                        [{\"alignmentgroup\": \"True\", \"hovertemplate\": \"Sector=%{x}<br>5 Yr Growth=%{y}<extra></extra>\", \"legendgroup\": \"\", \"marker\": {\"color\": \"#636efa\"}, \"name\": \"\", \"offsetgroup\": \"\", \"orientation\": \"v\", \"showlegend\": false, \"textposition\": \"auto\", \"type\": \"bar\", \"x\": [\"CONSUMER DISCRETION\", \"INDEX\", \"CONSUMER DISCRETION\", \"CONSUMER DISCRETION\", \"TECHNOLOGY\", \"TECHNOLOGY\", \"CONSUMER DISCRETION\", \"CONSUMER DISCRETION\", \"PRODUCER DURABLES\", \"FINANCIAL SERVICES\", \"MATERIALS\", \"HEALTH CARE\", \"CONSUMER DISCRETION\", \"HEALTH CARE\", \"FINANCIAL SERVICES\", \"TECHNOLOGY\", \"HEALTH CARE\", \"PRODUCER DURABLES\", \"CONSUMER DISCRETION\", \"CONSUMER DISCRETION\", \"FINANCIAL SERVICES\", \"TECHNOLOGY\", \"HEALTH CARE\", \"PRODUCER DURABLES\", \"PRODUCER DURABLES\", \"HEALTH CARE\", \"CONSUMER DISCRETION\", \"HEALTH CARE\", \"HEALTH CARE\", \"TECHNOLOGY\", \"HEALTH CARE\", \"FINANCIAL SERVICES\", \"CONSUMER DISCRETION\", \"FINANCIAL SERVICES\", \"FINANCIAL SERVICES\", \"PRODUCER DURABLES\", \"HEALTH CARE\", \"TECHNOLOGY\", \"PRODUCER DURABLES\", \"HEALTH CARE\", \"PRODUCER DURABLES\", \"TECHNOLOGY\", \"TECHNOLOGY\", \"FINANCIAL SERVICES\", \"HEALTH CARE\", \"TECHNOLOGY\", \"MATERIALS\", \"FINANCIAL SERVICES\", \"CONSUMER DISCRETION\", \"HEALTH CARE\", \"HEALTH CARE\", \"TECHNOLOGY\", \"TECHNOLOGY\", \"FINANCIAL SERVICES\", \"PRODUCER DURABLES\", \"MATERIALS\", \"FINANCIAL SERVICES\", \"HEALTH CARE\", \"TECHNOLOGY\", \"PRODUCER DURABLES\", \"PRODUCER DURABLES\", \"HEALTH CARE\", \"FINANCIAL SERVICES\", \"CONSUMER DISCRETION\", \"TECHNOLOGY\", \"FINANCIAL SERVICES\", \"PRODUCER DURABLES\", \"FINANCIAL SERVICES\", \"CONSUMER DISCRETION\", \"PRODUCER DURABLES\", \"FINANCIAL SERVICES\", \"PRODUCER DURABLES\", \"CONSUMER STAPLES\", \"CONSUMER DISCRETION\", \"MATERIALS\", \"PRODUCER DURABLES\", \"PRODUCER DURABLES\", \"FINANCIAL SERVICES\", \"HEALTH CARE\", \"FINANCIAL SERVICES\", \"TECHNOLOGY\", \"TECHNOLOGY\", \"HEALTH CARE\", \"TECHNOLOGY\", \"PRODUCER DURABLES\", \"FINANCIAL SERVICES\", \"MATERIALS\", \"CONSUMER DISCRETION\", \"TECHNOLOGY\", \"FINANCIAL SERVICES\", \"FINANCIAL SERVICES\", \"CONSUMER STAPLES\", \"PRODUCER DURABLES\", \"PRODUCER DURABLES\", \"CONSUMER STAPLES\", \"PRODUCER DURABLES\", \"PRODUCER DURABLES\", \"FINANCIAL SERVICES\", \"PRODUCER DURABLES\", \"HEALTH CARE\", \"TECHNOLOGY\", \"TECHNOLOGY\", \"HEALTH CARE\", \"HEALTH CARE\", \"HEALTH CARE\", \"FINANCIAL SERVICES\", \"PRODUCER DURABLES\", \"PRODUCER DURABLES\", \"HEALTH CARE\", \"FINANCIAL SERVICES\", \"PRODUCER DURABLES\", \"CONSUMER DISCRETION\", \"FINANCIAL SERVICES\", \"PRODUCER DURABLES\", \"TECHNOLOGY\", \"PRODUCER DURABLES\", \"HEALTH CARE\", \"HEALTH CARE\", \"FINANCIAL SERVICES\", \"PRODUCER DURABLES\", \"FINANCIAL SERVICES\", \"CONSUMER DISCRETION\", \"TECHNOLOGY\", \"FINANCIAL SERVICES\", \"TECHNOLOGY\", \"FINANCIAL SERVICES\", \"PRODUCER DURABLES\", \"PRODUCER DURABLES\", \"CONSUMER STAPLES\", \"HEALTH CARE\", \"CONSUMER STAPLES\", \"CONSUMER DISCRETION\", \"PRODUCER DURABLES\", \"PRODUCER DURABLES\", \"FINANCIAL SERVICES\", \"UTILITIES\", \"HEALTH CARE\", \"CONSUMER STAPLES\", \"TECHNOLOGY\", \"CONSUMER DISCRETION\", \"CONSUMER DISCRETION\", \"CONSUMER STAPLES\", \"PRODUCER DURABLES\", \"HEALTH CARE\", \"TECHNOLOGY\", \"TECHNOLOGY\", \"PRODUCER DURABLES\", \"CONSUMER DISCRETION\", \"MATERIALS\", \"MATERIALS\", \"FINANCIAL SERVICES\", \"TECHNOLOGY\", \"MATERIALS\", \"TECHNOLOGY\", \"TECHNOLOGY\", \"MATERIALS\", \"TECHNOLOGY\", \"FINANCIAL SERVICES\", \"UTILITIES\", \"FINANCIAL SERVICES\", \"FINANCIAL SERVICES\", \"CONSUMER DISCRETION\", \"UTILITIES\", \"MATERIALS\", \"TECHNOLOGY\", \"FINANCIAL SERVICES\", \"HEALTH CARE\", \"HEALTH CARE\", \"PRODUCER DURABLES\", \"TECHNOLOGY\", \"TECHNOLOGY\", \"FINANCIAL SERVICES\", \"FINANCIAL SERVICES\", \"PRODUCER DURABLES\", \"TECHNOLOGY\", \"CONSUMER STAPLES\", \"CONSUMER DISCRETION\", \"TECHNOLOGY\", \"HEALTH CARE\", \"UTILITIES\", \"FINANCIAL SERVICES\", \"MATERIALS\", \"MATERIALS\", \"HEALTH CARE\", \"TECHNOLOGY\", \"CONSUMER DISCRETION\", \"FINANCIAL SERVICES\", \"HEALTH CARE\", \"TECHNOLOGY\", \"HEALTH CARE\", \"CONSUMER DISCRETION\", \"CONSUMER DISCRETION\", \"FINANCIAL SERVICES\", \"PRODUCER DURABLES\", \"TECHNOLOGY\", \"PRODUCER DURABLES\", \"CONSUMER DISCRETION\", \"FINANCIAL SERVICES\", \"TECHNOLOGY\", \"FINANCIAL SERVICES\", \"TECHNOLOGY\", \"PRODUCER DURABLES\", \"CONSUMER DISCRETION\", \"FINANCIAL SERVICES\", \"TECHNOLOGY\", \"HEALTH CARE\", \"PRODUCER DURABLES\", \"MATERIALS\", \"UTILITIES\", \"FINANCIAL SERVICES\", \"PRODUCER DURABLES\", \"UTILITIES\", \"FINANCIAL SERVICES\", \"CONSUMER DISCRETION\", \"FINANCIAL SERVICES\", \"HEALTH CARE\", \"PRODUCER DURABLES\", \"CONSUMER DISCRETION\", \"ENERGY\", \"UTILITIES\", \"HEALTH CARE\", \"CONSUMER DISCRETION\", \"CONSUMER STAPLES\", \"CONSUMER DISCRETION\", \"CONSUMER DISCRETION\", \"PRODUCER DURABLES\", \"HEALTH CARE\", \"FINANCIAL SERVICES\", \"TECHNOLOGY\", \"HEALTH CARE\", \"CONSUMER DISCRETION\", \"PRODUCER DURABLES\", \"FINANCIAL SERVICES\", \"CONSUMER DISCRETION\", \"UTILITIES\", \"PRODUCER DURABLES\", \"HEALTH CARE\", \"CONSUMER DISCRETION\", \"CONSUMER DISCRETION\", \"MATERIALS\", \"FINANCIAL SERVICES\", \"HEALTH CARE\", \"HEALTH CARE\", \"UTILITIES\", \"CONSUMER STAPLES\", \"MATERIALS\", \"UTILITIES\", \"CONSUMER DISCRETION\", \"FINANCIAL SERVICES\", \"FINANCIAL SERVICES\", \"UTILITIES\", \"TECHNOLOGY\", \"CONSUMER DISCRETION\", \"PRODUCER DURABLES\", \"TECHNOLOGY\", \"TECHNOLOGY\", \"PRODUCER DURABLES\", \"ENERGY\", \"CONSUMER DISCRETION\", \"UTILITIES\", \"FINANCIAL SERVICES\", \"FINANCIAL SERVICES\", \"UTILITIES\", \"CONSUMER DISCRETION\", \"CONSUMER DISCRETION\", \"UTILITIES\", \"HEALTH CARE\", \"CONSUMER DISCRETION\", \"FINANCIAL SERVICES\", \"UTILITIES\", \"TECHNOLOGY\", \"PRODUCER DURABLES\", \"PRODUCER DURABLES\", \"MATERIALS\", \"TECHNOLOGY\", \"HEALTH CARE\", \"FINANCIAL SERVICES\", \"CONSUMER STAPLES\", \"CONSUMER STAPLES\", \"CONSUMER STAPLES\", \"FINANCIAL SERVICES\", \"FINANCIAL SERVICES\", \"HEALTH CARE\", \"PRODUCER DURABLES\", \"UTILITIES\", \"HEALTH CARE\", \"HEALTH CARE\", \"TECHNOLOGY\", \"MATERIALS\", \"MATERIALS\", \"CONSUMER STAPLES\", \"CONSUMER DISCRETION\", \"ENERGY\", \"HEALTH CARE\", \"CONSUMER STAPLES\", \"FINANCIAL SERVICES\", \"CONSUMER STAPLES\", \"TECHNOLOGY\", \"CONSUMER DISCRETION\", \"CONSUMER DISCRETION\", \"CONSUMER DISCRETION\", \"PRODUCER DURABLES\", \"CONSUMER DISCRETION\", \"UTILITIES\", \"UTILITIES\", \"UTILITIES\", \"UTILITIES\", \"CONSUMER DISCRETION\", \"PRODUCER DURABLES\", \"CONSUMER STAPLES\", \"CONSUMER STAPLES\", \"HEALTH CARE\", \"FINANCIAL SERVICES\", \"TECHNOLOGY\", \"FINANCIAL SERVICES\", \"ENERGY\", \"CONSUMER STAPLES\", \"HEALTH CARE\", \"ENERGY\", \"MATERIALS\", \"HEALTH CARE\", \"CONSUMER STAPLES\", \"CONSUMER DISCRETION\", \"FINANCIAL SERVICES\", \"TECHNOLOGY\", \"CONSUMER DISCRETION\", \"PRODUCER DURABLES\", \"MATERIALS\", \"CONSUMER STAPLES\", \"PRODUCER DURABLES\", \"PRODUCER DURABLES\", \"HEALTH CARE\", \"FINANCIAL SERVICES\", \"MATERIALS\", \"TECHNOLOGY\", \"PRODUCER DURABLES\", \"FINANCIAL SERVICES\", \"FINANCIAL SERVICES\", \"PRODUCER DURABLES\", \"MATERIALS\", \"ENERGY\", \"TECHNOLOGY\", \"FINANCIAL SERVICES\", \"TECHNOLOGY\", \"FINANCIAL SERVICES\", \"FINANCIAL SERVICES\", \"HEALTH CARE\", \"ENERGY\", \"UTILITIES\", \"FINANCIAL SERVICES\", \"FINANCIAL SERVICES\", \"FINANCIAL SERVICES\", \"FINANCIAL SERVICES\", \"CONSUMER STAPLES\", \"PRODUCER DURABLES\", \"CONSUMER STAPLES\", \"CONSUMER STAPLES\", \"MATERIALS\", \"MATERIALS\", \"ENERGY\", \"CONSUMER STAPLES\", \"PRODUCER DURABLES\", \"TECHNOLOGY\", \"CONSUMER DISCRETION\", \"CONSUMER DISCRETION\", \"FINANCIAL SERVICES\", \"ENERGY\", \"CONSUMER STAPLES\", \"UTILITIES\", \"CONSUMER DISCRETION\", \"ENERGY\", \"CONSUMER DISCRETION\", \"UTILITIES\", \"CONSUMER DISCRETION\", \"FINANCIAL SERVICES\", \"FINANCIAL SERVICES\", \"CONSUMER DISCRETION\", \"PRODUCER DURABLES\", \"FINANCIAL SERVICES\", \"UTILITIES\", \"ENERGY\", \"FINANCIAL SERVICES\", \"FINANCIAL SERVICES\", \"CONSUMER DISCRETION\", \"CONSUMER DISCRETION\", \"TECHNOLOGY\", \"CONSUMER DISCRETION\", \"FINANCIAL SERVICES\", \"UTILITIES\", \"FINANCIAL SERVICES\", \"ENERGY\", \"CONSUMER DISCRETION\", \"TECHNOLOGY\", \"ENERGY\", \"FINANCIAL SERVICES\", \"UTILITIES\", \"TECHNOLOGY\", \"PRODUCER DURABLES\", \"FINANCIAL SERVICES\", \"ENERGY\", \"MATERIALS\", \"CONSUMER DISCRETION\", \"MATERIALS\", \"ENERGY\", \"UTILITIES\", \"CONSUMER DISCRETION\", \"CONSUMER DISCRETION\", \"CONSUMER DISCRETION\", \"MATERIALS\", \"CONSUMER DISCRETION\", \"HEALTH CARE\", \"CONSUMER DISCRETION\", \"CONSUMER DISCRETION\", \"CONSUMER DISCRETION\", \"CONSUMER DISCRETION\", \"ENERGY\", \"ENERGY\", \"PRODUCER DURABLES\", \"ENERGY\", \"FINANCIAL SERVICES\", \"FINANCIAL SERVICES\", \"ENERGY\", \"FINANCIAL SERVICES\", \"CONSUMER DISCRETION\", \"ENERGY\", \"FINANCIAL SERVICES\", \"FINANCIAL SERVICES\", \"ENERGY\", \"FINANCIAL SERVICES\", \"ENERGY\", \"ENERGY\", \"CONSUMER DISCRETION\", \"ENERGY\", \"PRODUCER DURABLES\", \"ENERGY\", \"CONSUMER DISCRETION\"], \"xaxis\": \"x\", \"y\": [\"163.00%\", \"73.25%\", \"494.02%\", \"35.32%\", \"139.20%\", \"126.87%\", \"73.09%\", \"70.22%\", \"230.29%\", \"160.66%\", \"186.27%\", \"318.28%\", \"223.43%\", \"4.20%\", \"77.78%\", \"2144.51%\", \"263.41%\", \"121.11%\", \"91.72%\", \"380.29%\", \"374.67%\", \"516.83%\", \"247.03%\", \"146.77%\", \"89.45%\", \"306.96%\", \"247.45%\", \"170.16%\", \"375.12%\", \"169.53%\", \"71.92%\", \"272.07%\", \"140.76%\", \"463.76%\", \"267.60%\", \"98.70%\", \"125.15%\", \"123.34%\", \"278.84%\", \"472.29%\", \"230.91%\", \"248.16%\", \"257.69%\", \"174.38%\", \"157.08%\", \"312.62%\", \"142.44%\", \"181.83%\", \"141.56%\", \"-5.54%\", \"174.90%\", \"571.53%\", \"186.49%\", \"183.53%\", \"202.61%\", \"137.70%\", \"96.58%\", \"62.19%\", \"246.06%\", \"143.11%\", \"53.47%\", \"71.96%\", \"53.13%\", \"42.72%\", \"392.99%\", \"10.21%\", \"110.85%\", \"3.26%\", \"124.63%\", \"173.58%\", \"66.29%\", \"168.19%\", \"94.86%\", \"180.89%\", \"23.64%\", \"95.47%\", \"72.99%\", \"18.71%\", \"210.34%\", \"82.98%\", \"327.76%\", \"223.67%\", \"105.82%\", \"367.05%\", \"64.65%\", \"190.71%\", \"85.91%\", \"188.48%\", \"187.91%\", \"119.31%\", \"7.41%\", \"144.56%\", \"126.01%\", \"134.69%\", \"51.94%\", \"323.30%\", \"98.43%\", \"453.14%\", \"157.81%\", \"52.68%\", \"145.68%\", \"238.68%\", \"242.69%\", \"147.99%\", \"22.15%\", \"197.48%\", \"70.79%\", \"17.31%\", \"160.80%\", \"74.38%\", \"21.31%\", \"137.89%\", \"86.72%\", \"64.26%\", \"100.00%\", \"60.35%\", \"110.10%\", \"256.99%\", \"104.36%\", \"59.31%\", \"127.72%\", \"-11.05%\", \"430.62%\", \"42.05%\", \"132.32%\", \"-7.47%\", \"105.83%\", \"-3.60%\", \"-24.70%\", \"79.60%\", \"40.57%\", \"90.75%\", \"4.01%\", \"26.27%\", \"109.29%\", \"172.26%\", \"40.63%\", \"99.61%\", \"186.81%\", \"59.70%\", \"113.50%\", \"48.46%\", \"73.11%\", \"58.11%\", \"135.31%\", \"51.74%\", \"69.19%\", \"26.90%\", \"30.22%\", \"38.11%\", \"79.58%\", \"81.87%\", \"15.66%\", \"132.96%\", \"-17.24%\", \"105.66%\", \"2.94%\", \"19.33%\", \"57.36%\", \"52.13%\", \"53.53%\", \"109.56%\", \"31.15%\", \"110.68%\", \"163.83%\", \"115.71%\", \"143.19%\", \"-13.62%\", \"132.02%\", \"296.84%\", \"96.60%\", \"13.48%\", \"24.15%\", \"85.40%\", \"106.78%\", \"-2.37%\", \"40.92%\", \"172.26%\", \"69.00%\", \"171.77%\", \"48.80%\", \"216.80%\", \"76.21%\", \"-35.68%\", \"43.87%\", \"179.96%\", \"40.22%\", \"52.97%\", \"104.25%\", \"141.25%\", \"72.31%\", \"44.91%\", \"-15.11%\", \"489.78%\", \"388.32%\", \"85.11%\", \"21.34%\", \"142.81%\", \"132.24%\", \"170.14%\", \"135.74%\", \"44.93%\", \"-51.38%\", \"115.12%\", \"61.50%\", \"175.02%\", \"60.84%\", \"121.75%\", \"101.33%\", \"124.15%\", \"137.62%\", \"52.97%\", \"214.78%\", \"-19.28%\", \"60.99%\", \"-10.38%\", \"185.98%\", \"89.74%\", \"-20.42%\", \"70.92%\", \"-29.15%\", \"56.72%\", \"120.13%\", \"74.33%\", \"46.06%\", \"85.01%\", \"52.85%\", \"36.40%\", \"108.30%\", \"16.82%\", \"52.22%\", \"48.21%\", \"-24.95%\", \"32.85%\", \"23.02%\", \"154.95%\", \"57.16%\", \"19.12%\", \"61.00%\", \"147.42%\", \"42.88%\", \"129.49%\", \"254.18%\", \"77.54%\", \"1.40%\", \"15.43%\", \"18.58%\", \"-26.54%\", \"-38.91%\", \"13.72%\", \"49.19%\", \"165.50%\", \"50.88%\", \"173.31%\", \"165.05%\", \"4088.17%\", \"68.85%\", \"0.16%\", \"-2.40%\", \"96.38%\", \"44.64%\", \"-2.25%\", \"18.45%\", \"3.17%\", \"132.18%\", \"19.79%\", \"14.85%\", \"-25.86%\", \"-13.30%\", \"110.03%\", \"10.39%\", \"47.22%\", \"-28.96%\", \"321.92%\", \"93.78%\", \"-40.26%\", \"43.01%\", \"-3.02%\", \"49.35%\", \"63.63%\", \"-10.43%\", \"75.17%\", \"20.09%\", \"6.26%\", \"86.69%\", \"47.42%\", \"-0.65%\", \"56.51%\", \"-4.30%\", \"116.00%\", \"3.56%\", \"131.49%\", \"-26.31%\", \"83.89%\", \"34.94%\", \"9.62%\", \"-42.94%\", \"254.65%\", \"56.30%\", \"184.69%\", \"-21.08%\", \"2.41%\", \"11.84%\", \"24.00%\", \"45.87%\", \"32.56%\", \"88.24%\", \"101.31%\", \"112.35%\", \"31.71%\", \"62.15%\", \"-72.67%\", \"47.95%\", \"-1.97%\", \"-55.24%\", \"-22.67%\", \"9.27%\", \"-44.70%\", \"-52.09%\", \"14.25%\", \"-15.55%\", \"-8.85%\", \"120.42%\", \"-15.50%\", \"40.98%\", \"58.45%\", \"23.45%\", \"129.21%\", \"-20.53%\", \"23.86%\", \"-47.94%\", \"140.75%\", \"-3.89%\", \"-0.75%\", \"55.39%\", \"2.98%\", \"-33.40%\", \"7.23%\", \"-3.91%\", \"-23.67%\", \"-49.29%\", \"-51.77%\", \"-11.61%\", \"42.69%\", \"-9.83%\", \"26.56%\", \"11.58%\", \"-49.68%\", \"18.92%\", \"-10.23%\", \"15.93%\", \"-30.01%\", \"7.16%\", \"-61.38%\", \"22.79%\", \"-51.80%\", \"6.20%\", \"-36.21%\", \"-38.50%\", \"-29.10%\", \"-11.63%\", \"-30.01%\", \"81.59%\", \"-42.20%\", \"6.03%\", \"12.24%\", \"-32.23%\", \"-57.73%\", \"65.56%\", \"0.61%\", \"-53.43%\", \"-32.06%\", \"-11.32%\", \"-68.34%\", \"0.24%\", \"5.70%\", \"46.39%\", \"-34.72%\", \"11.83%\", \"-7.18%\", \"-21.66%\", \"57.88%\", \"-53.60%\", \"-11.93%\", \"-53.70%\", \"-10.39%\", \"11.94%\", \"20.95%\", \"32.74%\", \"11.08%\", \"-53.43%\", \"-14.80%\", \"6.78%\", \"-52.15%\", \"-48.37%\", \"9.35%\", \"57.03%\", \"-31.00%\", \"-42.92%\", \"-18.27%\", \"-36.34%\", \"-8.56%\", \"-53.86%\", \"-75.50%\", \"61.42%\", \"-65.63%\", \"-58.05%\", \"-40.37%\", \"44.91%\", \"-47.24%\", \"-68.18%\", \"-67.00%\", \"18.32%\", \"17.10%\", \"-58.92%\", \"-72.61%\", \"-61.28%\", \"-68.90%\", \"-56.74%\", \"-46.84%\", \"23.95%\", \"-70.49%\", \"-30.98%\", \"-76.25%\", \"-70.79%\", \"-67.89%\", \"-32.55%\", \"-84.76%\", \"-7.50%\", \"-71.06%\", \"-76.72%\", \"-50.24%\", \"-80.03%\", \"-75.69%\", \"-71.52%\", \"-88.21%\"], \"yaxis\": \"y\"}],\n",
       "                        {\"barmode\": \"relative\", \"legend\": {\"tracegroupgap\": 0}, \"template\": {\"data\": {\"bar\": [{\"error_x\": {\"color\": \"#2a3f5f\"}, \"error_y\": {\"color\": \"#2a3f5f\"}, \"marker\": {\"line\": {\"color\": \"#E5ECF6\", \"width\": 0.5}}, \"type\": \"bar\"}], \"barpolar\": [{\"marker\": {\"line\": {\"color\": \"#E5ECF6\", \"width\": 0.5}}, \"type\": \"barpolar\"}], \"carpet\": [{\"aaxis\": {\"endlinecolor\": \"#2a3f5f\", \"gridcolor\": \"white\", \"linecolor\": \"white\", \"minorgridcolor\": \"white\", \"startlinecolor\": \"#2a3f5f\"}, \"baxis\": {\"endlinecolor\": \"#2a3f5f\", \"gridcolor\": \"white\", \"linecolor\": \"white\", \"minorgridcolor\": \"white\", \"startlinecolor\": \"#2a3f5f\"}, \"type\": \"carpet\"}], \"choropleth\": [{\"colorbar\": {\"outlinewidth\": 0, \"ticks\": \"\"}, \"type\": \"choropleth\"}], \"contour\": [{\"colorbar\": {\"outlinewidth\": 0, \"ticks\": \"\"}, \"colorscale\": [[0.0, \"#0d0887\"], [0.1111111111111111, \"#46039f\"], [0.2222222222222222, \"#7201a8\"], [0.3333333333333333, \"#9c179e\"], [0.4444444444444444, \"#bd3786\"], [0.5555555555555556, \"#d8576b\"], [0.6666666666666666, \"#ed7953\"], [0.7777777777777778, \"#fb9f3a\"], [0.8888888888888888, \"#fdca26\"], [1.0, \"#f0f921\"]], \"type\": \"contour\"}], \"contourcarpet\": [{\"colorbar\": {\"outlinewidth\": 0, \"ticks\": \"\"}, \"type\": \"contourcarpet\"}], \"heatmap\": [{\"colorbar\": {\"outlinewidth\": 0, \"ticks\": \"\"}, \"colorscale\": [[0.0, \"#0d0887\"], [0.1111111111111111, \"#46039f\"], [0.2222222222222222, \"#7201a8\"], [0.3333333333333333, \"#9c179e\"], [0.4444444444444444, \"#bd3786\"], [0.5555555555555556, \"#d8576b\"], [0.6666666666666666, \"#ed7953\"], [0.7777777777777778, \"#fb9f3a\"], [0.8888888888888888, \"#fdca26\"], [1.0, \"#f0f921\"]], \"type\": \"heatmap\"}], \"heatmapgl\": [{\"colorbar\": {\"outlinewidth\": 0, \"ticks\": \"\"}, \"colorscale\": [[0.0, \"#0d0887\"], [0.1111111111111111, \"#46039f\"], [0.2222222222222222, \"#7201a8\"], [0.3333333333333333, \"#9c179e\"], [0.4444444444444444, \"#bd3786\"], [0.5555555555555556, \"#d8576b\"], [0.6666666666666666, \"#ed7953\"], [0.7777777777777778, \"#fb9f3a\"], [0.8888888888888888, \"#fdca26\"], [1.0, \"#f0f921\"]], \"type\": \"heatmapgl\"}], \"histogram\": [{\"marker\": {\"colorbar\": {\"outlinewidth\": 0, \"ticks\": \"\"}}, \"type\": \"histogram\"}], \"histogram2d\": [{\"colorbar\": {\"outlinewidth\": 0, \"ticks\": \"\"}, \"colorscale\": [[0.0, \"#0d0887\"], [0.1111111111111111, \"#46039f\"], [0.2222222222222222, \"#7201a8\"], [0.3333333333333333, \"#9c179e\"], [0.4444444444444444, \"#bd3786\"], [0.5555555555555556, \"#d8576b\"], [0.6666666666666666, \"#ed7953\"], [0.7777777777777778, \"#fb9f3a\"], [0.8888888888888888, \"#fdca26\"], [1.0, \"#f0f921\"]], \"type\": \"histogram2d\"}], \"histogram2dcontour\": [{\"colorbar\": {\"outlinewidth\": 0, \"ticks\": \"\"}, \"colorscale\": [[0.0, \"#0d0887\"], [0.1111111111111111, \"#46039f\"], [0.2222222222222222, \"#7201a8\"], [0.3333333333333333, \"#9c179e\"], [0.4444444444444444, \"#bd3786\"], [0.5555555555555556, \"#d8576b\"], [0.6666666666666666, \"#ed7953\"], [0.7777777777777778, \"#fb9f3a\"], [0.8888888888888888, \"#fdca26\"], [1.0, \"#f0f921\"]], \"type\": \"histogram2dcontour\"}], \"mesh3d\": [{\"colorbar\": {\"outlinewidth\": 0, \"ticks\": \"\"}, \"type\": \"mesh3d\"}], \"parcoords\": [{\"line\": {\"colorbar\": {\"outlinewidth\": 0, \"ticks\": \"\"}}, \"type\": \"parcoords\"}], \"pie\": [{\"automargin\": true, \"type\": \"pie\"}], \"scatter\": [{\"marker\": {\"colorbar\": {\"outlinewidth\": 0, \"ticks\": \"\"}}, \"type\": \"scatter\"}], \"scatter3d\": [{\"line\": {\"colorbar\": {\"outlinewidth\": 0, \"ticks\": \"\"}}, \"marker\": {\"colorbar\": {\"outlinewidth\": 0, \"ticks\": \"\"}}, \"type\": \"scatter3d\"}], \"scattercarpet\": [{\"marker\": {\"colorbar\": {\"outlinewidth\": 0, \"ticks\": \"\"}}, \"type\": \"scattercarpet\"}], \"scattergeo\": [{\"marker\": {\"colorbar\": {\"outlinewidth\": 0, \"ticks\": \"\"}}, \"type\": \"scattergeo\"}], \"scattergl\": [{\"marker\": {\"colorbar\": {\"outlinewidth\": 0, \"ticks\": \"\"}}, \"type\": \"scattergl\"}], \"scattermapbox\": [{\"marker\": {\"colorbar\": {\"outlinewidth\": 0, \"ticks\": \"\"}}, \"type\": \"scattermapbox\"}], \"scatterpolar\": [{\"marker\": {\"colorbar\": {\"outlinewidth\": 0, \"ticks\": \"\"}}, \"type\": \"scatterpolar\"}], \"scatterpolargl\": [{\"marker\": {\"colorbar\": {\"outlinewidth\": 0, \"ticks\": \"\"}}, \"type\": \"scatterpolargl\"}], \"scatterternary\": [{\"marker\": {\"colorbar\": {\"outlinewidth\": 0, \"ticks\": \"\"}}, \"type\": \"scatterternary\"}], \"surface\": [{\"colorbar\": {\"outlinewidth\": 0, \"ticks\": \"\"}, \"colorscale\": [[0.0, \"#0d0887\"], [0.1111111111111111, \"#46039f\"], [0.2222222222222222, \"#7201a8\"], [0.3333333333333333, \"#9c179e\"], [0.4444444444444444, \"#bd3786\"], [0.5555555555555556, \"#d8576b\"], [0.6666666666666666, \"#ed7953\"], [0.7777777777777778, \"#fb9f3a\"], [0.8888888888888888, \"#fdca26\"], [1.0, \"#f0f921\"]], \"type\": \"surface\"}], \"table\": [{\"cells\": {\"fill\": {\"color\": \"#EBF0F8\"}, \"line\": {\"color\": \"white\"}}, \"header\": {\"fill\": {\"color\": \"#C8D4E3\"}, \"line\": {\"color\": \"white\"}}, \"type\": \"table\"}]}, \"layout\": {\"annotationdefaults\": {\"arrowcolor\": \"#2a3f5f\", \"arrowhead\": 0, \"arrowwidth\": 1}, \"coloraxis\": {\"colorbar\": {\"outlinewidth\": 0, \"ticks\": \"\"}}, \"colorscale\": {\"diverging\": [[0, \"#8e0152\"], [0.1, \"#c51b7d\"], [0.2, \"#de77ae\"], [0.3, \"#f1b6da\"], [0.4, \"#fde0ef\"], [0.5, \"#f7f7f7\"], [0.6, \"#e6f5d0\"], [0.7, \"#b8e186\"], [0.8, \"#7fbc41\"], [0.9, \"#4d9221\"], [1, \"#276419\"]], \"sequential\": [[0.0, \"#0d0887\"], [0.1111111111111111, \"#46039f\"], [0.2222222222222222, \"#7201a8\"], [0.3333333333333333, \"#9c179e\"], [0.4444444444444444, \"#bd3786\"], [0.5555555555555556, \"#d8576b\"], [0.6666666666666666, \"#ed7953\"], [0.7777777777777778, \"#fb9f3a\"], [0.8888888888888888, \"#fdca26\"], [1.0, \"#f0f921\"]], \"sequentialminus\": [[0.0, \"#0d0887\"], [0.1111111111111111, \"#46039f\"], [0.2222222222222222, \"#7201a8\"], [0.3333333333333333, \"#9c179e\"], [0.4444444444444444, \"#bd3786\"], [0.5555555555555556, \"#d8576b\"], [0.6666666666666666, \"#ed7953\"], [0.7777777777777778, \"#fb9f3a\"], [0.8888888888888888, \"#fdca26\"], [1.0, \"#f0f921\"]]}, \"colorway\": [\"#636efa\", \"#EF553B\", \"#00cc96\", \"#ab63fa\", \"#FFA15A\", \"#19d3f3\", \"#FF6692\", \"#B6E880\", \"#FF97FF\", \"#FECB52\"], \"font\": {\"color\": \"#2a3f5f\"}, \"geo\": {\"bgcolor\": \"white\", \"lakecolor\": \"white\", \"landcolor\": \"#E5ECF6\", \"showlakes\": true, \"showland\": true, \"subunitcolor\": \"white\"}, \"hoverlabel\": {\"align\": \"left\"}, \"hovermode\": \"closest\", \"mapbox\": {\"style\": \"light\"}, \"paper_bgcolor\": \"white\", \"plot_bgcolor\": \"#E5ECF6\", \"polar\": {\"angularaxis\": {\"gridcolor\": \"white\", \"linecolor\": \"white\", \"ticks\": \"\"}, \"bgcolor\": \"#E5ECF6\", \"radialaxis\": {\"gridcolor\": \"white\", \"linecolor\": \"white\", \"ticks\": \"\"}}, \"scene\": {\"xaxis\": {\"backgroundcolor\": \"#E5ECF6\", \"gridcolor\": \"white\", \"gridwidth\": 2, \"linecolor\": \"white\", \"showbackground\": true, \"ticks\": \"\", \"zerolinecolor\": \"white\"}, \"yaxis\": {\"backgroundcolor\": \"#E5ECF6\", \"gridcolor\": \"white\", \"gridwidth\": 2, \"linecolor\": \"white\", \"showbackground\": true, \"ticks\": \"\", \"zerolinecolor\": \"white\"}, \"zaxis\": {\"backgroundcolor\": \"#E5ECF6\", \"gridcolor\": \"white\", \"gridwidth\": 2, \"linecolor\": \"white\", \"showbackground\": true, \"ticks\": \"\", \"zerolinecolor\": \"white\"}}, \"shapedefaults\": {\"line\": {\"color\": \"#2a3f5f\"}}, \"ternary\": {\"aaxis\": {\"gridcolor\": \"white\", \"linecolor\": \"white\", \"ticks\": \"\"}, \"baxis\": {\"gridcolor\": \"white\", \"linecolor\": \"white\", \"ticks\": \"\"}, \"bgcolor\": \"#E5ECF6\", \"caxis\": {\"gridcolor\": \"white\", \"linecolor\": \"white\", \"ticks\": \"\"}}, \"title\": {\"x\": 0.05}, \"xaxis\": {\"automargin\": true, \"gridcolor\": \"white\", \"linecolor\": \"white\", \"ticks\": \"\", \"title\": {\"standoff\": 15}, \"zerolinecolor\": \"white\", \"zerolinewidth\": 2}, \"yaxis\": {\"automargin\": true, \"gridcolor\": \"white\", \"linecolor\": \"white\", \"ticks\": \"\", \"title\": {\"standoff\": 15}, \"zerolinecolor\": \"white\", \"zerolinewidth\": 2}}}, \"title\": {\"text\": \"5 Year Stock growth by Sector\"}, \"xaxis\": {\"anchor\": \"y\", \"domain\": [0.0, 1.0], \"title\": {\"text\": \"Sector\"}}, \"yaxis\": {\"anchor\": \"x\", \"domain\": [0.0, 1.0], \"title\": {\"text\": \"5 Yr Growth\"}}},\n",
       "                        {\"responsive\": true}\n",
       "                    ).then(function(){\n",
       "                            \n",
       "var gd = document.getElementById('1462688d-dcf2-4ff2-a99d-f0765b4fe076');\n",
       "var x = new MutationObserver(function (mutations, observer) {{\n",
       "        var display = window.getComputedStyle(gd).display;\n",
       "        if (!display || display === 'none') {{\n",
       "            console.log([gd, 'removed!']);\n",
       "            Plotly.purge(gd);\n",
       "            observer.disconnect();\n",
       "        }}\n",
       "}});\n",
       "\n",
       "// Listen for the removal of the full notebook cells\n",
       "var notebookContainer = gd.closest('#notebook-container');\n",
       "if (notebookContainer) {{\n",
       "    x.observe(notebookContainer, {childList: true});\n",
       "}}\n",
       "\n",
       "// Listen for the clearing of the current output cell\n",
       "var outputEl = gd.closest('.output');\n",
       "if (outputEl) {{\n",
       "    x.observe(outputEl, {childList: true});\n",
       "}}\n",
       "\n",
       "                        })\n",
       "                };\n",
       "                });\n",
       "            </script>\n",
       "        </div>"
      ]
     },
     "metadata": {},
     "output_type": "display_data"
    }
   ],
   "source": [
    "#stock_sectors = combo_stocks_sp500.groupby('Sector')['Current Price'].plot(kind='bar', legend=True)\n",
    "\n",
    "\n",
    "stocks_by_sector = combo_stocks_sp500.groupby(\"Sector\").mean().reset_index()\n",
    "bar_plot5 = px.bar(\n",
    "    combo_stocks_sp500, x=\"Sector\", y=\"5 Yr Growth\", title=\"5 Year Stock growth by Sector\"\n",
    ")\n",
    "bar_plot5"
   ]
  },
  {
   "cell_type": "code",
   "execution_count": null,
   "metadata": {},
   "outputs": [],
   "source": []
  },
  {
   "cell_type": "code",
   "execution_count": null,
   "metadata": {},
   "outputs": [],
   "source": []
  }
 ],
 "metadata": {
  "kernelspec": {
   "display_name": "Python [conda env:pyvizenv] *",
   "language": "python",
   "name": "conda-env-pyvizenv-py"
  },
  "language_info": {
   "codemirror_mode": {
    "name": "ipython",
    "version": 3
   },
   "file_extension": ".py",
   "mimetype": "text/x-python",
   "name": "python",
   "nbconvert_exporter": "python",
   "pygments_lexer": "ipython3",
   "version": "3.7.7"
  }
 },
 "nbformat": 4,
 "nbformat_minor": 4
}
