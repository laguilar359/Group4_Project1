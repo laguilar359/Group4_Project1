{
 "cells": [
  {
   "cell_type": "code",
   "execution_count": 88,
   "metadata": {},
   "outputs": [],
   "source": [
    "# initial imports\n",
    "import pandas as pd\n",
    "import plotly.express as px\n",
    "import plotly.graph_objects as go\n",
    "import panel as pn\n",
    "import numpy as np\n",
    "import datetime as dt\n",
    "from pathlib import Path\n",
    "pn.extension('plotly')\n",
    "import warnings\n",
    "warnings.filterwarnings('ignore')"
   ]
  },
  {
   "cell_type": "code",
   "execution_count": 89,
   "metadata": {},
   "outputs": [],
   "source": [
    "import hvplot.pandas\n",
    "import matplotlib\n",
    "import psycopg2\n",
    "from sqlalchemy import create_engine\n",
    "import json"
   ]
  },
  {
   "cell_type": "code",
   "execution_count": 90,
   "metadata": {},
   "outputs": [],
   "source": [
    "from dotenv import get_key\n",
    "psqgl_credential = get_key('.env', 'CREDENTIAL')\n",
    "#con_str = \"postgresql://\" + psqgl_credential + \"@localhost:5432/postgres\"\n",
    "api_key = get_key('.env', 'ALPACA_API_KEY')\n",
    "secret_key=get_key('.env', 'ALPACA_SECRET_KEY')"
   ]
  },
  {
   "cell_type": "code",
   "execution_count": 91,
   "metadata": {},
   "outputs": [],
   "source": [
    "#backtesting library\n",
    "import backtesting\n",
    "from backtesting import Backtest, Strategy\n",
    "from backtesting.lib import crossover\n",
    "from backtesting.test import SMA\n",
    "backtesting.set_bokeh_output(notebook=False)\n",
    "import alpaca_trade_api as tradeapi"
   ]
  },
  {
   "cell_type": "code",
   "execution_count": 92,
   "metadata": {},
   "outputs": [],
   "source": [
    "import Group4_Project1_Copy1\n",
    "global stock\n",
    "global slow\n",
    "global fast\n",
    "global cash\n",
    "global order\n",
    "global commission\n",
    "global tickers\n",
    "global db_connection"
   ]
  },
  {
   "cell_type": "code",
   "execution_count": 93,
   "metadata": {},
   "outputs": [],
   "source": [
    "def run_backtest(event):\n",
    "    run_bt_button.name =\"Running Backtest..\"\n",
    "    panel_tabs_view.active=3\n",
    "    #remove_obj()\n",
    "    slow = int(slow_sma.value)\n",
    "    fast =  int(fast_sma.value)\n",
    "    cash= int(cash_val.value)\n",
    "    stock= ticker_stk.value\n",
    "    commission=float(commission_pct.value)\n",
    "    order = order_type.value\n",
    "    if ticker_selector.value ==[]:\n",
    "        file = 'PB_Resources/' + stock +'.csv'\n",
    "        stock=pd.read_csv(file, index_col='Date', parse_dates=True)\n",
    "    else:\n",
    "        df_dict[stock].columns=['Open', 'High', 'Low', 'Close', 'Volume']\n",
    "        stock=df_dict[stock] \n",
    "    bt = Backtest(stock, SmaCross, cash=cash, commission=commission, exclusive_orders=order_type)                                                     \n",
    "    output = bt.run()\n",
    "    plot= bt.plot(open_browser=True, plot_width=1000, plot_equity=True, plot_pl=True, plot_volume=True,\n",
    "    plot_drawdown=True, smooth_equity=False, relative_equity=True, resample=True, reverse_indicators=False, show_legend=True)\n",
    "    bt_config.append(plot)\n",
    "    bt_config.append(output)\n",
    "    #panel_tabs_view[3] = (\"Configure Backtest Strategy\", bt_config)\n",
    "    #panel_tabs_view.active=3\n",
    "    #return bt_config"
   ]
  },
  {
   "cell_type": "code",
   "execution_count": 94,
   "metadata": {},
   "outputs": [],
   "source": [
    "#run_backtest() #test function call"
   ]
  },
  {
   "cell_type": "code",
   "execution_count": 95,
   "metadata": {},
   "outputs": [],
   "source": [
    "class SmaCross(Strategy):\n",
    "    sma_slow = 100\n",
    "    sma_fast= 10\n",
    "    \n",
    "    def init(self):\n",
    "        self.sma1 = self.I(SMA, self.data.Close, self.sma_fast)\n",
    "        self.sma2 = self.I(SMA, self.data.Close, self.sma_slow)\n",
    "        \n",
    "    def next(self):\n",
    "        if crossover(self.sma1, self.sma2):\n",
    "            self.buy()\n",
    "        elif crossover(self.sma2, self.sma1):\n",
    "            self.sell()\n"
   ]
  },
  {
   "cell_type": "code",
   "execution_count": 96,
   "metadata": {},
   "outputs": [],
   "source": [
    "def initializer(event):\n",
    "    \"\"\"Function to initiate interactive widgets and build the panel based on user selection.\n",
    "    this is tied to start button onclick event which loads additional widgets for selecting data sources and asssociate \n",
    "    parameters such as the files, api keys etc.\"\"\"\n",
    "    if start_button.name =='Start':\n",
    "        panel_tabs_view.active = 0\n",
    "        inital_right.append(config_col)\n",
    "        start_button.name='Cancel'\n",
    "        if wizard_group.value=='Configure Strategy':\n",
    "            panel_tabs_view[3] = (\"Configure Backtest Strategy\", bt_pane)\n",
    "            panel_tabs_view.active=3 \n",
    "            \n",
    "    elif start_button.name == 'Cancel':\n",
    "        inital_right.remove(config_col)\n",
    "        start_button.name='Start'"
   ]
  },
  {
   "cell_type": "code",
   "execution_count": 97,
   "metadata": {},
   "outputs": [],
   "source": [
    "def load_file_data(event):\n",
    "    \"\"\"function identifies file extensions and triggers dataload by calling get_Dataframe function\"\"\"\n",
    "    data_col.remove\n",
    "    panel_tabs_view.active=0\n",
    "    files_to_load = select_data_files.value\n",
    "    global df_dict\n",
    "    df_dict={}\n",
    "    for file in files_to_load:\n",
    "        file_extention = file.split(\".\")[1]\n",
    "        file_desc = file.split(\".\")[0]\n",
    "        file_desc = \"r\"+f'{file_desc}'\n",
    "        file_name = file_desc.split('\\\\')[-1]\n",
    "        abs_path = file.replace('\\\\', '/')\n",
    "        df_dict.update(get_dataframe(file_extention, file_name, abs_path))\n",
    "    paint_panel_tab(df_dict)"
   ]
  },
  {
   "cell_type": "code",
   "execution_count": 98,
   "metadata": {},
   "outputs": [],
   "source": [
    "#load_file_data()"
   ]
  },
  {
   "cell_type": "code",
   "execution_count": 99,
   "metadata": {},
   "outputs": [],
   "source": [
    "def paint_panel_tab(df_dict):\n",
    "    \"\"\"function to populate the data screen/panel\"\"\"\n",
    "    data_row.clear()\n",
    "    data_col.clear()\n",
    "    row_index=0\n",
    "    for key in df_dict:\n",
    "        df_pane = pn.pane.DataFrame(df_dict[key],  render_links = True, show_dimensions =True, max_rows =5)\n",
    "        pane = pn.panel(df_pane.param, parameters=['index', 'show_dimensions', 'max_rows',],\n",
    "        widgets={'max_rows': {'start': 1, 'end': len(df_dict[key]), 'value': 5}})\n",
    "        #df_plot_graph = get_financial_plots(df_dict[key])\n",
    "        null_count = pn.widgets.StaticText(name='Nulls: ', value=df_dict[key].count() - df_dict[key].notna().count())\n",
    "        data_types = pn.widgets.StaticText(name='Data types: ', value=df_dict[key].dtypes)\n",
    "        duplicate_data = pn.widgets.StaticText(name='Duplicates: ', value = df_dict[key].count() - df_dict[key].nunique())\n",
    "        data_col.insert(row_index, pn.Column())\n",
    "        data_col[row_index].append(key)\n",
    "        data_col[row_index].append(df_pane)\n",
    "        data_col[row_index].append(null_count)\n",
    "        data_col[row_index].append(data_types)\n",
    "        data_col[row_index].append(duplicate_data)\n",
    "        data_col[row_index].append(pane)\n",
    "        data_col[row_index].append(visual_row)\n",
    "        plots = plot_graphs(df_dict[key])\n",
    "        for plot in plots:\n",
    "            data_col[row_index].append(plot)\n",
    "        data_col[row_index].append(reset_button)\n",
    "        data_row.insert(row_index, pn.Row(data_col[row_index]))\n",
    "        row_index += 1\n",
    "    panel_tabs_view.active = 2"
   ]
  },
  {
   "cell_type": "code",
   "execution_count": 100,
   "metadata": {},
   "outputs": [],
   "source": [
    "def show_plot(event):\n",
    "    try:\n",
    "        plot_btn.width = 50\n",
    "        plot_btn.background = 'Red'\n",
    "        plot_btn.disabled=True    \n",
    "        for plot in plots:\n",
    "            data_col.append(plot)\n",
    "            panel_tabs_view[4] = (\"Visualizations\", data_col)\n",
    "            panel_tabs_view.active = 4\n",
    "    except Exception as e:\n",
    "        plot_btn.message(e)"
   ]
  },
  {
   "cell_type": "code",
   "execution_count": 101,
   "metadata": {},
   "outputs": [],
   "source": [
    "def plot_selected(event): # not used\n",
    "    selected_plot = plot_option.value\n",
    "    if selected_plot != \"Select Chart\":\n",
    "        selected_plot = selected_plot.lower()\n",
    "        selected_plot =  globals()[selected_plot]\n",
    "        #show_btn.name=plot_option.value\n",
    "        selected_plot()\n",
    "        #return selected_plot()#(stock)"
   ]
  },
  {
   "cell_type": "code",
   "execution_count": 102,
   "metadata": {},
   "outputs": [],
   "source": [
    "def plot_graphs(df_item):\n",
    "    \"\"\"function to plot graphs.  This is base version, ideally a variable specifying \n",
    "    the type of graph needed will need to be passed upon user selection\"\"\"\n",
    "    df_item.dropna(inplace = True)\n",
    "    if len(df_item.columns) > 2:\n",
    "        if 'open' in df_item.columns:\n",
    "            df_item.columns=['Open', 'High', 'Low', 'Close', 'Volume']\n",
    "    else:\n",
    "        if 'close' in df_itmes.columns:\n",
    "            df_item.columns = ['Close']\n",
    "            \n",
    "    df_item= df_item.sort_index()\n",
    "    dr_plot= df_item.hvplot.line( title = \" Daily Close Vs SMA20, 50 & 200\",  grid=True)\n",
    "    sma5 = np.round(df_item.rolling(window = 5).mean(), 2)\n",
    "    #sma5_plt = sma5.hvplot.line(x='Date', y='Close', grid=True, title=\"5 day Moving average\")\n",
    "    sma20 = np.round(df_item.rolling(window = 20).mean(), 2)\n",
    "    sma20_plot = sma20.hvplot.line( grid=True, title=\"20 day Moving average\")\n",
    "    sma50 = np.round(df_item.rolling(window = 50).mean(), 2)\n",
    "    sma50_plot = sma50.hvplot.line(  grid=True, title=\"50 day Moving average\")\n",
    "    sma200 = np.round(df_item.rolling(window = 200, center = False).mean(), 2)\n",
    "    sma200_plot = sma200.hvplot.line( grid=True, title=\"200 day Moving average\")\n",
    "    sma_combo_plot =  dr_plot* sma20_plot*sma50_plot*sma200_plot\n",
    "    sma_combo_plot.opts(bgcolor='black')\n",
    "    if 'High' in df_item.columns:\n",
    "        candle = go.Figure(data=[go.Candlestick(x=df_item.index,\n",
    "                        open = df_item['Open'],\n",
    "                        high =df_item['High'],\n",
    "                        low=df_item['Low'],\n",
    "                        close=df_item['Close'])])\n",
    "    else:\n",
    "        candle=df_item['Close'].hvplot.line()\n",
    "    daily_returns=  df_item['Close'].pct_change()\n",
    "    dr_plot = daily_returns.hvplot.line(title=\"Daily, Cumulative 180 day STD & Mean\")\n",
    "    cumulative_returns = (1 + daily_returns).cumprod().hvplot.line()\n",
    "    std_180=df_item['Close'].rolling(window=180).std().hvplot.line()\n",
    "    mean_180= df_item['Close'].rolling(window=180).mean().hvplot.line()\n",
    "    ret_combo_plot =  dr_plot * cumulative_returns * std_180 * mean_180\n",
    "    ret_combo_plot.opts(bgcolor='black', show_grid=True)\n",
    "    return [candle, sma_combo_plot, ret_combo_plot]"
   ]
  },
  {
   "cell_type": "code",
   "execution_count": 103,
   "metadata": {},
   "outputs": [],
   "source": [
    "def get_dataframe (ext, name, path):\n",
    "    \"\"\"This is where we read each file and load the data into dataframes\"\"\"\n",
    "    df_dict = {}\n",
    "    if ext == 'xlsx':\n",
    "        data_frame = pd.read_excel(path, parse_dates=True, infer_datetime_format=True)\n",
    "    elif ext == 'csv':\n",
    "        data_frame =pd.read_csv(path, index_col='Date', parse_dates=True)\n",
    "    elif ext == 'json':\n",
    "        data_frame = pd.read_json(path, orient=None, typ='frame')\n",
    "    elif ext == 'sql':\n",
    "        data_frame == pd.read_sql(sql, con, index_col=None, coerce_float=True, params=None, parse_dates=None)\n",
    "    elif ext == 'html':\n",
    "        data_frame == pd.read_html(io, match='.+', flavor=None, header=None, index_col=None, skiprows=None, attrs=None, parse_dates=False, tupleize_cols=None, thousands=',', encoding=None, decimal='.', converters=None, na_values=None, keep_default_na=True, displayed_only=True)\n",
    "    else:\n",
    "        print(\"cannot read the file extensions\")\n",
    "    df_dict= {name: data_frame}\n",
    "    return df_dict"
   ]
  },
  {
   "cell_type": "code",
   "execution_count": 155,
   "metadata": {},
   "outputs": [],
   "source": [
    "def fetch_api_data():\n",
    "    \"\"\"This is where we fetch data using API and pass the data frame to the plotting function\"\"\"\n",
    "    global df_dict\n",
    "    df_dict={}\n",
    "    alpaca_key=api_key.value\n",
    "    secret_key=api_secret_key.value\n",
    "    alpaca = tradeapi.REST(alpaca_key, secret_key, api_version=\"v2\")\n",
    "    today=pd.Timestamp(\"2020-08-19\", tz=\"America/Chicago\").isoformat()\n",
    "    timeframe=\"1D\"\n",
    "    tf_start = start_date.value\n",
    "    tf_end= end_date.value\n",
    "    tickers = ticker_selector.value\n",
    "    for ticker in tickers:\n",
    "        df_portfolio = alpaca.get_barset(ticker, timeframe, start=tf_start, end=tf_end).df\n",
    "        df_dict.update({ticker: df_portfolio[ticker]})\n",
    "    paint_panel_tab(df_dict)\n",
    "    #return df_portfolio.head()"
   ]
  },
  {
   "cell_type": "code",
   "execution_count": 431,
   "metadata": {},
   "outputs": [],
   "source": [
    "#fetch_api_data() #- Test function call"
   ]
  },
  {
   "cell_type": "code",
   "execution_count": 106,
   "metadata": {},
   "outputs": [],
   "source": [
    "def data_cleanser():\n",
    "    \"\"\"function to inspect, clean, manipulate the data\"\"\"\n",
    "    pass\n",
    "\n",
    "def simulate_mc():\n",
    "    \"\"\"place holder function to initiate mc simulation\"\"\"\n",
    "    pass"
   ]
  },
  {
   "cell_type": "code",
   "execution_count": 107,
   "metadata": {},
   "outputs": [],
   "source": [
    "def clearpane(event):\n",
    "    \"\"\"ideally pass the row/column reference. this is a place holder function\"\"\"\n",
    "    #data_row.clear()\n",
    "    data_col.clear()\n",
    "    #remove_obj()\n",
    "    panel_tabs_view.active=0"
   ]
  },
  {
   "cell_type": "code",
   "execution_count": 108,
   "metadata": {},
   "outputs": [],
   "source": [
    "def show_source(event):\n",
    "    \"\"\"function to show/ remove widget for loading data sources\"\"\"\n",
    "    if data_sources.value == 'API':\n",
    "        remove_obj()\n",
    "        config_col.append(api_row)\n",
    "        config_col.append(date_row)\n",
    "        config_col.append(ticker_selector)\n",
    "        config_col.append(reset_button)\n",
    "        config_col.append(fetch_button)\n",
    "    elif data_sources.value == 'Local Files':\n",
    "        remove_obj()\n",
    "        config_col.append(select_data_files)\n",
    "        config_col.append(load_files_button)\n",
    "    elif data_sources.value == 'Google Finance':\n",
    "        remove_obj()\n",
    "        config_col.append(url_input)\n",
    "    elif data_sources.value == 'Database':\n",
    "        remove_obj()\n",
    "        config_col.append(db_source)\n",
    "        config_col.append(db_user)\n",
    "        config_col.append(db_pswd)\n",
    "        config_col.append(db_conn)\n",
    "        config_col.append(db_sql)\n",
    "        config_col.append(dbconn_button)\n",
    "        config_col.append(reset_button)\n",
    "    else:\n",
    "        remove_obj()"
   ]
  },
  {
   "cell_type": "code",
   "execution_count": 109,
   "metadata": {},
   "outputs": [],
   "source": [
    "def db_connect(event):\n",
    "    engine = db_source.value + f'://' + db_user.value  + f':' + db_pswd.value + \"@\" + db_conn.value + \"/\" + db_user.value\n",
    "    pgsql_engine = create_engine(engine)\n",
    "    db_connection = pgsql_engine.connect()\n",
    "    df_sql = pd.read_sql(db_sql.value, db_connection)\n",
    "    df_pane = pn.pane.DataFrame(df_sql,  render_links = True, height_policy = 'auto', width_policy = 'auto', align='start', sizing_mode='scale_both', show_dimensions =True, max_rows =5)\n",
    "    panel_tabs_view[4] = (\"Visualizations\", df_pane)\n",
    "    panel_tabs_view.active=4\n",
    "    config_col.clear()\n",
    "    panel_tabs_view[4].append(config_col)\n",
    "    config_col.append(df_sql)\n",
    "    config_col.append(query_builder)\n",
    "    plot_lst=[]\n",
    "    for plot in px:\n",
    "        plot_lst.append(plot)\n",
    "    plot_lst = pn.widgets.Select(name='Visualizations', options=plot_lst)\n",
    "    db_connection.close()\n",
    "    config_col.append(plot_lst)"
   ]
  },
  {
   "cell_type": "code",
   "execution_count": 110,
   "metadata": {},
   "outputs": [],
   "source": [
    "def remove_obj():\n",
    "    \"\"\"function to clear previous widgets\"\"\"\n",
    "    for widget in config_col.objects:\n",
    "        if widget.name != 'DataSource':\n",
    "            config_col.remove(widget)\n",
    "            pass"
   ]
  },
  {
   "cell_type": "code",
   "execution_count": 111,
   "metadata": {},
   "outputs": [],
   "source": [
    "welcome_img = pn.pane.PNG('PB_Resources/images/financial-planner.png', width=300)"
   ]
  },
  {
   "cell_type": "code",
   "execution_count": 112,
   "metadata": {},
   "outputs": [],
   "source": [
    "header= \"\"\"#Portfolio Builder and Algorithmic Trading Platform\"\"\"\n",
    "\n",
    "markdown =\"\"\"This tool helps build, compare, backtest, benchmark and simulate porfolio returns \n",
    "based on style factors, sector or different Indexes with choice to either run \n",
    "in the background or in an interactive way providing a wizard at every step for the advisor \n",
    "to analyze the visualizations and calibrate Trading strategies.\"\"\"\n",
    "\n",
    "welcome_msg = pn.Column(header, welcome_img, markdown )"
   ]
  },
  {
   "cell_type": "code",
   "execution_count": 113,
   "metadata": {},
   "outputs": [],
   "source": [
    "start_date = pn.widgets.DatePicker(name='StartDate')\n",
    "end_date = pn.widgets.DatePicker(name='EndDate')\n",
    "date_row = pn.Row(start_date, end_date)"
   ]
  },
  {
   "cell_type": "code",
   "execution_count": 114,
   "metadata": {},
   "outputs": [],
   "source": [
    "url_input = pn.widgets.TextInput(name='google_link', value='Enter the google finance url')\n",
    "db_source = pn.widgets.TextInput(name='Database', value='postgresql')\n",
    "db_conn = pn.widgets.TextInput(name='Connection', value='localhost:5432')\n",
    "db_user = pn.widgets.TextInput(name='usrname', value='postgres')\n",
    "db_pswd = pn.widgets.PasswordInput(name='DBPassword', max_width = 200, value=psqgl_credential)\n",
    "db_sql = pn.widgets.TextInput(name='Sql', value='enter the SQL query')"
   ]
  },
  {
   "cell_type": "code",
   "execution_count": 115,
   "metadata": {},
   "outputs": [
    {
     "data": {
      "application/vnd.holoviews_exec.v0+json": "",
      "text/html": [
       "<div id='2912'>\n",
       "\n",
       "\n",
       "\n",
       "\n",
       "\n",
       "  <div class=\"bk-root\" id=\"ed7fb290-819b-4288-8198-c4a2e4f66322\" data-root-id=\"2912\"></div>\n",
       "</div>\n",
       "<script type=\"application/javascript\">(function(root) {\n",
       "  function embed_document(root) {\n",
       "  var docs_json = {\"4c38f941-3350-471e-9072-7a886772b271\":{\"roots\":{\"references\":[{\"attributes\":{\"children\":[{\"id\":\"2914\"},{\"id\":\"2915\"}],\"margin\":[0,0,0,0],\"name\":\"Column04560\",\"sizing_mode\":\"stretch_both\"},\"id\":\"2913\",\"type\":\"Column\"},{\"attributes\":{\"children\":[{\"id\":\"2919\"},{\"id\":\"2920\"}],\"margin\":[0,5,0,5],\"name\":\"Column04562\"},\"id\":\"2918\",\"type\":\"Column\"},{\"attributes\":{\"margin\":[0,0,10,0],\"placeholder\":\"Filter selected options\",\"width_policy\":\"max\"},\"id\":\"2923\",\"type\":\"TextInput\"},{\"attributes\":{\"disabled\":true,\"margin\":[0,0,0,0],\"max_length\":5000,\"placeholder\":\"To select an item highlight it on the left and use the arrow button to move it to the right.\",\"sizing_mode\":\"stretch_both\"},\"id\":\"2924\",\"type\":\"TextAreaInput\"},{\"attributes\":{\"children\":[{\"id\":\"2917\"},{\"id\":\"2918\"},{\"id\":\"2921\"}],\"margin\":[0,0,0,0],\"name\":\"Column04565\"},\"id\":\"2916\",\"type\":\"Column\"},{\"attributes\":{\"icon\":null,\"label\":\"<<\",\"margin\":[5,10,5,10],\"min_width\":50,\"subscribed_events\":[\"button_click\"],\"width\":50},\"id\":\"2920\",\"type\":\"Button\"},{\"attributes\":{\"client_comm_id\":\"9413e8906e7e47d5adc01118786b914f\",\"comm_id\":\"710043c29dc14e4cacd78d07a40836a5\",\"plot_id\":\"2912\"},\"id\":\"2925\",\"type\":\"panel.models.comm_manager.CommManager\"},{\"attributes\":{\"children\":[{\"id\":\"2913\"},{\"id\":\"2916\"},{\"id\":\"2922\"}],\"height\":200,\"margin\":[5,10,5,10],\"min_height\":200,\"min_width\":600,\"name\":\"Tickers\",\"width\":600},\"id\":\"2912\",\"type\":\"Row\"},{\"attributes\":{\"margin\":[0,0,10,0],\"placeholder\":\"Filter available options\",\"width_policy\":\"max\"},\"id\":\"2914\",\"type\":\"TextInput\"},{\"attributes\":{\"children\":[{\"id\":\"2923\"},{\"id\":\"2924\"}],\"margin\":[0,0,0,0],\"name\":\"Column04561\",\"sizing_mode\":\"stretch_both\"},\"id\":\"2922\",\"type\":\"Column\"},{\"attributes\":{\"margin\":[5,5,5,5],\"name\":\"VSpacer04563\",\"sizing_mode\":\"stretch_height\"},\"id\":\"2917\",\"type\":\"Spacer\"},{\"attributes\":{\"margin\":[5,5,5,5],\"name\":\"VSpacer04564\",\"sizing_mode\":\"stretch_height\"},\"id\":\"2921\",\"type\":\"Spacer\"},{\"attributes\":{\"icon\":null,\"label\":\">>\",\"margin\":[5,10,5,10],\"min_width\":50,\"subscribed_events\":[\"button_click\"],\"width\":50},\"id\":\"2919\",\"type\":\"Button\"},{\"attributes\":{\"margin\":[0,0,0,0],\"options\":[\"A\",\"AAL\",\"AAP\",\"AAPL\",\"ABBV\",\"ABC\",\"ABMD\",\"ABT\",\"ACN\",\"ADI\",\"ADM\",\"ADP\",\"ADSK\",\"AEE\",\"AEP\",\"AES\",\"AFL\",\"AIZ\",\"AJG\",\"AKAM\",\"ALB\",\"ALGN\",\"ALK\",\"ALL\",\"ALLE\",\"ALXN\",\"AMAT\",\"AMD\",\"AMGN\",\"AMP\",\"AMT\",\"AMZN\",\"ANET\",\"ANSS\",\"AON\",\"APA\",\"APD\",\"APH\",\"APTV\",\"ARE\",\"ATO\",\"ATVI\",\"AVB\",\"AVGO\",\"AVY\",\"AWK\",\"AXP\",\"AZO\",\"BA\",\"BAC\",\"BAX\",\"BBY\",\"BDX\",\"BEN\",\"BIIB\",\"BIO\",\"BK\",\"BKNG\",\"BKR\",\"BLK\",\"BLL\",\"BMY\",\"BRK.B\",\"BSX\",\"BXP\",\"CAG\",\"CAH\",\"CAT\",\"CB\",\"CBOE\",\"CBRE\",\"CCI\",\"CCL\",\"CDNS\",\"CDW\",\"CE\",\"CERN\",\"CF\",\"CFG\",\"CHD\",\"CHRW\",\"CHTR\",\"CI\",\"CLX\",\"CMA\",\"CMCSA\",\"CME\",\"CMG\",\"CMI\",\"CMS\",\"CNC\",\"CNP\",\"COF\",\"COG\",\"COO\",\"COP\",\"COST\",\"COTY\",\"CPB\",\"CPRT\",\"CRM\",\"CSCO\",\"CSX\",\"CTAS\",\"CTSH\",\"CTXS\",\"CVS\",\"CVX\",\"CXO\",\"D\",\"DAL\",\"DD\",\"DE\",\"DFS\",\"DG\",\"DGX\",\"DHI\",\"DHR\",\"DIS\",\"DISCA\",\"DISCK\",\"DISH\",\"DOV\",\"DPZ\",\"DRI\",\"DTE\",\"DUK\",\"DVA\",\"DVN\",\"DXCM\",\"EA\",\"EBAY\",\"ECL\",\"ED\",\"EFX\",\"EL\",\"EMN\",\"EMR\",\"EOG\",\"EQIX\",\"ES\",\"ESS\",\"ETN\",\"ETR\",\"EVRG\",\"EW\",\"EXC\",\"EXPD\",\"EXPE\",\"EXR\",\"F\",\"FANG\",\"FAST\",\"FB\",\"FBHS\",\"FCX\",\"FDX\",\"FFIV\",\"FIS\",\"FISV\",\"FITB\",\"FLIR\",\"FLS\",\"FLT\",\"FMC\",\"FOXA\",\"FRT\",\"FTI\",\"FTNT\",\"GD\",\"GE\",\"GILD\",\"GIS\",\"GL\",\"GLW\",\"GM\",\"GOOG\",\"GOOGL\",\"GPC\",\"GPN\",\"GS\",\"HAL\",\"HAS\",\"HBAN\",\"HBI\",\"HCA\",\"HD\",\"HFC\",\"HII\",\"HLT\",\"HOLX\",\"HON\",\"HPQ\",\"HRB\",\"HRL\",\"HSIC\",\"HST\",\"HWM\",\"IBM\",\"ICE\",\"IDXX\",\"IEX\",\"IFF\",\"ILMN\",\"INCY\",\"INFO\",\"INTU\",\"INX\",\"IP\",\"IPG\",\"IPGP\",\"IQV\",\"IRM\",\"ISRG\",\"IT\",\"ITW\",\"IVZ\",\"JBHT\",\"JCI\",\"JKHY\",\"JNPR\",\"K\",\"KEYS\",\"KHC\",\"KIM\",\"KLAC\",\"KMB\",\"KMI\",\"KMX\",\"KO\",\"KR\",\"KSS\",\"KSU\",\"LB\",\"LDOS\",\"LEN\",\"LH\",\"LHX\",\"LIN\",\"LKQ\",\"LLY\",\"LMT\",\"LNC\",\"LNT\",\"LOW\",\"LRCX\",\"LUV\",\"LVS\",\"LYV\",\"MA\",\"MAA\",\"MAR\",\"MAS\",\"MCD\",\"MCHP\",\"MCK\",\"MCO\",\"MDLZ\",\"MDT\",\"MET\",\"MGM\",\"MHK\",\"MKC\",\"MKTX\",\"MLM\",\"MMC\",\"MMM\",\"MO\",\"MOS\",\"MPC\",\"MRK\",\"MRO\",\"MSCI\",\"MSFT\",\"MSI\",\"MTB\",\"MTD\",\"MXIM\",\"MYL\",\"NBL\",\"NEM\",\"NFLX\",\"NI\",\"NKE\",\"NLOK\",\"NLSN\",\"NOC\",\"NOV\",\"NOW\",\"NRG\",\"NSC\",\"NTAP\",\"NTRS\",\"NUE\",\"NVDA\",\"NVR\",\"NWL\",\"NWS\",\"NWSA\",\"O\",\"ODFL\",\"OKE\",\"OMC\",\"ORCL\",\"ORLY\",\"OXY\",\"PAYC\",\"PAYX\",\"PBCT\",\"PCAR\",\"PEG\",\"PEP\",\"PFE\",\"PG\",\"PGR\",\"PH\",\"PHM\",\"PKI\",\"PLD\",\"PM\",\"PNC\",\"PNR\",\"PNW\",\"PPG\",\"PPL\",\"PRGO\",\"PRU\",\"PSA\",\"PSX\",\"PWR\",\"PXD\",\"PYPL\",\"QCOM\",\"QRVO\",\"RCL\",\"RE\",\"REG\",\"REGN\",\"RF\",\"RHI\",\"RJF\",\"RL\",\"RMD\",\"ROK\",\"ROL\",\"ROP\",\"ROST\",\"RSG\",\"RTX\",\"SBAC\",\"SBUX\",\"SCHW\",\"SEE\",\"SHW\",\"SIVB\",\"SJM\",\"SLB\",\"SLG\",\"SNA\",\"SNPS\",\"SO\",\"SPGI\",\"SRE\",\"STE\",\"STT\",\"STX\",\"STZ\",\"SWK\",\"SYK\",\"SYY\",\"T\",\"TAP\",\"TDG\",\"TDY\",\"TEL\",\"TFC\",\"TFX\",\"TGT\",\"TIF\",\"TJX\",\"TMO\",\"TMUS\",\"TPR\",\"TROW\",\"TRV\",\"TSCO\",\"TSN\",\"TT\",\"TTWO\",\"TWTR\",\"TXN\",\"TXT\",\"TYL\",\"UAA\",\"UDR\",\"UHS\",\"ULTA\",\"UNH\",\"UNM\",\"UNP\",\"UPS\",\"USB\",\"V\",\"VAR\",\"VFC\",\"VIAC\",\"VLO\",\"VMC\",\"VRSN\",\"VTR\",\"WAB\",\"WAT\",\"WBA\",\"WDC\",\"WEC\",\"WFC\",\"WLTW\",\"WM\",\"WMB\",\"WMT\",\"WRB\",\"WRK\",\"WU\",\"WY\",\"WYNN\",\"XEL\",\"XLNX\",\"XOM\",\"XRAY\",\"XRX\",\"XYL\",\"YUM\",\"ZBH\",\"ZBRA\",\"ZION\",\"ZTS\"],\"size\":10,\"sizing_mode\":\"stretch_both\"},\"id\":\"2915\",\"type\":\"MultiSelect\"}],\"root_ids\":[\"2912\",\"2925\"]},\"title\":\"Bokeh Application\",\"version\":\"2.1.1\"}};\n",
       "  var render_items = [{\"docid\":\"4c38f941-3350-471e-9072-7a886772b271\",\"root_ids\":[\"2912\"],\"roots\":{\"2912\":\"ed7fb290-819b-4288-8198-c4a2e4f66322\"}}];\n",
       "  root.Bokeh.embed.embed_items_notebook(docs_json, render_items);\n",
       "  }\n",
       "if (root.Bokeh !== undefined) {\n",
       "    embed_document(root);\n",
       "  } else {\n",
       "    var attempts = 0;\n",
       "    var timer = setInterval(function(root) {\n",
       "      if (root.Bokeh !== undefined) {\n",
       "        clearInterval(timer);\n",
       "        embed_document(root);\n",
       "      } else if (document.readyState == \"complete\") {\n",
       "        attempts++;\n",
       "        if (attempts > 100) {\n",
       "          clearInterval(timer);\n",
       "          console.log(\"Bokeh: ERROR: Unable to run BokehJS code because BokehJS library is missing\");\n",
       "        }\n",
       "      }\n",
       "    }, 10, root)\n",
       "  }\n",
       "})(window);</script>"
      ],
      "text/plain": [
       "CrossSelector(name='Tickers', options=['A', 'AAL', 'AAP', ...])"
      ]
     },
     "execution_count": 115,
     "metadata": {
      "application/vnd.holoviews_exec.v0+json": {
       "id": "2912"
      }
     },
     "output_type": "execute_result"
    }
   ],
   "source": [
    "options=[]\n",
    "from Group4_Project1_Copy1 import combo_stocks_sp500\n",
    "combo_stocks_sp500.sort_index(ascending=True, inplace=True)\n",
    "for ticker in combo_stocks_sp500.index:\n",
    "    options.append(ticker)\n",
    "ticker_selector = pn.widgets.CrossSelector(name='Tickers', disabled=False, options=options)\n",
    "ticker_selector"
   ]
  },
  {
   "cell_type": "code",
   "execution_count": 116,
   "metadata": {},
   "outputs": [],
   "source": [
    "select_data_files = pn.widgets.FileSelector('~')\n",
    "#select_data_files"
   ]
  },
  {
   "cell_type": "code",
   "execution_count": 117,
   "metadata": {},
   "outputs": [],
   "source": [
    "selected_files = select_data_files.value\n",
    "#selected_files"
   ]
  },
  {
   "cell_type": "code",
   "execution_count": 118,
   "metadata": {},
   "outputs": [],
   "source": [
    "file_input = pn.widgets.FileInput(accept='.csv,.json, .xlsx')\n",
    "#file_input"
   ]
  },
  {
   "cell_type": "code",
   "execution_count": 119,
   "metadata": {},
   "outputs": [
    {
     "data": {
      "application/vnd.holoviews_exec.v0+json": "",
      "text/html": [
       "<div id='2926'>\n",
       "\n",
       "\n",
       "\n",
       "\n",
       "\n",
       "  <div class=\"bk-root\" id=\"0bfd28f3-353c-4f83-a983-ab863f8424e8\" data-root-id=\"2926\"></div>\n",
       "</div>\n",
       "<script type=\"application/javascript\">(function(root) {\n",
       "  function embed_document(root) {\n",
       "  var docs_json = {\"efa0aa81-199f-4a55-83c2-e8f99714bde8\":{\"roots\":{\"references\":[{\"attributes\":{\"children\":[{\"id\":\"2927\"},{\"id\":\"2928\"}],\"margin\":[0,0,0,0],\"name\":\"Column04599\"},\"id\":\"2926\",\"type\":\"Column\"},{\"attributes\":{\"active\":[2,4],\"inline\":true,\"labels\":[\"Full Tearsheet\",\"Daily close\",\"beta\",\"Correlation\",\"SMA\",\"EMA\"],\"margin\":[5,10,5,10]},\"id\":\"2927\",\"type\":\"CheckboxGroup\"},{\"attributes\":{\"button_type\":\"primary\",\"icon\":null,\"label\":\"Create\",\"margin\":[5,10,5,10],\"min_width\":20,\"subscribed_events\":[\"button_click\"],\"width\":20},\"id\":\"2928\",\"type\":\"Button\"},{\"attributes\":{\"client_comm_id\":\"37c6d9f4f63c4e4681efaaed33b73a5c\",\"comm_id\":\"13bbd5de0f30408a8b56bec5ebe9bfac\",\"plot_id\":\"2926\"},\"id\":\"2929\",\"type\":\"panel.models.comm_manager.CommManager\"}],\"root_ids\":[\"2926\",\"2929\"]},\"title\":\"Bokeh Application\",\"version\":\"2.1.1\"}};\n",
       "  var render_items = [{\"docid\":\"efa0aa81-199f-4a55-83c2-e8f99714bde8\",\"root_ids\":[\"2926\"],\"roots\":{\"2926\":\"0bfd28f3-353c-4f83-a983-ab863f8424e8\"}}];\n",
       "  root.Bokeh.embed.embed_items_notebook(docs_json, render_items);\n",
       "  }\n",
       "if (root.Bokeh !== undefined) {\n",
       "    embed_document(root);\n",
       "  } else {\n",
       "    var attempts = 0;\n",
       "    var timer = setInterval(function(root) {\n",
       "      if (root.Bokeh !== undefined) {\n",
       "        clearInterval(timer);\n",
       "        embed_document(root);\n",
       "      } else if (document.readyState == \"complete\") {\n",
       "        attempts++;\n",
       "        if (attempts > 100) {\n",
       "          clearInterval(timer);\n",
       "          console.log(\"Bokeh: ERROR: Unable to run BokehJS code because BokehJS library is missing\");\n",
       "        }\n",
       "      }\n",
       "    }, 10, root)\n",
       "  }\n",
       "})(window);</script>"
      ],
      "text/plain": [
       "Column\n",
       "    [0] CheckBoxGroup(inline=True, name='Checkbox Group', options=['Full Tearsheet', ...], value=['beta', 'SMA'])\n",
       "    [1] Button(button_type='primary', name='Create', width=20)"
      ]
     },
     "execution_count": 119,
     "metadata": {
      "application/vnd.holoviews_exec.v0+json": {
       "id": "2926"
      }
     },
     "output_type": "execute_result"
    }
   ],
   "source": [
    "visualization_group = pn.widgets.CheckBoxGroup(\n",
    "    name='Checkbox Group', value=['Tearsheet', 'close', 'beta', 'cor', 'SMA', 'EWMA'], options=['Full Tearsheet', 'Daily close', 'beta', 'Correlation', 'SMA', 'EMA'],\n",
    "    inline=True)\n",
    "create_visual = pn.widgets.Button(name='Create', button_type='primary', width=20)\n",
    "visual_row = pn.Column(visualization_group, create_visual)\n",
    "visual_row"
   ]
  },
  {
   "cell_type": "code",
   "execution_count": 120,
   "metadata": {},
   "outputs": [],
   "source": [
    "run_mc_button = pn.widgets.Button(name='Run MC Simulation', button_type='primary')\n",
    "load_files_button = pn.widgets.Button(name='Load Data files', button_type='primary')\n",
    "reset_button = pn.widgets.Button(name='Reset', button_type='primary')\n",
    "start_button = pn.widgets.Button(name='Start', button_type='primary')\n",
    "fetch_button = pn.widgets.Button(name='Fetch Data', button_type='primary')\n",
    "dbconn_button = pn.widgets.Button(name='Query Database', button_type='primary')\n",
    "query_builder = pn.widgets.Button(name='generate Query', button_type='primary')\n",
    "plot_btn = pn.widgets.Button(name='🔍', button_type='primary', width=5)\n",
    "plot_btn.on_click(show_plot)\n",
    "reset_button.on_click(clearpane)\n",
    "run_mc_button.on_click(simulate_mc)\n",
    "dbconn_button.on_click(db_connect)"
   ]
  },
  {
   "cell_type": "code",
   "execution_count": 121,
   "metadata": {},
   "outputs": [
    {
     "data": {
      "application/vnd.holoviews_exec.v0+json": "",
      "text/html": [
       "<div id='2930'>\n",
       "\n",
       "\n",
       "\n",
       "\n",
       "\n",
       "  <div class=\"bk-root\" id=\"edc707c3-1e4a-40a9-8e52-953cf0d1fef8\" data-root-id=\"2930\"></div>\n",
       "</div>\n",
       "<script type=\"application/javascript\">(function(root) {\n",
       "  function embed_document(root) {\n",
       "  var docs_json = {\"935cab67-45ca-4a69-8e7f-903c3efbcce8\":{\"roots\":{\"references\":[{\"attributes\":{\"client_comm_id\":\"1c81bf661fef45e98408ca059c0a6b12\",\"comm_id\":\"af7c553ef81c45a1a5ed951bb2d04441\",\"plot_id\":\"2930\"},\"id\":\"2931\",\"type\":\"panel.models.comm_manager.CommManager\"},{\"attributes\":{\"active\":0,\"labels\":[\"Step by Step Wizard\",\"Visualizations Wizard\",\"Configure Strategy\",\"Just show me the Money\"],\"margin\":[5,10,5,10]},\"id\":\"2930\",\"type\":\"RadioGroup\"}],\"root_ids\":[\"2930\",\"2931\"]},\"title\":\"Bokeh Application\",\"version\":\"2.1.1\"}};\n",
       "  var render_items = [{\"docid\":\"935cab67-45ca-4a69-8e7f-903c3efbcce8\",\"root_ids\":[\"2930\"],\"roots\":{\"2930\":\"edc707c3-1e4a-40a9-8e52-953cf0d1fef8\"}}];\n",
       "  root.Bokeh.embed.embed_items_notebook(docs_json, render_items);\n",
       "  }\n",
       "if (root.Bokeh !== undefined) {\n",
       "    embed_document(root);\n",
       "  } else {\n",
       "    var attempts = 0;\n",
       "    var timer = setInterval(function(root) {\n",
       "      if (root.Bokeh !== undefined) {\n",
       "        clearInterval(timer);\n",
       "        embed_document(root);\n",
       "      } else if (document.readyState == \"complete\") {\n",
       "        attempts++;\n",
       "        if (attempts > 100) {\n",
       "          clearInterval(timer);\n",
       "          console.log(\"Bokeh: ERROR: Unable to run BokehJS code because BokehJS library is missing\");\n",
       "        }\n",
       "      }\n",
       "    }, 10, root)\n",
       "  }\n",
       "})(window);</script>"
      ],
      "text/plain": [
       "RadioBoxGroup(options=['Step by Step Wizard', ...], value='Step by Step Wizard')"
      ]
     },
     "execution_count": 121,
     "metadata": {
      "application/vnd.holoviews_exec.v0+json": {
       "id": "2930"
      }
     },
     "output_type": "execute_result"
    }
   ],
   "source": [
    "wizard_group = pn.widgets.RadioBoxGroup(name='RadioBoxGroup', \n",
    "               options=['Step by Step Wizard', 'Visualizations Wizard', 'Configure Strategy', 'Just show me the Money'])\n",
    "\n",
    "wizard_group"
   ]
  },
  {
   "cell_type": "code",
   "execution_count": 122,
   "metadata": {},
   "outputs": [],
   "source": [
    "#defining wigets for collecting user input and associating them to a column. \n",
    "data_sources = pn.widgets.Select(name='DataSource', max_width = 200, options=['Select a data source', 'Local Files', 'Google Finance', 'API', 'Database'])\n",
    "data_sources.param.watch(show_source, 'value')\n",
    "api_sources = pn.widgets.Select(name='APISource', options=['Alpaca', 'Quandl', 'Quantopia', 'Postman', 'other'])\n",
    "api_key = pn.widgets.PasswordInput(name='API Key', max_width = 200, value=api_key)\n",
    "api_secret_key = pn.widgets.PasswordInput(name='Secret Key', max_width = 200, value=secret_key)\n",
    "api_row = pn.Row(api_sources, api_key, api_secret_key)\n",
    "config_col = pn.Column(data_sources, width_policy='auto')\n",
    "inital_right = pn.Column(\"How would you like to proceed?\", wizard_group, start_button)\n",
    "inital_left= pn.Column(welcome_msg)\n",
    "Initialization_pane = pn.Row(inital_left, inital_right, background='#f0f0f0')\n",
    "bt_config = pn.Row(\"Configure BackTest Strategy\", reset_button)\n",
    "macd_pane=pn.panel(bt_config)\n",
    "config_col\n",
    "data_col = pn.Column(reset_button)\n",
    "data_row = pn.Row(\"verify Data\")\n",
    "data_pane = pn.panel(data_row)\n",
    "start_button.on_click(initializer)\n",
    "load_files_button.on_click(load_file_data)\n",
    "fetch_button.on_click(fetch_api_data)"
   ]
  },
  {
   "cell_type": "code",
   "execution_count": 123,
   "metadata": {},
   "outputs": [],
   "source": [
    "from Group4_Project1_Copy1 import sectors_stocks_periods\n",
    "luis_pane = pn.panel(sectors_stocks_periods)\n",
    "panel_tabs_view = pn.Tabs(\n",
    "     (\"Welcome\", Initialization_pane),\n",
    "     (\"Sector Analysis\", luis_pane),\n",
    "     (\"Ticker Data\", data_pane),\n",
    "     (\"Backtest & Benchmark\", macd_pane),\n",
    "     (\"Simulate\"), dynamic=True,\n",
    "        height_policy = 'auto', width_policy = 'auto', align='start', sizing_mode='scale_both', tabs_location='right')"
   ]
  },
  {
   "cell_type": "code",
   "execution_count": 124,
   "metadata": {},
   "outputs": [],
   "source": [
    "#def config_bt_strategy():\n",
    "    #panel_tabs_view[3].clear()\n",
    "config_bt=pn.widgets\n",
    "slow_sma = pn.widgets.TextInput(name='slow', value='100')\n",
    "fast_sma = pn.widgets.TextInput(name='fast', value='10')\n",
    "if len(ticker_selector.value) > 0:\n",
    "    options = ticker_selector.value\n",
    "else:\n",
    "    options = options\n",
    "    \n",
    "ticker_stk = pn.widgets.Select(name='stock', max_width = 100, options=options)\n",
    "commission_pct = pn.widgets.TextInput(name='commission', value='0.002')\n",
    "cash_val = pn.widgets.TextInput(name='cash', value='100000')\n",
    "order_type = pn.widgets.Select(name='Order', max_width = 100, options=['True', 'False'])\n",
    "#config=[slow_sma, fast_sma, ticker_stk, commission_pct, cash_val, order_type]\n",
    "run_bt_button = pn.widgets.Button(name='RunBacktest', button_type='primary')\n",
    "run_bt_button.on_click(run_backtest)   \n",
    "config_bt_col = pn.Column('Configure Backtest Strategy')\n",
    "config_sma_row = pn.Row(ticker_stk, slow_sma, fast_sma)\n",
    "config_order_row = pn.Row(cash_val, commission_pct, order_type)                            \n",
    "config_bt_col.append(config_sma_row)\n",
    "config_bt_col.append(config_order_row)\n",
    "config_bt_col.append(run_bt_button)\n",
    "bt_pane=pn.Pane(config_bt_col)\n",
    "panel_tabs_view[3] = ('Configure Backtest Strategy', bt_pane)\n",
    "#panel_tabs_view.active=3 \n",
    "#return view         "
   ]
  },
  {
   "cell_type": "code",
   "execution_count": 125,
   "metadata": {},
   "outputs": [
    {
     "name": "stdout",
     "output_type": "stream",
     "text": [
      "Launching server at http://localhost:61691\n"
     ]
    },
    {
     "data": {
      "text/plain": [
       "<bokeh.server.server.Server at 0x28486e96e08>"
      ]
     },
     "execution_count": 125,
     "metadata": {},
     "output_type": "execute_result"
    }
   ],
   "source": [
    "panel_tabs_view.show()"
   ]
  },
  {
   "cell_type": "code",
   "execution_count": null,
   "metadata": {},
   "outputs": [],
   "source": []
  }
 ],
 "metadata": {
  "kernelspec": {
   "display_name": "Anaconda PyvizEnv",
   "language": "python",
   "name": "pyvizenv"
  },
  "language_info": {
   "codemirror_mode": {
    "name": "ipython",
    "version": 3
   },
   "file_extension": ".py",
   "mimetype": "text/x-python",
   "name": "python",
   "nbconvert_exporter": "python",
   "pygments_lexer": "ipython3",
   "version": "3.7.7"
  }
 },
 "nbformat": 4,
 "nbformat_minor": 4
}
