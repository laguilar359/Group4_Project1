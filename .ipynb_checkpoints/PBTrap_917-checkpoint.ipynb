{
 "cells": [
  {
   "cell_type": "code",
   "execution_count": 368,
   "metadata": {},
   "outputs": [],
   "source": [
    "# initial imports\n",
    "import pandas as pd\n",
    "import plotly.express as px\n",
    "import plotly.graph_objects as go\n",
    "import panel as pn\n",
    "import numpy as np\n",
    "import datetime as dt\n",
    "from dotenv import get_key\n",
    "from pathlib import Path\n",
    "pn.extension('plotly')"
   ]
  },
  {
   "cell_type": "code",
   "execution_count": 369,
   "metadata": {},
   "outputs": [],
   "source": [
    "import hvplot.pandas\n",
    "%matplotlib inline"
   ]
  },
  {
   "cell_type": "code",
   "execution_count": 370,
   "metadata": {},
   "outputs": [],
   "source": [
    "def sector_analysis():\n",
    "    # use the Data frame created by Luis\n",
    "    \"\"\"function to plot the sector wise charts like in https://www.sectorspdr.com/sectorspdr/tools/sector-tracker\"\"\"\n",
    "    pass \n",
    "\n",
    "def initializer(event):\n",
    "    \"\"\"Function to initiate interactive widgets and build the panel based on user selection.\n",
    "    this is tied to start button onclick event which loads additional widgets for selecting data sources and asssociate \n",
    "    parameters such as the files, api keys etc.\"\"\"\n",
    "    if start_button.name =='Start':\n",
    "        panel_tabs_view.active = 0\n",
    "        inital_right.append(config_col)\n",
    "        start_button.name='Cancel'\n",
    "    elif start_button.name == 'Cancel':\n",
    "        inital_right.remove(config_col)\n",
    "        start_button.name='Start'\n",
    "\n",
    "def load_file_data(event):\n",
    "    \"\"\"function identifies file extensions and triggers dataload by calling get_Dataframe function\"\"\"\n",
    "    data_col.remove\n",
    "    panel_tabs_view.active=0\n",
    "    files_to_load = select_data_files.value\n",
    "    df_dict={}\n",
    "    for file in files_to_load:\n",
    "        file_extention = file.split(\".\")[1]\n",
    "        file_desc = file.split(\".\")[0]\n",
    "        file_desc = \"r\"+f'{file_desc}'\n",
    "        file_name = file_desc.split('\\\\')[-1]\n",
    "        abs_path = file.replace('\\\\', '/')\n",
    "        df_dict.update(get_dataframe(file_extention, file_name, abs_path))\n",
    "    paint_panel_tab(df_dict)\n",
    "\n",
    "def paint_panel_tab(df_dict):\n",
    "    \"\"\"function to populate the data screen/panel\"\"\"\n",
    "    #data_row.clear()\n",
    "    #data_col.clear()\n",
    "    row_index=0\n",
    "    for key in df_dict:\n",
    "        df_pane = pn.pane.DataFrame(df_dict[key],  render_links = True, show_dimensions =True, max_rows =5)\n",
    "        pane = pn.panel(df_pane.param, parameters=['index', 'show_dimensions', 'max_rows',],\n",
    "        widgets={'max_rows': {'start': 1, 'end': len(df_dict[key]), 'value': 5}})\n",
    "        df_plot_graph = get_financial_plots(df_dict[key])\n",
    "        \n",
    "        data_col.insert(row_index, pn.Column())\n",
    "        data_col[row_index].append(key)\n",
    "        data_col[row_index].append(df_pane)\n",
    "        data_col[row_index].append(pane)\n",
    "        data_col[row_index].append(visualization_group)\n",
    "        plots = plot_graphs(df_dict[key])\n",
    "        data_col[row_index].append(plots) \n",
    "        data_row.insert(row_index, pn.Row(data_col[row_index]))\n",
    "        data_col.append(reset_button)\n",
    "        \n",
    "        row_index += 1\n",
    "        #plots.extend\n",
    "#         for plot in plots:\n",
    "#             data_col.append(plot) \n",
    "#             #data_col.append(plot_btn)\n",
    "\n",
    "    panel_tabs_view.active = 1\n",
    "\n",
    "def show_plot(event):\n",
    "    try:\n",
    "        plot_btn.width = 50\n",
    "        plot_btn.background = 'Red'\n",
    "        plot_btn.disabled=True    \n",
    "        for plot in plots:\n",
    "            data_col.append(plot)\n",
    "            panel_tabs_view[2] = (\"Visualizations\", data_col)\n",
    "            panel_tabs_view.active = 2\n",
    "    except Exception as e:\n",
    "        plot_btn.message(e)\n",
    "\n",
    "def plot_graphs(df_item):\n",
    "    \"\"\"function to plot graphs.  This is base version, ideally a variable specifying \n",
    "    the type of graph needed will need to be passed upon user selection\"\"\"\n",
    "    df_item.dropna(inplace = True)\n",
    "    df_item= df_item.sort_index()\n",
    "    #df_item = df_item.sort_index()\n",
    "#     pc = df_item.pct_change()\n",
    "#     pc = pc.hvplot.line(legend=True, title = \" Pct Change\")\n",
    "#     dr = df_item.apply(lambda x: x / x[0]).hvplot.line(title = \" Daily Returns\")#, ax=pc)\n",
    "    #dc = df_item.hvplot.line(title = \" Daily Close\", grid=True, )#, ax=pc)\n",
    "    sma5 = np.round(df_item.rolling(window = 5).mean(), 2)\n",
    "    sma5_plt = sma5.hvplot.line(legend=True, grid=True, title=\"5 day Moving average\")\n",
    "    sma20 = np.round(df_item.rolling(window = 20).mean(), 2)\n",
    "    #sma20_plt = sma20.hvplot.line(legend=True, , grid=True, title=\"20 day Moving average\")\n",
    "    sma50 = np.round(df_item.rolling(window = 50).mean(), 2)\n",
    "    #sma50_plt = sma50.hvplot.line(legend=True, , grid=True, title=\"50 day Moving average\")\n",
    "    sma200 = np.round(df_item.rolling(window = 200, center = False).mean(), 2)\n",
    "    #sma200_plt = sma200.hvplot.line(legend=True, title=\"200 day Moving average\")\n",
    "    combo_plt = df_item.hvplot.line(title = \" Daily Close Vs SMA20, 50 & 200\",  grid=True) * sma20.hvplot.line(legend=True, grid=True, title=\"20 day Moving average\") *sma50.hvplot.line(legend=True,  grid=True, title=\"50 day Moving average\")*sma200.hvplot.line(legend=True, grid=True, title=\"200 day Moving average\")\n",
    "    combo_plt.opts(bgcolor='black')\n",
    "   \n",
    "    #     combo_plt = combo_plt * sma50\n",
    "#     combo_plt = combo_plt* sma200 #dc.legend([\"Daily close\", \"SMA20\", 'SMA50', 'SMA200'])\n",
    "    return combo_plt \n",
    "    #return [sma5_plt, sma20_plt, sma50_plt, sma200_plt]\n",
    "    #return [pc.figure, sma5_plt.figure, sma20_plt.figure, sma50_plt.figure, sma200_plt.figure]\n",
    "\n",
    "def get_dataframe (ext, name, path):\n",
    "    \"\"\"This is where we read each file and load the data into dataframes\"\"\"\n",
    "    df_dict = {}\n",
    "    if ext == 'xlsx':\n",
    "        data_frame = pd.read_excel(path, parse_dates=True, infer_datetime_format=True)\n",
    "    elif ext == 'csv':\n",
    "        data_frame =pd.read_csv(path, index_col='date', parse_dates=True)\n",
    "    elif ext == 'json':\n",
    "        data_frame = pd.read_json(path, orient=None, typ='frame')\n",
    "    elif ext == 'sql':\n",
    "        data_frame == pd.read_sql(sql, con, index_col=None, coerce_float=True, params=None, parse_dates=None)\n",
    "    elif ext == 'html':\n",
    "        data_frame == pd.read_html(io, match='.+', flavor=None, header=None, index_col=None, skiprows=None, attrs=None, parse_dates=False, tupleize_cols=None, thousands=',', encoding=None, decimal='.', converters=None, na_values=None, keep_default_na=True, displayed_only=True)\n",
    "    else:\n",
    "        print(\"cannot read the file extensions\")\n",
    "    df_dict= {name: data_frame}\n",
    "    return df_dict\n",
    "\n",
    "def data_cleanser():\n",
    "    \"\"\"function to inspect, clean, manipulate the data\"\"\"\n",
    "    pass\n",
    "\n",
    "def get_financial_plots():\n",
    "    \"function to create beta, sharpe ratio, SMA EMA plots\"\n",
    "    #Steve \n",
    "    pass\n",
    "\n",
    "def simulate_mc():\n",
    "    \"\"\"place holder function to initiate mc simulation\"\"\"\n",
    "    pass\n",
    "\n",
    "def clearpane(event):\n",
    "    \"\"\"ideally pass the row/column reference. this is a place holder function\"\"\"\n",
    "    #data_row.clear()\n",
    "    data_col.clear()\n",
    "    remove_obj()\n",
    "    panel_tabs_view.active=0\n",
    "\n",
    "def show_source(event):\n",
    "    \"\"\"function to show/ remove widget for loading data sources\"\"\"\n",
    "    if data_sources.value == 'API':\n",
    "        remove_obj()\n",
    "        config_col.append(api_row)\n",
    "        config_col.append(time_bounds)\n",
    "        config_col.append(ticker_selector)\n",
    "        config_col.append(reset_button)\n",
    "        config_col.append(start_button)\n",
    "    elif data_sources.value == 'Local Files':\n",
    "        remove_obj()\n",
    "        config_col.append(select_data_files)\n",
    "        config_col.append(load_files_button)\n",
    "    elif data_sources.value == 'Google Finance':\n",
    "        remove_obj()\n",
    "        config_col.append(url_input)\n",
    "    elif data_sources.value == 'Database':\n",
    "        remove_obj()\n",
    "        config_col.append(db_source)\n",
    "    else:\n",
    "        remove_obj()\n",
    "\n",
    "def remove_obj():\n",
    "    \"\"\"function to clear previous widgets\"\"\"\n",
    "    for widget in config_col.objects:\n",
    "        if widget.name != 'DataSource':\n",
    "            config_col.remove(widget)\n",
    "            pass\n"
   ]
  },
  {
   "cell_type": "code",
   "execution_count": null,
   "metadata": {},
   "outputs": [],
   "source": []
  },
  {
   "cell_type": "code",
   "execution_count": 371,
   "metadata": {},
   "outputs": [],
   "source": [
    "#load_file_data()\n",
    "# show_plot()"
   ]
  },
  {
   "cell_type": "code",
   "execution_count": 372,
   "metadata": {},
   "outputs": [],
   "source": [
    "#clearpane()"
   ]
  },
  {
   "cell_type": "code",
   "execution_count": 373,
   "metadata": {},
   "outputs": [],
   "source": [
    "#paint_panel_tab(df_dict)"
   ]
  },
  {
   "cell_type": "code",
   "execution_count": 374,
   "metadata": {},
   "outputs": [],
   "source": [
    "welcome_img = pn.pane.PNG('Resources/images/financial-planner.png', width=300)"
   ]
  },
  {
   "cell_type": "code",
   "execution_count": 375,
   "metadata": {},
   "outputs": [],
   "source": [
    "header= \"\"\"#Portfolio Builder and Algorithmic Trading Platform\"\"\"\n",
    "\n",
    "markdown =\"\"\"This tool helps build, compare, backtest, benchmark and simulate porfolio returns \n",
    "based on style factors, sector or different Indexes with choice to either run \n",
    "in the background or in an interactive way providing a wizard at every step for the advisor \n",
    "to analyze the visualizations and calibrate Trading strategies.\"\"\"\n",
    "#style={'background-color': '#F6F6F6', 'border': '2px solid black',\n",
    "#            'border-radius': '5px', 'padding': '10px'})\n",
    "\n",
    "welcome_msg = pn.Column(header, welcome_img, markdown )"
   ]
  },
  {
   "cell_type": "code",
   "execution_count": 376,
   "metadata": {},
   "outputs": [],
   "source": [
    "time_bounds = pn.widgets.DateRangeSlider(\n",
    "    name='Select Date Range',\n",
    "    start=dt.datetime(2009, 1, 1), end=dt.date.today(),\n",
    "    value=(dt.datetime(2009, 1, 1), dt.date.today())\n",
    ")\n",
    "\n",
    "time_bounds.bar_color='#0000FF'\n",
    "time_bounds. callback_policy ='mouseup'\n",
    "time_bounds.callback_throttle = 60000\n",
    "#time_bounds"
   ]
  },
  {
   "cell_type": "code",
   "execution_count": 377,
   "metadata": {},
   "outputs": [],
   "source": [
    "url_input = pn.widgets.TextInput(name='google_link', value='Enter the google finance url')\n",
    "db_source = pn.widgets.TextInput(name='Database', value='this feature is not activated')"
   ]
  },
  {
   "cell_type": "code",
   "execution_count": 378,
   "metadata": {},
   "outputs": [],
   "source": [
    "ticker_selector = pn.widgets.CrossSelector(name='Tickers', disabled=False,\n",
    "    options=['Apple', 'Banana', 'Pear', 'Strawberry'])\n",
    "#ticker_selector"
   ]
  },
  {
   "cell_type": "code",
   "execution_count": 379,
   "metadata": {},
   "outputs": [],
   "source": [
    "select_data_files = pn.widgets.FileSelector('~')\n",
    "#select_data_files"
   ]
  },
  {
   "cell_type": "code",
   "execution_count": 380,
   "metadata": {},
   "outputs": [],
   "source": [
    "selected_files = select_data_files.value\n",
    "#selected_files\n"
   ]
  },
  {
   "cell_type": "code",
   "execution_count": 381,
   "metadata": {},
   "outputs": [],
   "source": [
    "file_input = pn.widgets.FileInput(accept='.csv,.json, .xlsx')\n",
    "#file_input"
   ]
  },
  {
   "cell_type": "code",
   "execution_count": 382,
   "metadata": {},
   "outputs": [
    {
     "data": {
      "application/vnd.holoviews_exec.v0+json": "",
      "text/html": [
       "<div id='100824'>\n",
       "\n",
       "\n",
       "\n",
       "\n",
       "\n",
       "  <div class=\"bk-root\" id=\"395bedc1-6e67-483a-b41b-206b373326ed\" data-root-id=\"100824\"></div>\n",
       "</div>\n",
       "<script type=\"application/javascript\">(function(root) {\n",
       "  function embed_document(root) {\n",
       "  var docs_json = {\"41b1f864-8cda-4989-86b2-ef5cdeacb268\":{\"roots\":{\"references\":[{\"attributes\":{\"client_comm_id\":\"2731d03db1a24a0d8fc1b2a5b1dc801f\",\"comm_id\":\"a35c3163a0d2404db193cdd2512f348c\",\"plot_id\":\"100824\"},\"id\":\"100825\",\"type\":\"panel.models.comm_manager.CommManager\"},{\"attributes\":{\"active\":[1,3],\"inline\":true,\"labels\":[\"Daily close\",\"beta\",\"Correlation\",\"SMA\",\"EMA\"],\"margin\":[5,10,5,10]},\"id\":\"100824\",\"type\":\"CheckboxGroup\"}],\"root_ids\":[\"100824\",\"100825\"]},\"title\":\"Bokeh Application\",\"version\":\"2.1.1\"}};\n",
       "  var render_items = [{\"docid\":\"41b1f864-8cda-4989-86b2-ef5cdeacb268\",\"root_ids\":[\"100824\"],\"roots\":{\"100824\":\"395bedc1-6e67-483a-b41b-206b373326ed\"}}];\n",
       "  root.Bokeh.embed.embed_items_notebook(docs_json, render_items);\n",
       "  }\n",
       "if (root.Bokeh !== undefined) {\n",
       "    embed_document(root);\n",
       "  } else {\n",
       "    var attempts = 0;\n",
       "    var timer = setInterval(function(root) {\n",
       "      if (root.Bokeh !== undefined) {\n",
       "        clearInterval(timer);\n",
       "        embed_document(root);\n",
       "      } else if (document.readyState == \"complete\") {\n",
       "        attempts++;\n",
       "        if (attempts > 100) {\n",
       "          clearInterval(timer);\n",
       "          console.log(\"Bokeh: ERROR: Unable to run BokehJS code because BokehJS library is missing\");\n",
       "        }\n",
       "      }\n",
       "    }, 10, root)\n",
       "  }\n",
       "})(window);</script>"
      ],
      "text/plain": [
       "CheckBoxGroup(inline=True, name='Checkbox Group', options=['Daily close', ...], value=['beta', 'SMA'])"
      ]
     },
     "execution_count": 382,
     "metadata": {
      "application/vnd.holoviews_exec.v0+json": {
       "id": "100824"
      }
     },
     "output_type": "execute_result"
    }
   ],
   "source": [
    "visualization_group = pn.widgets.CheckBoxGroup(\n",
    "    name='Checkbox Group', value=['close', 'beta', 'cor', 'SMA', 'EWMA'], options=['Daily close', 'beta', 'Correlation', 'SMA', 'EMA'],\n",
    "    inline=True)\n",
    "\n",
    "visualization_group"
   ]
  },
  {
   "cell_type": "code",
   "execution_count": 383,
   "metadata": {},
   "outputs": [],
   "source": [
    "run_mc_button = pn.widgets.Button(name='Run MC Simulation', button_type='primary')\n",
    "load_files_button = pn.widgets.Button(name='Load Data files', button_type='primary')\n",
    "reset_button = pn.widgets.Button(name='Reset', button_type='primary')\n",
    "start_button = pn.widgets.Button(name='Start', button_type='primary')\n",
    "plot_btn = pn.widgets.Button(name='🔍', button_type='primary', width=5)\n",
    "plot_btn.on_click(show_plot)\n",
    "reset_button.on_click(clearpane)\n",
    "run_mc_button.on_click(simulate_mc)"
   ]
  },
  {
   "cell_type": "code",
   "execution_count": 384,
   "metadata": {},
   "outputs": [
    {
     "data": {
      "application/vnd.holoviews_exec.v0+json": "",
      "text/html": [
       "<div id='100826'>\n",
       "\n",
       "\n",
       "\n",
       "\n",
       "\n",
       "  <div class=\"bk-root\" id=\"f0cb2653-5d0e-47d8-a165-d29378479daf\" data-root-id=\"100826\"></div>\n",
       "</div>\n",
       "<script type=\"application/javascript\">(function(root) {\n",
       "  function embed_document(root) {\n",
       "  var docs_json = {\"a18f933c-e902-4575-92ea-4127a6b096e0\":{\"roots\":{\"references\":[{\"attributes\":{\"client_comm_id\":\"6f9eaaed440849d3b775c64878e69148\",\"comm_id\":\"5d304fce7948452dad13172790ddec7b\",\"plot_id\":\"100826\"},\"id\":\"100827\",\"type\":\"panel.models.comm_manager.CommManager\"},{\"attributes\":{\"active\":0,\"labels\":[\"Step by Step Wizard\",\"Visualizations Wizard\",\"Calibrate Strategy\",\"Just show me the Money\"],\"margin\":[5,10,5,10]},\"id\":\"100826\",\"type\":\"RadioGroup\"}],\"root_ids\":[\"100826\",\"100827\"]},\"title\":\"Bokeh Application\",\"version\":\"2.1.1\"}};\n",
       "  var render_items = [{\"docid\":\"a18f933c-e902-4575-92ea-4127a6b096e0\",\"root_ids\":[\"100826\"],\"roots\":{\"100826\":\"f0cb2653-5d0e-47d8-a165-d29378479daf\"}}];\n",
       "  root.Bokeh.embed.embed_items_notebook(docs_json, render_items);\n",
       "  }\n",
       "if (root.Bokeh !== undefined) {\n",
       "    embed_document(root);\n",
       "  } else {\n",
       "    var attempts = 0;\n",
       "    var timer = setInterval(function(root) {\n",
       "      if (root.Bokeh !== undefined) {\n",
       "        clearInterval(timer);\n",
       "        embed_document(root);\n",
       "      } else if (document.readyState == \"complete\") {\n",
       "        attempts++;\n",
       "        if (attempts > 100) {\n",
       "          clearInterval(timer);\n",
       "          console.log(\"Bokeh: ERROR: Unable to run BokehJS code because BokehJS library is missing\");\n",
       "        }\n",
       "      }\n",
       "    }, 10, root)\n",
       "  }\n",
       "})(window);</script>"
      ],
      "text/plain": [
       "RadioBoxGroup(options=['Step by Step Wizard', ...], value='Step by Step Wizard')"
      ]
     },
     "execution_count": 384,
     "metadata": {
      "application/vnd.holoviews_exec.v0+json": {
       "id": "100826"
      }
     },
     "output_type": "execute_result"
    }
   ],
   "source": [
    "wizard_group = pn.widgets.RadioBoxGroup(name='RadioBoxGroup', \n",
    "               options=['Step by Step Wizard', 'Visualizations Wizard', 'Calibrate Strategy', 'Just show me the Money'])\n",
    "\n",
    "wizard_group"
   ]
  },
  {
   "cell_type": "code",
   "execution_count": 385,
   "metadata": {},
   "outputs": [],
   "source": [
    "#defining wigets for collecting user input and associating them to a column. \n",
    "data_sources = pn.widgets.Select(name='DataSource', max_width = 200, options=['Select a data source', 'Local Files', 'Google Finance', 'API', 'Database'])\n",
    "data_sources.param.watch(show_source, 'value')\n",
    "api_sources = pn.widgets.Select(name='APISource', options=['Quandl', 'Alpaca', 'Quantopia', 'Postman', 'other'])\n",
    "api_key = pn.widgets.PasswordInput(name='API Key', max_width = 200, placeholder='Enter API key/Token here...')\n",
    "api_secret_key = pn.widgets.PasswordInput(name='Secret Key', max_width = 200, placeholder='Enter secret key/Token here...')\n",
    "api_row = pn.Row(api_sources, api_key, api_secret_key)\n",
    "config_col = pn.Column(data_sources)\n",
    "inital_right = pn.Column(\"How would you like to proceed?\", wizard_group, start_button)\n",
    "inital_left= pn.Column(welcome_msg)\n",
    "Initialization_pane = pn.Row(inital_left, inital_right, background='#f0f0f0')\n",
    "config_col\n",
    "data_col = pn.Column(reset_button)\n",
    "data_row = pn.Row(\"verify Data\", reset_button)\n",
    "data_pane = pn.panel(data_row)\n",
    "start_button.on_click(initializer)\n",
    "load_files_button.on_click(load_file_data)"
   ]
  },
  {
   "cell_type": "code",
   "execution_count": 386,
   "metadata": {},
   "outputs": [],
   "source": [
    "panel_tabs_view = pn.Tabs(\n",
    "     (\"Welcome\", Initialization_pane),\n",
    "     (\"Base Data\", data_pane),\n",
    "     (\"Compare Portfolio\"),\n",
    "     (\"Backtest & Benchmark\"),\n",
    "     (\"Simulate\"), dynamic=True,\n",
    "        height_policy = 'auto', width_policy = 'auto', align='start', sizing_mode='scale_both', tabs_location='right')"
   ]
  },
  {
   "cell_type": "code",
   "execution_count": 387,
   "metadata": {},
   "outputs": [
    {
     "name": "stdout",
     "output_type": "stream",
     "text": [
      "Launching server at http://localhost:49799\n"
     ]
    },
    {
     "data": {
      "text/plain": [
       "<bokeh.server.server.Server at 0x1f797835948>"
      ]
     },
     "execution_count": 387,
     "metadata": {},
     "output_type": "execute_result"
    }
   ],
   "source": [
    "panel_tabs_view.show()"
   ]
  },
  {
   "cell_type": "code",
   "execution_count": null,
   "metadata": {},
   "outputs": [],
   "source": []
  }
 ],
 "metadata": {
  "kernelspec": {
   "display_name": "Anaconda PyvizEnv",
   "language": "python",
   "name": "pyvizenv"
  },
  "language_info": {
   "codemirror_mode": {
    "name": "ipython",
    "version": 3
   },
   "file_extension": ".py",
   "mimetype": "text/x-python",
   "name": "python",
   "nbconvert_exporter": "python",
   "pygments_lexer": "ipython3",
   "version": "3.7.7"
  }
 },
 "nbformat": 4,
 "nbformat_minor": 4
}
