{
 "cells": [
  {
   "cell_type": "code",
   "execution_count": 54,
   "metadata": {},
   "outputs": [],
   "source": [
    "# initial imports\n",
    "import pandas as pd\n",
    "import plotly.express as px\n",
    "import plotly.graph_objects as go\n",
    "import panel as pn\n",
    "import numpy as np\n",
    "import datetime as dt\n",
    "from dotenv import get_key\n",
    "from pathlib import Path\n",
    "pn.extension('plotly')\n",
    "import warnings\n",
    "warnings.filterwarnings('ignore')"
   ]
  },
  {
   "cell_type": "code",
   "execution_count": 55,
   "metadata": {},
   "outputs": [],
   "source": [
    "import hvplot.pandas\n",
    "import matplotlib\n",
    "#%matplotlib inline\n",
    "import psycopg2\n",
    "from sqlalchemy import create_engine\n",
    "import json"
   ]
  },
  {
   "cell_type": "code",
   "execution_count": 56,
   "metadata": {},
   "outputs": [],
   "source": [
    "#backtesting library\n",
    "import backtesting\n",
    "from backtesting import Backtest, Strategy\n",
    "from backtesting.lib import crossover\n",
    "from backtesting.test import SMA\n",
    "backtesting.set_bokeh_output(notebook=False)\n",
    "import alpaca_trade_api as tradeapi"
   ]
  },
  {
   "cell_type": "code",
   "execution_count": 57,
   "metadata": {},
   "outputs": [],
   "source": [
    "global stock\n",
    "global slow\n",
    "global fast\n",
    "global cash\n",
    "global order\n",
    "global commission"
   ]
  },
  {
   "cell_type": "code",
   "execution_count": 58,
   "metadata": {},
   "outputs": [],
   "source": [
    "def run_backtest(event):\n",
    "    run_bt_button.name =slow_sma.value\n",
    "    panel_tabs_view.active=3\n",
    "    #remove_obj()\n",
    "    slow = int(slow_sma.value)\n",
    "    fast =  int(fast_sma.value)\n",
    "    cash= int(cash_val.value)\n",
    "    stock= ticker_stk.value\n",
    "    commission=float(commission_pct.value)\n",
    "    order = order_type.value\n",
    "    file = './resources/' + stock +'.csv'\n",
    "    stock=pd.read_csv(file, index_col='Date', parse_dates=True)\n",
    "    bt = Backtest(stock, SmaCross, cash=cash, commission=commission, exclusive_orders=order_type)                                                     \n",
    "    output = bt.run()\n",
    "    plot= bt.plot(open_browser=True, plot_width=1500, plot_equity=True, plot_pl=True, plot_volume=True,\n",
    "    plot_drawdown=True, smooth_equity=False, relative_equity=True, resample=True, reverse_indicators=False, show_legend=True)\n",
    "    bt_config.append(plot)\n",
    "    bt_config.append(output)\n",
    "    panel_tabs_view[3] = (\"Backtest & Benchmark\", bt_config)\n",
    "    panel_tabs_view.active=3\n",
    "    #return bt_config"
   ]
  },
  {
   "cell_type": "code",
   "execution_count": 59,
   "metadata": {},
   "outputs": [],
   "source": [
    "class SmaCross(Strategy):\n",
    "    sma_slow = 100\n",
    "    sma_fast= 10\n",
    "    \n",
    "    def init(self):\n",
    "        self.sma1 = self.I(SMA, self.data.Close, self.sma_fast)\n",
    "        self.sma2 = self.I(SMA, self.data.Close, self.sma_slow)\n",
    "        \n",
    "    def next(self):\n",
    "        if crossover(self.sma1, self.sma2):\n",
    "            self.buy()\n",
    "        elif crossover(self.sma2, self.sma1):\n",
    "            self.sell()\n"
   ]
  },
  {
   "cell_type": "code",
   "execution_count": 60,
   "metadata": {},
   "outputs": [],
   "source": [
    "def initializer(event):\n",
    "    \"\"\"Function to initiate interactive widgets and build the panel based on user selection.\n",
    "    this is tied to start button onclick event which loads additional widgets for selecting data sources and asssociate \n",
    "    parameters such as the files, api keys etc.\"\"\"\n",
    "    if start_button.name =='Start':\n",
    "        panel_tabs_view.active = 0\n",
    "        inital_right.append(config_col)\n",
    "        start_button.name='Cancel'\n",
    "        if wizard_group.value=='Configure Strategy':\n",
    "            #config_bt_strategy()       \n",
    "            #bt_config.clear()\n",
    "            panel_tabs_view[3] = (\"Backtest & Benchmark\", bt_pane)\n",
    "            panel_tabs_view.active=3 \n",
    "            \n",
    "    elif start_button.name == 'Cancel':\n",
    "        inital_right.remove(config_col)\n",
    "        start_button.name='Start'"
   ]
  },
  {
   "cell_type": "code",
   "execution_count": 61,
   "metadata": {},
   "outputs": [],
   "source": [
    "def load_file_data(event):\n",
    "    \"\"\"function identifies file extensions and triggers dataload by calling get_Dataframe function\"\"\"\n",
    "    data_col.remove\n",
    "    panel_tabs_view.active=0\n",
    "    files_to_load = select_data_files.value\n",
    "    df_dict={}\n",
    "    for file in files_to_load:\n",
    "        file_extention = file.split(\".\")[1]\n",
    "        file_desc = file.split(\".\")[0]\n",
    "        file_desc = \"r\"+f'{file_desc}'\n",
    "        file_name = file_desc.split('\\\\')[-1]\n",
    "        abs_path = file.replace('\\\\', '/')\n",
    "        df_dict.update(get_dataframe(file_extention, file_name, abs_path))\n",
    "    paint_panel_tab(df_dict)"
   ]
  },
  {
   "cell_type": "code",
   "execution_count": 62,
   "metadata": {},
   "outputs": [],
   "source": [
    "def paint_panel_tab(df_dict):\n",
    "    \"\"\"function to populate the data screen/panel\"\"\"\n",
    "    data_row.clear()\n",
    "    data_col.clear()\n",
    "    row_index=0\n",
    "    for key in df_dict:\n",
    "        df_pane = pn.pane.DataFrame(df_dict[key],  render_links = True, show_dimensions =True, max_rows =5)\n",
    "        pane = pn.panel(df_pane.param, parameters=['index', 'show_dimensions', 'max_rows',],\n",
    "        widgets={'max_rows': {'start': 1, 'end': len(df_dict[key]), 'value': 5}})\n",
    "        #df_plot_graph = get_financial_plots(df_dict[key])\n",
    "        null_count = pn.widgets.StaticText(name='Nulls: ', value=df_dict[key].count() - df_dict[key].notna().count())\n",
    "        data_types = pn.widgets.StaticText(name='Data types: ', value=df_dict[key].dtypes)\n",
    "        duplicate_data = pn.widgets.StaticText(name='Duplicates: ', value = df_dict[key].count() - df_dict[key].nunique())\n",
    "        data_col.insert(row_index, pn.Column())\n",
    "        data_col[row_index].append(key)\n",
    "        data_col[row_index].append(df_pane)\n",
    "        data_col[row_index].append(null_count)\n",
    "        data_col[row_index].append(data_types)\n",
    "        data_col[row_index].append(duplicate_data)\n",
    "        data_col[row_index].append(pane)\n",
    "        data_col[row_index].append(visual_row)\n",
    "        plots = plot_graphs(df_dict[key])\n",
    "        for plot in plots:\n",
    "            data_col[row_index].append(plot)\n",
    "        data_col[row_index].append(reset_button)\n",
    "        data_row.insert(row_index, pn.Row(data_col[row_index]))\n",
    "        row_index += 1\n",
    "    panel_tabs_view.active = 1"
   ]
  },
  {
   "cell_type": "code",
   "execution_count": 63,
   "metadata": {},
   "outputs": [],
   "source": [
    "def show_plot(event):\n",
    "    try:\n",
    "        plot_btn.width = 50\n",
    "        plot_btn.background = 'Red'\n",
    "        plot_btn.disabled=True    \n",
    "        for plot in plots:\n",
    "            data_col.append(plot)\n",
    "            panel_tabs_view[2] = (\"Visualizations\", data_col)\n",
    "            panel_tabs_view.active = 2\n",
    "    except Exception as e:\n",
    "        plot_btn.message(e)"
   ]
  },
  {
   "cell_type": "code",
   "execution_count": 64,
   "metadata": {},
   "outputs": [],
   "source": [
    "def plot_selected(event): # not used\n",
    "    selected_plot = plot_option.value\n",
    "    if selected_plot != \"Select Chart\":\n",
    "        selected_plot = selected_plot.lower()\n",
    "        selected_plot =  globals()[selected_plot]\n",
    "        #show_btn.name=plot_option.value\n",
    "        selected_plot()\n",
    "        #return selected_plot()#(stock)"
   ]
  },
  {
   "cell_type": "code",
   "execution_count": 65,
   "metadata": {},
   "outputs": [],
   "source": [
    "def plot_graphs(df_item):\n",
    "    \"\"\"function to plot graphs.  This is base version, ideally a variable specifying \n",
    "    the type of graph needed will need to be passed upon user selection\"\"\"\n",
    "    df_item.dropna(inplace = True)\n",
    "    df_item= df_item.sort_index()\n",
    "    dr_plot= df_item.hvplot.line( title = \" Daily Close Vs SMA20, 50 & 200\",  grid=True)\n",
    "    sma5 = np.round(df_item.rolling(window = 5).mean(), 2)\n",
    "    #sma5_plt = sma5.hvplot.line(x='Date', y='Close', grid=True, title=\"5 day Moving average\")\n",
    "    sma20 = np.round(df_item.rolling(window = 20).mean(), 2)\n",
    "    sma20_plot = sma20.hvplot.line( grid=True, title=\"20 day Moving average\")\n",
    "    sma50 = np.round(df_item.rolling(window = 50).mean(), 2)\n",
    "    sma50_plot = sma50.hvplot.line(  grid=True, title=\"50 day Moving average\")\n",
    "    sma200 = np.round(df_item.rolling(window = 200, center = False).mean(), 2)\n",
    "    sma200_plot = sma200.hvplot.line( grid=True, title=\"200 day Moving average\")\n",
    "    sma_combo_plot =  dr_plot* sma20_plot*sma50_plot*sma200_plot\n",
    "    sma_combo_plot.opts(bgcolor='black')\n",
    "    if 'high' in df_item.columns:\n",
    "        candle = go.Figure(data=[go.Candlestick(x=df_item.index,\n",
    "                        open = df_item['open'],\n",
    "                        high =df_item['high'],\n",
    "                        low=df_item['low'],\n",
    "                        close=df_item['close'])])\n",
    "    else:\n",
    "        candle=df_item['close'].hvplot.line()\n",
    "     \n",
    "    daily_returns = df_item['close'].pct_change().hvplot.line(title=\"Daily, Cumulative 180 day STD & Mean\")\n",
    "    cumulative_returns = (1 + df_item['close'].pct_change()).cumprod().hvplot.line()\n",
    "    std_180=df_item['close'].pct_change().rolling(window=180).std().hvplot.line()\n",
    "    mean_180= df_item['close'].pct_change().rolling(window=180).mean().hvplot.line()\n",
    "    ret_combo_plot =  daily_returns * cumulative_returns * std_180 * mean_180\n",
    "    ret_combo_plot.opts(bgcolor='black')\n",
    "    return [candle, sma_combo_plot, ret_combo_plot]"
   ]
  },
  {
   "cell_type": "code",
   "execution_count": 66,
   "metadata": {},
   "outputs": [],
   "source": [
    "def get_dataframe (ext, name, path):\n",
    "    \"\"\"This is where we read each file and load the data into dataframes\"\"\"\n",
    "    df_dict = {}\n",
    "    if ext == 'xlsx':\n",
    "        data_frame = pd.read_excel(path, parse_dates=True, infer_datetime_format=True)\n",
    "    elif ext == 'csv':\n",
    "        data_frame =pd.read_csv(path, index_col='Date', parse_dates=True)\n",
    "    elif ext == 'json':\n",
    "        data_frame = pd.read_json(path, orient=None, typ='frame')\n",
    "    elif ext == 'sql':\n",
    "        data_frame == pd.read_sql(sql, con, index_col=None, coerce_float=True, params=None, parse_dates=None)\n",
    "    elif ext == 'html':\n",
    "        data_frame == pd.read_html(io, match='.+', flavor=None, header=None, index_col=None, skiprows=None, attrs=None, parse_dates=False, tupleize_cols=None, thousands=',', encoding=None, decimal='.', converters=None, na_values=None, keep_default_na=True, displayed_only=True)\n",
    "    else:\n",
    "        print(\"cannot read the file extensions\")\n",
    "    df_dict= {name: data_frame}\n",
    "    return df_dict"
   ]
  },
  {
   "cell_type": "code",
   "execution_count": 67,
   "metadata": {},
   "outputs": [],
   "source": [
    "def fetch_api_data(event):\n",
    "    \"\"\"This is where we fetch data using API and pass the data frame to the plotting function\"\"\"\n",
    "    df_dict={}\n",
    "    alpaca_key=api_key.value\n",
    "    secret_key=api_secret_key.value\n",
    "    alpaca = tradeapi.REST(alpaca_key, secret_key, api_version=\"v2\")\n",
    "    today=pd.Timestamp(\"2020-08-19\", tz=\"America/Chicago\").isoformat()\n",
    "    timeframe=\"1D\"\n",
    "    tf_start = start_date.value\n",
    "    tf_end= end_date.value\n",
    "    tickers = ticker_selector.value\n",
    "    for ticker in tickers:\n",
    "        df_portfolio = alpaca.get_barset(ticker, timeframe, start=tf_start, end=tf_end).df\n",
    "        df_dict.update({ticker: df_portfolio[ticker]})\n",
    "    paint_panel_tab(df_dict)"
   ]
  },
  {
   "cell_type": "code",
   "execution_count": 68,
   "metadata": {},
   "outputs": [],
   "source": [
    "#fetch_api_data()"
   ]
  },
  {
   "cell_type": "code",
   "execution_count": 69,
   "metadata": {},
   "outputs": [],
   "source": [
    "def sector_analysis():\n",
    "    # use the Data frame created by Luis\n",
    "    \"\"\"function to plot the sector wise charts like in https://www.sectorspdr.com/sectorspdr/tools/sector-tracker\"\"\"\n",
    "    pass \n",
    "\n",
    "def data_cleanser():\n",
    "    \"\"\"function to inspect, clean, manipulate the data\"\"\"\n",
    "    pass\n",
    "\n",
    "def simulate_mc():\n",
    "    \"\"\"place holder function to initiate mc simulation\"\"\"\n",
    "    pass"
   ]
  },
  {
   "cell_type": "code",
   "execution_count": 70,
   "metadata": {},
   "outputs": [],
   "source": [
    "def clearpane(event):\n",
    "    \"\"\"ideally pass the row/column reference. this is a place holder function\"\"\"\n",
    "    #data_row.clear()\n",
    "    data_col.clear()\n",
    "    #remove_obj()\n",
    "    panel_tabs_view.active=0"
   ]
  },
  {
   "cell_type": "code",
   "execution_count": 71,
   "metadata": {},
   "outputs": [],
   "source": [
    "def show_source(event):\n",
    "    \"\"\"function to show/ remove widget for loading data sources\"\"\"\n",
    "    if data_sources.value == 'API':\n",
    "        remove_obj()\n",
    "        config_col.append(api_row)\n",
    "        config_col.append(date_row)\n",
    "        config_col.append(ticker_selector)\n",
    "        config_col.append(reset_button)\n",
    "        config_col.append(fetch_button)\n",
    "    elif data_sources.value == 'Local Files':\n",
    "        remove_obj()\n",
    "        config_col.append(select_data_files)\n",
    "        config_col.append(load_files_button)\n",
    "    elif data_sources.value == 'Google Finance':\n",
    "        remove_obj()\n",
    "        config_col.append(url_input)\n",
    "    elif data_sources.value == 'Database':\n",
    "        remove_obj()\n",
    "        config_col.append(db_source)\n",
    "        config_col.append(db_user)\n",
    "        config_col.append(db_pswd)\n",
    "        config_col.append(db_conn)\n",
    "        config_col.append(db_sql)\n",
    "        config_col.append(dbconn_button)\n",
    "        config_col.append(reset_button)\n",
    "    else:\n",
    "        remove_obj()"
   ]
  },
  {
   "cell_type": "code",
   "execution_count": 72,
   "metadata": {},
   "outputs": [],
   "source": [
    "def db_connect(event):\n",
    "    engine = db_source.value + f'://' + db_user.value  + f':' + db_pswd.value + \"@\" + db_conn.value + \"/\" + db_user.value\n",
    "    pgsql_engine = create_engine(engine)\n",
    "    db_connection = pgsql_engine.connect()\n",
    "    df_sql = pd.read_sql(db_sql.value, db_connection)\n",
    "    df_pane = pn.pane.DataFrame(df_sql,  render_links = True, height_policy = 'auto', width_policy = 'auto', align='start', sizing_mode='scale_both', show_dimensions =True, max_rows =5)\n",
    "    panel_tabs_view[2] = (\"Visualizations\", df_pane)\n",
    "    panel_tabs_view.active=2\n",
    "    config_col.clear()\n",
    "    panel_tabs_view[2].append(config_col)\n",
    "    config_col.append(df_sql)\n",
    "    config_col.append(query_builder)\n",
    "    plot_lst=[]\n",
    "    for plot in px:\n",
    "        plot_lst.append(plot)\n",
    "    plot_lst = pn.widgets.Select(name='Visualizations', options=plot_lst)\n",
    "    config_col.append(plot_lst)"
   ]
  },
  {
   "cell_type": "code",
   "execution_count": 73,
   "metadata": {},
   "outputs": [],
   "source": [
    "def remove_obj():\n",
    "    \"\"\"function to clear previous widgets\"\"\"\n",
    "    for widget in config_col.objects:\n",
    "        if widget.name != 'DataSource':\n",
    "            config_col.remove(widget)\n",
    "            pass"
   ]
  },
  {
   "cell_type": "code",
   "execution_count": 74,
   "metadata": {},
   "outputs": [],
   "source": [
    "#test function calls\n",
    "#load_file_data() \n",
    "# show_plot()"
   ]
  },
  {
   "cell_type": "code",
   "execution_count": 75,
   "metadata": {},
   "outputs": [],
   "source": [
    "#clearpane()"
   ]
  },
  {
   "cell_type": "code",
   "execution_count": 76,
   "metadata": {},
   "outputs": [],
   "source": [
    "#run_backtest()"
   ]
  },
  {
   "cell_type": "code",
   "execution_count": 77,
   "metadata": {},
   "outputs": [],
   "source": [
    "#paint_panel_tab(df_dict)"
   ]
  },
  {
   "cell_type": "code",
   "execution_count": 78,
   "metadata": {},
   "outputs": [],
   "source": [
    "welcome_img = pn.pane.PNG('Resources/images/financial-planner.png', width=300)"
   ]
  },
  {
   "cell_type": "code",
   "execution_count": 79,
   "metadata": {},
   "outputs": [],
   "source": [
    "header= \"\"\"#Portfolio Builder and Algorithmic Trading Platform\"\"\"\n",
    "\n",
    "markdown =\"\"\"This tool helps build, compare, backtest, benchmark and simulate porfolio returns \n",
    "based on style factors, sector or different Indexes with choice to either run \n",
    "in the background or in an interactive way providing a wizard at every step for the advisor \n",
    "to analyze the visualizations and calibrate Trading strategies.\"\"\"\n",
    "\n",
    "welcome_msg = pn.Column(header, welcome_img, markdown )"
   ]
  },
  {
   "cell_type": "code",
   "execution_count": 80,
   "metadata": {},
   "outputs": [],
   "source": [
    "start_date = pn.widgets.DatePicker(name='StartDate')\n",
    "end_date = pn.widgets.DatePicker(name='EndDate')\n",
    "date_row = pn.Row(start_date, end_date)"
   ]
  },
  {
   "cell_type": "code",
   "execution_count": 81,
   "metadata": {},
   "outputs": [],
   "source": [
    "url_input = pn.widgets.TextInput(name='google_link', value='Enter the google finance url')\n",
    "db_source = pn.widgets.TextInput(name='Database', value='Enter Database name')\n",
    "db_conn = pn.widgets.TextInput(name='Connection', value='localhost:5432')\n",
    "db_user = pn.widgets.TextInput(name='usrname', value='enter DB user name')\n",
    "db_pswd = pn.widgets.PasswordInput(name='DBPassword', max_width = 200, placeholder='Enter Database password')\n",
    "db_sql = pn.widgets.TextInput(name='Sql', value='enter the SQL query')"
   ]
  },
  {
   "cell_type": "code",
   "execution_count": 82,
   "metadata": {},
   "outputs": [
    {
     "data": {
      "application/vnd.holoviews_exec.v0+json": "",
      "text/html": [
       "<div id='9033'>\n",
       "\n",
       "\n",
       "\n",
       "\n",
       "\n",
       "  <div class=\"bk-root\" id=\"66bbb474-e36f-4fac-a7e0-7d4c5e899f3b\" data-root-id=\"9033\"></div>\n",
       "</div>\n",
       "<script type=\"application/javascript\">(function(root) {\n",
       "  function embed_document(root) {\n",
       "  var docs_json = {\"be56cf7a-72bd-4ed6-a307-ae2e0643a1fd\":{\"roots\":{\"references\":[{\"attributes\":{\"margin\":[5,5,5,5],\"name\":\"VSpacer13587\",\"sizing_mode\":\"stretch_height\"},\"id\":\"9042\",\"type\":\"Spacer\"},{\"attributes\":{\"children\":[{\"id\":\"9038\"},{\"id\":\"9039\"},{\"id\":\"9042\"}],\"margin\":[0,0,0,0],\"name\":\"Column13588\"},\"id\":\"9037\",\"type\":\"Column\"},{\"attributes\":{\"margin\":[0,0,10,0],\"placeholder\":\"Filter available options\",\"width_policy\":\"max\"},\"id\":\"9035\",\"type\":\"TextInput\"},{\"attributes\":{\"disabled\":true,\"margin\":[0,0,0,0],\"max_length\":5000,\"placeholder\":\"To select an item highlight it on the left and use the arrow button to move it to the right.\",\"sizing_mode\":\"stretch_both\"},\"id\":\"9045\",\"type\":\"TextAreaInput\"},{\"attributes\":{\"children\":[{\"id\":\"9034\"},{\"id\":\"9037\"},{\"id\":\"9043\"}],\"height\":200,\"margin\":[5,10,5,10],\"min_height\":200,\"min_width\":600,\"name\":\"Tickers\",\"width\":600},\"id\":\"9033\",\"type\":\"Row\"},{\"attributes\":{\"margin\":[0,0,10,0],\"placeholder\":\"Filter selected options\",\"width_policy\":\"max\"},\"id\":\"9044\",\"type\":\"TextInput\"},{\"attributes\":{\"children\":[{\"id\":\"9040\"},{\"id\":\"9041\"}],\"margin\":[0,5,0,5],\"name\":\"Column13585\"},\"id\":\"9039\",\"type\":\"Column\"},{\"attributes\":{\"icon\":null,\"label\":\">>\",\"margin\":[5,10,5,10],\"min_width\":50,\"subscribed_events\":[\"button_click\"],\"width\":50},\"id\":\"9040\",\"type\":\"Button\"},{\"attributes\":{\"icon\":null,\"label\":\"<<\",\"margin\":[5,10,5,10],\"min_width\":50,\"subscribed_events\":[\"button_click\"],\"width\":50},\"id\":\"9041\",\"type\":\"Button\"},{\"attributes\":{\"children\":[{\"id\":\"9044\"},{\"id\":\"9045\"}],\"margin\":[0,0,0,0],\"name\":\"Column13584\",\"sizing_mode\":\"stretch_both\"},\"id\":\"9043\",\"type\":\"Column\"},{\"attributes\":{\"client_comm_id\":\"f8d2f5b62d754dbcabcf62b48c47fb3b\",\"comm_id\":\"058d2db78dee443c832a7af65cd14a5f\",\"plot_id\":\"9033\"},\"id\":\"9046\",\"type\":\"panel.models.comm_manager.CommManager\"},{\"attributes\":{\"children\":[{\"id\":\"9035\"},{\"id\":\"9036\"}],\"margin\":[0,0,0,0],\"name\":\"Column13583\",\"sizing_mode\":\"stretch_both\"},\"id\":\"9034\",\"type\":\"Column\"},{\"attributes\":{\"margin\":[0,0,0,0],\"options\":[\"MMM\",\"AOS\",\"ABT\",\"ABBV\",\"ACN\",\"ATVI\",\"AYI\",\"ADBE\",\"AAP\",\"AMD\",\"AES\",\"AET\",\"AMG\",\"AFL\",\"A\",\"APD\",\"AKAM\",\"ALK\",\"ALB\",\"ARE\",\"ALXN\",\"ALGN\",\"ALLE\",\"AGN\",\"ADS\",\"LNT\",\"ALL\",\"GOOGL\",\"GOOG\",\"MO\",\"AMZN\",\"AEE\",\"AAL\",\"AEP\",\"AXP\",\"AIG\",\"AMT\",\"AWK\",\"AMP\",\"ABC\",\"AME\",\"AMGN\",\"APH\",\"APC\",\"ADI\",\"ANDV\",\"ANSS\",\"ANTM\",\"AON\",\"APA\",\"AIV\",\"AAPL\",\"AMAT\",\"APTV\",\"ADM\",\"ARNC\",\"AJG\",\"AIZ\",\"T\",\"ADSK\",\"ADP\",\"AZO\",\"AVB\",\"AVY\",\"BHGE\",\"BLL\",\"BAC\",\"BAX\",\"BBT\",\"BDX\",\"BRK.B\",\"BBY\",\"BIIB\",\"BLK\",\"HRB\",\"BA\",\"BWA\",\"BXP\",\"BSX\",\"BHF\",\"BMY\",\"AVGO\",\"BF.B\",\"CHRW\",\"CA\",\"COG\",\"CDNS\",\"CPB\",\"COF\",\"CAH\",\"KMX\",\"CCL\",\"CAT\",\"CBOE\",\"CBG\",\"CBS\",\"CELG\",\"CNC\",\"CNP\",\"CTL\",\"CERN\",\"CF\",\"SCHW\",\"CHTR\",\"CHK\",\"CVX\",\"CMG\",\"CB\",\"CHD\",\"CI\",\"XEC\",\"CINF\",\"CTAS\",\"CSCO\",\"C\",\"CFG\",\"CTXS\",\"CME\",\"CMS\",\"KO\",\"CTSH\",\"CL\",\"CMCSA\",\"CMA\",\"CAG\",\"CXO\",\"COP\",\"ED\",\"STZ\",\"GLW\",\"COST\",\"COTY\",\"CCI\",\"CSRA\",\"CSX\",\"CMI\",\"CVS\",\"DHI\",\"DHR\",\"DRI\",\"DVA\",\"DE\",\"DAL\",\"XRAY\",\"DVN\",\"DLR\",\"DFS\",\"DISCA\",\"DISCK\",\"DISH\",\"DG\",\"DLTR\",\"D\",\"DOV\",\"DWDP\",\"DPS\",\"DTE\",\"DUK\",\"DRE\",\"DXC\",\"ETFC\",\"EMN\",\"ETN\",\"EBAY\",\"ECL\",\"EIX\",\"EW\",\"EA\",\"EMR\",\"ETR\",\"EVHC\",\"EOG\",\"EQT\",\"EFX\",\"EQIX\",\"EQR\",\"ESS\",\"EL\",\"RE\",\"ES\",\"EXC\",\"EXPE\",\"EXPD\",\"ESRX\",\"EXR\",\"XOM\",\"FFIV\",\"FB\",\"FAST\",\"FRT\",\"FDX\",\"FIS\",\"FITB\",\"FE\",\"FISV\",\"FLIR\",\"FLS\",\"FLR\",\"FMC\",\"FL\",\"F\",\"FTV\",\"FBHS\",\"BEN\",\"FCX\",\"GPS\",\"GRMN\",\"IT\",\"GD\",\"GE\",\"GGP\",\"GIS\",\"GM\",\"GPC\",\"GILD\",\"GPN\",\"GS\",\"GT\",\"GWW\",\"HAL\",\"HBI\",\"HOG\",\"HRS\",\"HIG\",\"HAS\",\"HCA\",\"HCP\",\"HP\",\"HSIC\",\"HES\",\"HPE\",\"HLT\",\"HOLX\",\"HD\",\"HON\",\"HRL\",\"HST\",\"HPQ\",\"HUM\",\"HBAN\",\"HII\",\"IDXX\",\"INFO\",\"ITW\",\"ILMN\",\"INCY\",\"IR\",\"INTC\",\"ICE\",\"IBM\",\"IP\",\"IPG\",\"IFF\",\"INTU\",\"ISRG\",\"IVZ\",\"IQV\",\"IRM\",\"JBHT\",\"JEC\",\"SJM\",\"JNJ\",\"JCI\",\"JPM\",\"JNPR\",\"KSU\",\"K\",\"KEY\",\"KMB\",\"KIM\",\"KMI\",\"KLAC\",\"KSS\",\"KHC\",\"KR\",\"LB\",\"LLL\",\"LH\",\"LRCX\",\"LEG\",\"LEN\",\"LUK\",\"LLY\",\"LNC\",\"LKQ\",\"LMT\",\"L\",\"LOW\",\"LYB\",\"MTB\",\"MAC\",\"M\",\"MRO\",\"MPC\",\"MAR\",\"MMC\",\"MLM\",\"MAS\",\"MA\",\"MAT\",\"MKC\",\"MCD\",\"MCK\",\"MDT\",\"MRK\",\"MET\",\"MTD\",\"MGM\",\"KORS\",\"MCHP\",\"MU\",\"MSFT\",\"MAA\",\"MHK\",\"TAP\",\"MDLZ\",\"MON\",\"MNST\",\"MCO\",\"MS\",\"MSI\",\"MYL\",\"NDAQ\",\"NOV\",\"NAVI\",\"NTAP\",\"NFLX\",\"NWL\",\"NFX\",\"NEM\",\"NWSA\",\"NWS\",\"NEE\",\"NLSN\",\"NKE\",\"NI\",\"NBL\",\"JWN\",\"NSC\",\"NTRS\",\"NOC\",\"NCLH\",\"NRG\",\"NUE\",\"NVDA\",\"ORLY\",\"OXY\",\"OMC\",\"OKE\",\"ORCL\",\"PCAR\",\"PKG\",\"PH\",\"PDCO\",\"PAYX\",\"PYPL\",\"PNR\",\"PBCT\",\"PEP\",\"PKI\",\"PRGO\",\"PFE\",\"PCG\",\"PM\",\"PSX\",\"PNW\",\"PXD\",\"PNC\",\"RL\",\"PPG\",\"PPL\",\"PX\",\"PCLN\",\"PFG\",\"PG\",\"PGR\",\"PLD\",\"PRU\",\"PEG\",\"PSA\",\"PHM\",\"PVH\",\"QRVO\",\"QCOM\",\"PWR\",\"DGX\",\"RRC\",\"RJF\",\"RTN\",\"O\",\"RHT\",\"REG\",\"REGN\",\"RF\",\"RSG\",\"RMD\",\"RHI\",\"ROK\",\"COL\",\"ROP\",\"ROST\",\"RCL\",\"SPGI\",\"CRM\",\"SBAC\",\"SCG\",\"SLB\",\"SNI\",\"STX\",\"SEE\",\"SRE\",\"SHW\",\"SIG\",\"SPG\",\"SWKS\",\"SLG\",\"SNA\",\"SO\",\"LUV\",\"SWK\",\"SBUX\",\"STT\",\"SRCL\",\"SYK\",\"STI\",\"SYMC\",\"SYF\",\"SNPS\",\"SYY\",\"TROW\",\"TPR\",\"TGT\",\"TEL\",\"FTI\",\"TXN\",\"TXT\",\"BK\",\"CLX\",\"COO\",\"HSY\",\"MOS\",\"TRV\",\"DIS\",\"TMO\",\"TIF\",\"TWX\",\"TJX\",\"TMK\",\"TSS\",\"TSCO\",\"TDG\",\"TRIP\",\"FOXA\",\"FOX\",\"TSN\",\"USB\",\"UDR\",\"ULTA\",\"UAA\",\"UA\",\"UNP\",\"UAL\",\"UNH\",\"UPS\",\"URI\",\"UTX\",\"UHS\",\"UNM\",\"VFC\",\"VLO\",\"VAR\",\"VTR\",\"VRSN\",\"VRSK\",\"VZ\",\"VRTX\",\"VIAB\",\"V\",\"VNO\",\"VMC\",\"WMT\",\"WBA\",\"WM\",\"WAT\",\"WEC\",\"WFC\",\"HCN\",\"WDC\",\"WU\",\"WRK\",\"WY\",\"WHR\",\"WMB\",\"WLTW\",\"WYN\",\"WYNN\",\"XEL\",\"XRX\",\"XLNX\",\"XL\",\"XYL\",\"YUM\",\"ZBH\",\"ZION\",\"ZTS\"],\"size\":10,\"sizing_mode\":\"stretch_both\"},\"id\":\"9036\",\"type\":\"MultiSelect\"},{\"attributes\":{\"margin\":[5,5,5,5],\"name\":\"VSpacer13586\",\"sizing_mode\":\"stretch_height\"},\"id\":\"9038\",\"type\":\"Spacer\"}],\"root_ids\":[\"9033\",\"9046\"]},\"title\":\"Bokeh Application\",\"version\":\"2.1.1\"}};\n",
       "  var render_items = [{\"docid\":\"be56cf7a-72bd-4ed6-a307-ae2e0643a1fd\",\"root_ids\":[\"9033\"],\"roots\":{\"9033\":\"66bbb474-e36f-4fac-a7e0-7d4c5e899f3b\"}}];\n",
       "  root.Bokeh.embed.embed_items_notebook(docs_json, render_items);\n",
       "  }\n",
       "if (root.Bokeh !== undefined) {\n",
       "    embed_document(root);\n",
       "  } else {\n",
       "    var attempts = 0;\n",
       "    var timer = setInterval(function(root) {\n",
       "      if (root.Bokeh !== undefined) {\n",
       "        clearInterval(timer);\n",
       "        embed_document(root);\n",
       "      } else if (document.readyState == \"complete\") {\n",
       "        attempts++;\n",
       "        if (attempts > 100) {\n",
       "          clearInterval(timer);\n",
       "          console.log(\"Bokeh: ERROR: Unable to run BokehJS code because BokehJS library is missing\");\n",
       "        }\n",
       "      }\n",
       "    }, 10, root)\n",
       "  }\n",
       "})(window);</script>"
      ],
      "text/plain": [
       "CrossSelector(name='Tickers', options=['MMM', 'AOS', ...])"
      ]
     },
     "execution_count": 82,
     "metadata": {
      "application/vnd.holoviews_exec.v0+json": {
       "id": "9033"
      }
     },
     "output_type": "execute_result"
    }
   ],
   "source": [
    "ticker_df = pd.read_csv('./resources/sp500_companies.csv', header='infer', delimiter=',', index_col='Symbol', usecols=['Symbol']).dropna()\n",
    "options=[]\n",
    "for ticker in ticker_df.index:\n",
    "    options.append(ticker)\n",
    "ticker_selector = pn.widgets.CrossSelector(name='Tickers', disabled=False,\n",
    "    options=options)\n",
    "ticker_selector"
   ]
  },
  {
   "cell_type": "code",
   "execution_count": 83,
   "metadata": {},
   "outputs": [
    {
     "data": {
      "text/plain": [
       "[]"
      ]
     },
     "execution_count": 83,
     "metadata": {},
     "output_type": "execute_result"
    }
   ],
   "source": [
    "ticker_selector.value"
   ]
  },
  {
   "cell_type": "code",
   "execution_count": 84,
   "metadata": {},
   "outputs": [],
   "source": [
    "select_data_files = pn.widgets.FileSelector('~')\n",
    "#select_data_files"
   ]
  },
  {
   "cell_type": "code",
   "execution_count": 85,
   "metadata": {},
   "outputs": [],
   "source": [
    "selected_files = select_data_files.value\n",
    "#selected_files"
   ]
  },
  {
   "cell_type": "code",
   "execution_count": 86,
   "metadata": {},
   "outputs": [],
   "source": [
    "file_input = pn.widgets.FileInput(accept='.csv,.json, .xlsx')\n",
    "#file_input"
   ]
  },
  {
   "cell_type": "code",
   "execution_count": 87,
   "metadata": {},
   "outputs": [
    {
     "data": {
      "application/vnd.holoviews_exec.v0+json": "",
      "text/html": [
       "<div id='9047'>\n",
       "\n",
       "\n",
       "\n",
       "\n",
       "\n",
       "  <div class=\"bk-root\" id=\"9a2ad19f-d1aa-4d8b-8623-cb03a429fb8a\" data-root-id=\"9047\"></div>\n",
       "</div>\n",
       "<script type=\"application/javascript\">(function(root) {\n",
       "  function embed_document(root) {\n",
       "  var docs_json = {\"41ee1ab5-d25b-4ba1-9ec3-c847e8f5ba31\":{\"roots\":{\"references\":[{\"attributes\":{\"children\":[{\"id\":\"9048\"},{\"id\":\"9049\"}],\"margin\":[0,0,0,0],\"name\":\"Column13622\"},\"id\":\"9047\",\"type\":\"Column\"},{\"attributes\":{\"active\":[2,4],\"inline\":true,\"labels\":[\"Full Tearsheet\",\"Daily close\",\"beta\",\"Correlation\",\"SMA\",\"EMA\"],\"margin\":[5,10,5,10]},\"id\":\"9048\",\"type\":\"CheckboxGroup\"},{\"attributes\":{\"button_type\":\"primary\",\"icon\":null,\"label\":\"Create\",\"margin\":[5,10,5,10],\"min_width\":20,\"subscribed_events\":[\"button_click\"],\"width\":20},\"id\":\"9049\",\"type\":\"Button\"},{\"attributes\":{\"client_comm_id\":\"5dff260a81ac4aa9a4176bb36528614d\",\"comm_id\":\"7a8845e8156e49809770553bef2cf0ce\",\"plot_id\":\"9047\"},\"id\":\"9050\",\"type\":\"panel.models.comm_manager.CommManager\"}],\"root_ids\":[\"9047\",\"9050\"]},\"title\":\"Bokeh Application\",\"version\":\"2.1.1\"}};\n",
       "  var render_items = [{\"docid\":\"41ee1ab5-d25b-4ba1-9ec3-c847e8f5ba31\",\"root_ids\":[\"9047\"],\"roots\":{\"9047\":\"9a2ad19f-d1aa-4d8b-8623-cb03a429fb8a\"}}];\n",
       "  root.Bokeh.embed.embed_items_notebook(docs_json, render_items);\n",
       "  }\n",
       "if (root.Bokeh !== undefined) {\n",
       "    embed_document(root);\n",
       "  } else {\n",
       "    var attempts = 0;\n",
       "    var timer = setInterval(function(root) {\n",
       "      if (root.Bokeh !== undefined) {\n",
       "        clearInterval(timer);\n",
       "        embed_document(root);\n",
       "      } else if (document.readyState == \"complete\") {\n",
       "        attempts++;\n",
       "        if (attempts > 100) {\n",
       "          clearInterval(timer);\n",
       "          console.log(\"Bokeh: ERROR: Unable to run BokehJS code because BokehJS library is missing\");\n",
       "        }\n",
       "      }\n",
       "    }, 10, root)\n",
       "  }\n",
       "})(window);</script>"
      ],
      "text/plain": [
       "Column\n",
       "    [0] CheckBoxGroup(inline=True, name='Checkbox Group', options=['Full Tearsheet', ...], value=['beta', 'SMA'])\n",
       "    [1] Button(button_type='primary', name='Create', width=20)"
      ]
     },
     "execution_count": 87,
     "metadata": {
      "application/vnd.holoviews_exec.v0+json": {
       "id": "9047"
      }
     },
     "output_type": "execute_result"
    }
   ],
   "source": [
    "visualization_group = pn.widgets.CheckBoxGroup(\n",
    "    name='Checkbox Group', value=['Tearsheet', 'close', 'beta', 'cor', 'SMA', 'EWMA'], options=['Full Tearsheet', 'Daily close', 'beta', 'Correlation', 'SMA', 'EMA'],\n",
    "    inline=True)\n",
    "create_visual = pn.widgets.Button(name='Create', button_type='primary', width=20)\n",
    "visual_row = pn.Column(visualization_group, create_visual)\n",
    "visual_row"
   ]
  },
  {
   "cell_type": "code",
   "execution_count": 88,
   "metadata": {},
   "outputs": [],
   "source": [
    "run_mc_button = pn.widgets.Button(name='Run MC Simulation', button_type='primary')\n",
    "load_files_button = pn.widgets.Button(name='Load Data files', button_type='primary')\n",
    "reset_button = pn.widgets.Button(name='Reset', button_type='primary')\n",
    "start_button = pn.widgets.Button(name='Start', button_type='primary')\n",
    "fetch_button = pn.widgets.Button(name='Fetch Data', button_type='primary')\n",
    "dbconn_button = pn.widgets.Button(name='Query Database', button_type='primary')\n",
    "query_builder = pn.widgets.Button(name='generate Query', button_type='primary')\n",
    "plot_btn = pn.widgets.Button(name='🔍', button_type='primary', width=5)\n",
    "plot_btn.on_click(show_plot)\n",
    "reset_button.on_click(clearpane)\n",
    "run_mc_button.on_click(simulate_mc)\n",
    "dbconn_button.on_click(db_connect)"
   ]
  },
  {
   "cell_type": "code",
   "execution_count": 89,
   "metadata": {},
   "outputs": [
    {
     "data": {
      "application/vnd.holoviews_exec.v0+json": "",
      "text/html": [
       "<div id='9051'>\n",
       "\n",
       "\n",
       "\n",
       "\n",
       "\n",
       "  <div class=\"bk-root\" id=\"60c6dc14-a3e5-4e3a-bc94-b316c8740f17\" data-root-id=\"9051\"></div>\n",
       "</div>\n",
       "<script type=\"application/javascript\">(function(root) {\n",
       "  function embed_document(root) {\n",
       "  var docs_json = {\"2be4f05f-c10d-4480-ae1f-98d4370b1427\":{\"roots\":{\"references\":[{\"attributes\":{\"client_comm_id\":\"8845fb9479454b79a3aad2aa074ddff5\",\"comm_id\":\"ce17c99482a6414fa41cd233c703f469\",\"plot_id\":\"9051\"},\"id\":\"9052\",\"type\":\"panel.models.comm_manager.CommManager\"},{\"attributes\":{\"active\":0,\"labels\":[\"Step by Step Wizard\",\"Visualizations Wizard\",\"Configure Strategy\",\"Just show me the Money\"],\"margin\":[5,10,5,10]},\"id\":\"9051\",\"type\":\"RadioGroup\"}],\"root_ids\":[\"9051\",\"9052\"]},\"title\":\"Bokeh Application\",\"version\":\"2.1.1\"}};\n",
       "  var render_items = [{\"docid\":\"2be4f05f-c10d-4480-ae1f-98d4370b1427\",\"root_ids\":[\"9051\"],\"roots\":{\"9051\":\"60c6dc14-a3e5-4e3a-bc94-b316c8740f17\"}}];\n",
       "  root.Bokeh.embed.embed_items_notebook(docs_json, render_items);\n",
       "  }\n",
       "if (root.Bokeh !== undefined) {\n",
       "    embed_document(root);\n",
       "  } else {\n",
       "    var attempts = 0;\n",
       "    var timer = setInterval(function(root) {\n",
       "      if (root.Bokeh !== undefined) {\n",
       "        clearInterval(timer);\n",
       "        embed_document(root);\n",
       "      } else if (document.readyState == \"complete\") {\n",
       "        attempts++;\n",
       "        if (attempts > 100) {\n",
       "          clearInterval(timer);\n",
       "          console.log(\"Bokeh: ERROR: Unable to run BokehJS code because BokehJS library is missing\");\n",
       "        }\n",
       "      }\n",
       "    }, 10, root)\n",
       "  }\n",
       "})(window);</script>"
      ],
      "text/plain": [
       "RadioBoxGroup(options=['Step by Step Wizard', ...], value='Step by Step Wizard')"
      ]
     },
     "execution_count": 89,
     "metadata": {
      "application/vnd.holoviews_exec.v0+json": {
       "id": "9051"
      }
     },
     "output_type": "execute_result"
    }
   ],
   "source": [
    "wizard_group = pn.widgets.RadioBoxGroup(name='RadioBoxGroup', \n",
    "               options=['Step by Step Wizard', 'Visualizations Wizard', 'Configure Strategy', 'Just show me the Money'])\n",
    "\n",
    "wizard_group"
   ]
  },
  {
   "cell_type": "code",
   "execution_count": 90,
   "metadata": {},
   "outputs": [],
   "source": [
    "#defining wigets for collecting user input and associating them to a column. \n",
    "data_sources = pn.widgets.Select(name='DataSource', max_width = 200, options=['Select a data source', 'Local Files', 'Google Finance', 'API', 'Database'])\n",
    "data_sources.param.watch(show_source, 'value')\n",
    "api_sources = pn.widgets.Select(name='APISource', options=['Quandl', 'Alpaca', 'Quantopia', 'Postman', 'other'])\n",
    "api_key = pn.widgets.PasswordInput(name='API Key', max_width = 200, placeholder='Enter API key/Token here...')\n",
    "api_secret_key = pn.widgets.PasswordInput(name='Secret Key', max_width = 200, placeholder='Enter secret key/Token here...')\n",
    "api_row = pn.Row(api_sources, api_key, api_secret_key)\n",
    "config_col = pn.Column(data_sources, width_policy='auto')\n",
    "inital_right = pn.Column(\"How would you like to proceed?\", wizard_group, start_button)\n",
    "inital_left= pn.Column(welcome_msg)\n",
    "Initialization_pane = pn.Row(inital_left, inital_right, background='#f0f0f0')\n",
    "bt_config = pn.Row(\"Configure BackTest Strategy\", reset_button)\n",
    "macd_pane=pn.panel(bt_config)\n",
    "config_col\n",
    "data_col = pn.Column(reset_button)\n",
    "data_row = pn.Row(\"verify Data\")\n",
    "data_pane = pn.panel(data_row)\n",
    "start_button.on_click(initializer)\n",
    "load_files_button.on_click(load_file_data)\n",
    "fetch_button.on_click(fetch_api_data)"
   ]
  },
  {
   "cell_type": "code",
   "execution_count": 91,
   "metadata": {},
   "outputs": [],
   "source": [
    "panel_tabs_view = pn.Tabs(\n",
    "     (\"Welcome\", Initialization_pane),\n",
    "     (\"Base Data\", data_pane),\n",
    "     (\"Compare Portfolio\"),\n",
    "     (\"Backtest & Benchmark\", macd_pane),\n",
    "     (\"Simulate\"), dynamic=True,\n",
    "        height_policy = 'auto', width_policy = 'auto', align='start', sizing_mode='scale_both', tabs_location='right')"
   ]
  },
  {
   "cell_type": "code",
   "execution_count": 92,
   "metadata": {},
   "outputs": [],
   "source": [
    "#def config_bt_strategy():\n",
    "    #panel_tabs_view[3].clear()\n",
    "config_bt=pn.widgets\n",
    "slow_sma = pn.widgets.TextInput(name='slow')#, value='200')\n",
    "fast_sma = pn.widgets.TextInput(name='fast')#, value='20')\n",
    "ticker_stk = pn.widgets.Select(name='stock', max_width = 100, options=['AMD', 'GOOG'])\n",
    "commission_pct = pn.widgets.TextInput(name='commission', value='0.002')\n",
    "cash_val = pn.widgets.TextInput(name='cash', value='100000')\n",
    "order_type = pn.widgets.Select(name='Order', max_width = 100, options=['True', 'False'])\n",
    "#config=[slow_sma, fast_sma, ticker_stk, commission_pct, cash_val, order_type]\n",
    "run_bt_button = pn.widgets.Button(name='RunBacktest', button_type='primary')\n",
    "run_bt_button.on_click(run_backtest)   \n",
    "config_bt_col = pn.Column('Configure Backtest Strategy')\n",
    "config_sma_row = pn.Row(ticker_stk, slow_sma, fast_sma)\n",
    "config_order_row = pn.Row(cash_val, commission_pct, order_type)                            \n",
    "config_bt_col.append(config_sma_row)\n",
    "config_bt_col.append(config_order_row)\n",
    "config_bt_col.append(run_bt_button)\n",
    "bt_pane=pn.Pane(config_bt_col)\n",
    "panel_tabs_view[3] = ('Configure Backtest Strategy', bt_pane)\n",
    "#panel_tabs_view.active=3 \n",
    "#return view         "
   ]
  },
  {
   "cell_type": "code",
   "execution_count": 93,
   "metadata": {
    "jupyter": {
     "source_hidden": true
    }
   },
   "outputs": [],
   "source": [
    "# global selected_plot\n",
    "# viz_options=['Select Chart']\n",
    "\n",
    "# for plot in plot_selector:\n",
    "#     if plot[0] != '_' and 'plot' not in plot :\n",
    "#         viz_options.append(plot)\n",
    "\n",
    "# plot_option =  pn.widgets.Select(name='Select Visualization', options=viz_options)\n",
    "# show_btn = pn.widgets.Button(name='Plot', button_type='primary', width=1)\n",
    "# # selected_plot=plot_option.value\n",
    "\n",
    "# show_btn.on_click(plot_graph)\n",
    "# btn_row= pn.Row(plot_option, show_btn) \n",
    "# btn_row\n",
    "\n",
    "# plot_option = pn.interact(plot_graph, chart=viz_options)\n",
    "# panel_plot = pn.panel(plot_option)\n",
    "# panel_plot"
   ]
  },
  {
   "cell_type": "code",
   "execution_count": 94,
   "metadata": {},
   "outputs": [
    {
     "name": "stdout",
     "output_type": "stream",
     "text": [
      "Launching server at http://localhost:56357\n"
     ]
    },
    {
     "data": {
      "text/plain": [
       "<bokeh.server.server.Server at 0x1b19842e148>"
      ]
     },
     "execution_count": 94,
     "metadata": {},
     "output_type": "execute_result"
    }
   ],
   "source": [
    "panel_tabs_view.show()"
   ]
  },
  {
   "cell_type": "code",
   "execution_count": 95,
   "metadata": {},
   "outputs": [],
   "source": [
    "def get_financial_plots(): # test function\n",
    "    \"function to create financial ratio plots\"\n",
    "    df_item = df_item.sort_index()\n",
    "    if 'High' in df_item.columns:\n",
    "        candle = go.Figure(data=[go.Candlestick(x=df_item.index,\n",
    "                        open = df_item['Open'],\n",
    "                        high =df_item['High'],\n",
    "                        low=df_item['Low'],\n",
    "                        close=df_item['Close'])])\n",
    "    else:\n",
    "        candle=df_item['Close'].hvplot.line()\n",
    "     \n",
    "    daily_returns = df_item['Close'].pct_change().hvplot.line()\n",
    "    cumulative_returns = (1 + df_item['Close'].pct_change()).cumprod().hvplot.line()\n",
    "    std_180=df_item['Close'].rolling(window=180).std().hvplot.line()\n",
    "    mean_180= df_item['Close'].rolling(window=180).mean().hvplot.line()\n",
    "    sma50 = np.round(df_item.rolling(window = 50).mean(), 2)\n",
    "    sma50_plot = sma50.hvplot.line(x='Date', y='Close',  grid=True, title=\"50 day Moving average\")\n",
    "    combo_plot =  daily_returns * cumulative_returns * std_180 * mean_180 * sma50_plot\n",
    "    #return combo_plot\n",
    "#amd_df =pd.read_csv('./resources/amd.csv', index_col='Date', parse_dates=True)\n",
    "\n"
   ]
  },
  {
   "cell_type": "code",
   "execution_count": 96,
   "metadata": {},
   "outputs": [],
   "source": [
    "#get_financial_plots(amd_df)\n"
   ]
  },
  {
   "cell_type": "code",
   "execution_count": null,
   "metadata": {},
   "outputs": [],
   "source": []
  }
 ],
 "metadata": {
  "kernelspec": {
   "display_name": "Anaconda PyvizEnv",
   "language": "python",
   "name": "pyvizenv"
  },
  "language_info": {
   "codemirror_mode": {
    "name": "ipython",
    "version": 3
   },
   "file_extension": ".py",
   "mimetype": "text/x-python",
   "name": "python",
   "nbconvert_exporter": "python",
   "pygments_lexer": "ipython3",
   "version": "3.7.7"
  }
 },
 "nbformat": 4,
 "nbformat_minor": 4
}
